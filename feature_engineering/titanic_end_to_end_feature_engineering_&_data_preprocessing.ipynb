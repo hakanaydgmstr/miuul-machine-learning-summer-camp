{
 "cells": [
  {
   "cell_type": "code",
   "execution_count": 344,
   "metadata": {},
   "outputs": [],
   "source": [
    "import numpy as np\n",
    "import pandas as pd\n",
    "import seaborn as sns\n",
    "import matplotlib.pyplot as plt\n",
    "# !pip install missingno\n",
    "import missingno as msno\n",
    "from datetime import date\n",
    "from sklearn.metrics import accuracy_score\n",
    "from sklearn.model_selection import train_test_split\n",
    "from sklearn.neighbors import LocalOutlierFactor\n",
    "from sklearn.preprocessing import MinMaxScaler, LabelEncoder, StandardScaler, RobustScaler\n",
    "\n",
    "pd.set_option(\"display.max_columns\", None)\n",
    "pd.set_option(\"display.max_rows\", None)\n",
    "pd.set_option(\"display.float_format\", lambda x: '%.3f' % x)\n",
    "pd.set_option(\"display.width\", 500)"
   ]
  },
  {
   "cell_type": "code",
   "execution_count": 345,
   "metadata": {},
   "outputs": [],
   "source": [
    "def load_application_train():\n",
    "    data = pd.read_csv(\"datasets/application_train.csv\")\n",
    "    return data"
   ]
  },
  {
   "cell_type": "code",
   "execution_count": 346,
   "metadata": {},
   "outputs": [],
   "source": [
    "def load():\n",
    "    data = pd.read_csv(\"datasets/titanic.csv\")\n",
    "    return data"
   ]
  },
  {
   "cell_type": "code",
   "execution_count": 453,
   "metadata": {},
   "outputs": [],
   "source": [
    "def catch_outliers(dataframe, num_col, q1=0.25, q3=0.75):\n",
    "    quartile1 = dataframe[num_col].quantile(q1)\n",
    "    quartile3 = dataframe[num_col].quantile(q3)\n",
    "    iqr = quartile3 - quartile1\n",
    "    up_limit = quartile3 + 1.5 * iqr\n",
    "    low_limit = quartile1 - 1.5 * iqr\n",
    "\n",
    "    # outliers = [dataframe[(dataframe[num_col] < low) | (dataframe[num_col] > up)]]\n",
    "    return low_limit, up_limit\n",
    "\n",
    "\n",
    "def check_outlier(dataframe, num_col):\n",
    "    low_limit, up_limit = catch_outliers(dataframe, num_col)\n",
    "\n",
    "    if dataframe[(dataframe[num_col] < low_limit) | (dataframe[num_col] > up_limit)].any(axis=None):\n",
    "        return True\n",
    "    else:\n",
    "        return False\n",
    "\n",
    "    \n",
    "def grab_col_names(dataframe, cat_th=10, car_th=20):\n",
    "    \"\"\"\n",
    "    Veri setindeki kategorik, numerik ve kategorik fakat kardinal değişkenlerin isimlerini verir.\n",
    "\n",
    "    Parameters\n",
    "    ----------\n",
    "    dataframe: dataframe\n",
    "        Değişken isimleri alınmak istenen dataframe'dir.\n",
    "    cat_th: int, float\n",
    "        Numerik fakat kategorik olan değişkenler için sınıf eşik değeri.\n",
    "    car_th: int, float\n",
    "        Kategorik fakat kardinal değişkenler için sınıf eşik değeri.\n",
    "\n",
    "    Returns\n",
    "    -------\n",
    "    cat_cols: list\n",
    "        Kategorik değişken listesi.\n",
    "    num_cols: list\n",
    "        Numerik değişken listesi.\n",
    "    cat_but_car: list\n",
    "        Kategorik görünümlü kardinal değişken listesi.\n",
    "\n",
    "    Notes\n",
    "    ------\n",
    "    cat_cols + num_cols + cat_but_car = toplam değişken sayısı\n",
    "    num_but_cat, cat_cols'un içerisinde.\n",
    "\n",
    "    \"\"\"\n",
    "\n",
    "    # cat_cols, cat_but_car\n",
    "    cat_cols = [col for col in dataframe.columns if str(dataframe[col].dtypes) in [\"object\", \"category\", \"bool\"]]\n",
    "\n",
    "    num_but_cats = [col for col in dataframe.columns if dataframe[col].dtypes in [\"uint8\", \"int32\", \"int64\", \"float64\"] and\n",
    "                    dataframe[col].nunique() < cat_th]\n",
    "\n",
    "    cat_but_cars = [col for col in dataframe.columns if str(dataframe[col].dtypes) in [\"object\", \"category\"] and\n",
    "                    dataframe[col].nunique() > car_th]\n",
    "\n",
    "    cat_cols = cat_cols + num_but_cats\n",
    "\n",
    "    cat_cols = [col for col in cat_cols if col not in cat_but_cars]\n",
    "\n",
    "    # num_cols\n",
    "    num_cols = [col for col in dataframe.columns if dataframe[col].dtypes != \"O\"]\n",
    "    num_cols = [col for col in num_cols if col not in num_but_cats]\n",
    "\n",
    "    print(f\"Observations: {dataframe.shape[0]}\")\n",
    "    print(f\"Variables: {dataframe.shape[1]}\")\n",
    "    print(f\"cat_cols: {len(cat_cols)}\")\n",
    "    print(f\"num_cols: {len(num_cols)}\")\n",
    "    print(f\"cat_but_car: {len(cat_but_cars)}\")\n",
    "    print(f\"num_but_cat: {len(num_but_cats)}\")\n",
    "\n",
    "    return cat_cols, num_cols, cat_but_cars\n",
    "\n",
    "\n",
    "def reach_outliers(dataframe, num_col, index=False):\n",
    "    up_limit, low_limit = catch_outliers(dataframe, num_col)\n",
    "\n",
    "    if len(dataframe[(dataframe[num_col] < low_limit) | (dataframe[num_col] > up_limit)]) > 10:\n",
    "        print(dataframe[(dataframe[num_col] < low_limit) | (dataframe[num_col] > up_limit)].head())\n",
    "    else:\n",
    "        print(dataframe[(dataframe[num_col] < low_limit) | (dataframe[num_col] > up_limit)])\n",
    "\n",
    "    if index:\n",
    "        return dataframe[(dataframe[num_col] < low_limit) | (dataframe[num_col] > up_limit)].index\n",
    "\n",
    "\n",
    "def remove_outliers(dataframe, num_col):\n",
    "    up_limit, low_limit = catch_outliers(dataframe, num_col)\n",
    "    df_without_outliers = dataframe[~((dataframe[num_col] < low_limit) | (dataframe[num_col] > up_limit))]\n",
    "\n",
    "    return df_without_outliers\n",
    "\n",
    "\n",
    "def replace_with_thresholds(dataframe, num_col):\n",
    "    low_limit, up_limit = catch_outliers(dataframe, num_col)\n",
    "\n",
    "    dataframe.loc[(dataframe[num_col] < low_limit), num_col] = low_limit\n",
    "    dataframe.loc[(dataframe[num_col] > up_limit), num_col] = up_limit\n",
    "    \n",
    "def missing_values_table(dataframe, na_name=False):\n",
    "    # eksik veri bulunduran değişkenlerin seçilmesi\n",
    "    na_columns = [col for col in dataframe.columns if dataframe[col].isnull().sum() > 0]\n",
    "    \n",
    "    # değişkenlerdeki eksik değer miktarı\n",
    "    n_miss = dataframe[na_columns].isnull().sum().sort_values(ascending=False)\n",
    "    # değişkenlerdeki eksik değer oranı\n",
    "    ratio = (dataframe[na_columns].isnull().sum() / len(dataframe) * 100).sort_values(ascending=False)\n",
    "    \n",
    "    # yukardaki hesapladığımız miktar ve oran bilgilerini içeren bir df oluşturulması\n",
    "    missing_df = pd.concat([n_miss, np.round(ratio, 2)], axis=1, keys=['n_miss', 'ratio'])\n",
    "    \n",
    "    print(missing_df, end='\\n')\n",
    "    \n",
    "    if na_name:\n",
    "        return na_columns\n",
    "    \n",
    "def label_encoder(dataframe, binary_col):\n",
    "    labelencoder = LabelEncoder()\n",
    "    dataframe[binary_col] = labelencoder.fit_transform(dataframe[binary_col])\n",
    "    return dataframe\n",
    "\n",
    "def one_hot_encoder(dataframe, categorical_cols, drop_first=True):\n",
    "    # fonksiyona girilen dataframe içerisinden kategorik değişkenleri one hot encoding işlemine sokuyoruz\n",
    "    # sonrasında ana dataframe'e bunu kaydederek fonksiyon sonunda bu df'i döndürüyoruz.\n",
    "    dataframe = pd.get_dummies(dataframe, columns=categorical_cols, drop_first=drop_first)\n",
    "    return dataframe\n",
    "\n",
    "def rare_analyser(dataframe, target, cat_cols):\n",
    "    for col in cat_cols:\n",
    "        print(col, \":\", len(dataframe[col].value_counts())) # değişkenin içerisinde kaç tane sınıf var?\n",
    "        \n",
    "        # değişkendeki sınıfların toplamları, oranları ve target değişkenine göre oranlarını veren dataframe\n",
    "        print(pd.DataFrame({\"COUNT\": dataframe[col].value_counts(),\n",
    "                           \"RATIO\": dataframe[col].value_counts() / len(dataframe),\n",
    "                           \"TARGET_MEAN\": dataframe.groupby(col)[target].mean()}), end=\"\\n\\n\\n\")\n",
    "\n",
    "def rare_encoder(dataframe, rare_perc):\n",
    "    # dataframe'in kopyasını aldık\n",
    "    temp_df = dataframe.copy()\n",
    "    \n",
    "    # eğer değişken kategorikse ve içerisindeki sınıflardan herhangi birisinin oranı rare_perc'de verilen orandan az ise \n",
    "    # bu değişkeni rare_columns'a ata\n",
    "    rare_columns = [col for col in temp_df.columns if temp_df[col].dtypes == 'O' and \n",
    "                    (temp_df[col].value_counts() / len(temp_df) < rare_perc).any(axis=None)]\n",
    "    \n",
    "    for var in rare_columns: # seçilen rare değişkenler içerisinde gez\n",
    "        tmp = temp_df[var].value_counts() / len(temp_df) # temp_df de var değişkeninin oranını al\n",
    "        rare_labels = tmp[tmp < rare_perc].index # eğer alınan oran rare_perc'den küçükse bunun label'ını al\n",
    "        temp_df[var] = np.where(temp_df[var].isin(rare_labels), \"Rare\", temp_df[var]) # bu label yerine 'Rare' yazdır\n",
    "        \n",
    "    return temp_df"
   ]
  },
  {
   "cell_type": "markdown",
   "metadata": {},
   "source": [
    "# Titanic Uçtan Uca Feature Engineering & Data Preprocessing"
   ]
  },
  {
   "cell_type": "code",
   "execution_count": 454,
   "metadata": {},
   "outputs": [],
   "source": [
    "df = load()"
   ]
  },
  {
   "cell_type": "code",
   "execution_count": 455,
   "metadata": {},
   "outputs": [
    {
     "data": {
      "text/plain": [
       "(891, 12)"
      ]
     },
     "execution_count": 455,
     "metadata": {},
     "output_type": "execute_result"
    }
   ],
   "source": [
    "df.shape"
   ]
  },
  {
   "cell_type": "code",
   "execution_count": 456,
   "metadata": {},
   "outputs": [
    {
     "data": {
      "text/html": [
       "<div>\n",
       "<style scoped>\n",
       "    .dataframe tbody tr th:only-of-type {\n",
       "        vertical-align: middle;\n",
       "    }\n",
       "\n",
       "    .dataframe tbody tr th {\n",
       "        vertical-align: top;\n",
       "    }\n",
       "\n",
       "    .dataframe thead th {\n",
       "        text-align: right;\n",
       "    }\n",
       "</style>\n",
       "<table border=\"1\" class=\"dataframe\">\n",
       "  <thead>\n",
       "    <tr style=\"text-align: right;\">\n",
       "      <th></th>\n",
       "      <th>PassengerId</th>\n",
       "      <th>Survived</th>\n",
       "      <th>Pclass</th>\n",
       "      <th>Name</th>\n",
       "      <th>Sex</th>\n",
       "      <th>Age</th>\n",
       "      <th>SibSp</th>\n",
       "      <th>Parch</th>\n",
       "      <th>Ticket</th>\n",
       "      <th>Fare</th>\n",
       "      <th>Cabin</th>\n",
       "      <th>Embarked</th>\n",
       "    </tr>\n",
       "  </thead>\n",
       "  <tbody>\n",
       "    <tr>\n",
       "      <th>0</th>\n",
       "      <td>1</td>\n",
       "      <td>0</td>\n",
       "      <td>3</td>\n",
       "      <td>Braund, Mr. Owen Harris</td>\n",
       "      <td>male</td>\n",
       "      <td>22.000</td>\n",
       "      <td>1</td>\n",
       "      <td>0</td>\n",
       "      <td>A/5 21171</td>\n",
       "      <td>7.250</td>\n",
       "      <td>NaN</td>\n",
       "      <td>S</td>\n",
       "    </tr>\n",
       "    <tr>\n",
       "      <th>1</th>\n",
       "      <td>2</td>\n",
       "      <td>1</td>\n",
       "      <td>1</td>\n",
       "      <td>Cumings, Mrs. John Bradley (Florence Briggs Th...</td>\n",
       "      <td>female</td>\n",
       "      <td>38.000</td>\n",
       "      <td>1</td>\n",
       "      <td>0</td>\n",
       "      <td>PC 17599</td>\n",
       "      <td>71.283</td>\n",
       "      <td>C85</td>\n",
       "      <td>C</td>\n",
       "    </tr>\n",
       "    <tr>\n",
       "      <th>2</th>\n",
       "      <td>3</td>\n",
       "      <td>1</td>\n",
       "      <td>3</td>\n",
       "      <td>Heikkinen, Miss. Laina</td>\n",
       "      <td>female</td>\n",
       "      <td>26.000</td>\n",
       "      <td>0</td>\n",
       "      <td>0</td>\n",
       "      <td>STON/O2. 3101282</td>\n",
       "      <td>7.925</td>\n",
       "      <td>NaN</td>\n",
       "      <td>S</td>\n",
       "    </tr>\n",
       "    <tr>\n",
       "      <th>3</th>\n",
       "      <td>4</td>\n",
       "      <td>1</td>\n",
       "      <td>1</td>\n",
       "      <td>Futrelle, Mrs. Jacques Heath (Lily May Peel)</td>\n",
       "      <td>female</td>\n",
       "      <td>35.000</td>\n",
       "      <td>1</td>\n",
       "      <td>0</td>\n",
       "      <td>113803</td>\n",
       "      <td>53.100</td>\n",
       "      <td>C123</td>\n",
       "      <td>S</td>\n",
       "    </tr>\n",
       "    <tr>\n",
       "      <th>4</th>\n",
       "      <td>5</td>\n",
       "      <td>0</td>\n",
       "      <td>3</td>\n",
       "      <td>Allen, Mr. William Henry</td>\n",
       "      <td>male</td>\n",
       "      <td>35.000</td>\n",
       "      <td>0</td>\n",
       "      <td>0</td>\n",
       "      <td>373450</td>\n",
       "      <td>8.050</td>\n",
       "      <td>NaN</td>\n",
       "      <td>S</td>\n",
       "    </tr>\n",
       "  </tbody>\n",
       "</table>\n",
       "</div>"
      ],
      "text/plain": [
       "   PassengerId  Survived  Pclass                                               Name     Sex    Age  SibSp  Parch            Ticket   Fare Cabin Embarked\n",
       "0            1         0       3                            Braund, Mr. Owen Harris    male 22.000      1      0         A/5 21171  7.250   NaN        S\n",
       "1            2         1       1  Cumings, Mrs. John Bradley (Florence Briggs Th...  female 38.000      1      0          PC 17599 71.283   C85        C\n",
       "2            3         1       3                             Heikkinen, Miss. Laina  female 26.000      0      0  STON/O2. 3101282  7.925   NaN        S\n",
       "3            4         1       1       Futrelle, Mrs. Jacques Heath (Lily May Peel)  female 35.000      1      0            113803 53.100  C123        S\n",
       "4            5         0       3                           Allen, Mr. William Henry    male 35.000      0      0            373450  8.050   NaN        S"
      ]
     },
     "execution_count": 456,
     "metadata": {},
     "output_type": "execute_result"
    }
   ],
   "source": [
    "df.head()"
   ]
  },
  {
   "cell_type": "markdown",
   "metadata": {},
   "source": [
    "Öncelikle dataframe içindeki değişkenlerin isimlerini, hepsi büyük harfle yazılacak şekilde değiştirelim."
   ]
  },
  {
   "cell_type": "code",
   "execution_count": 457,
   "metadata": {},
   "outputs": [],
   "source": [
    "df.columns = [col.upper() for col in df.columns]"
   ]
  },
  {
   "cell_type": "code",
   "execution_count": 458,
   "metadata": {},
   "outputs": [
    {
     "data": {
      "text/html": [
       "<div>\n",
       "<style scoped>\n",
       "    .dataframe tbody tr th:only-of-type {\n",
       "        vertical-align: middle;\n",
       "    }\n",
       "\n",
       "    .dataframe tbody tr th {\n",
       "        vertical-align: top;\n",
       "    }\n",
       "\n",
       "    .dataframe thead th {\n",
       "        text-align: right;\n",
       "    }\n",
       "</style>\n",
       "<table border=\"1\" class=\"dataframe\">\n",
       "  <thead>\n",
       "    <tr style=\"text-align: right;\">\n",
       "      <th></th>\n",
       "      <th>PASSENGERID</th>\n",
       "      <th>SURVIVED</th>\n",
       "      <th>PCLASS</th>\n",
       "      <th>NAME</th>\n",
       "      <th>SEX</th>\n",
       "      <th>AGE</th>\n",
       "      <th>SIBSP</th>\n",
       "      <th>PARCH</th>\n",
       "      <th>TICKET</th>\n",
       "      <th>FARE</th>\n",
       "      <th>CABIN</th>\n",
       "      <th>EMBARKED</th>\n",
       "    </tr>\n",
       "  </thead>\n",
       "  <tbody>\n",
       "    <tr>\n",
       "      <th>0</th>\n",
       "      <td>1</td>\n",
       "      <td>0</td>\n",
       "      <td>3</td>\n",
       "      <td>Braund, Mr. Owen Harris</td>\n",
       "      <td>male</td>\n",
       "      <td>22.000</td>\n",
       "      <td>1</td>\n",
       "      <td>0</td>\n",
       "      <td>A/5 21171</td>\n",
       "      <td>7.250</td>\n",
       "      <td>NaN</td>\n",
       "      <td>S</td>\n",
       "    </tr>\n",
       "    <tr>\n",
       "      <th>1</th>\n",
       "      <td>2</td>\n",
       "      <td>1</td>\n",
       "      <td>1</td>\n",
       "      <td>Cumings, Mrs. John Bradley (Florence Briggs Th...</td>\n",
       "      <td>female</td>\n",
       "      <td>38.000</td>\n",
       "      <td>1</td>\n",
       "      <td>0</td>\n",
       "      <td>PC 17599</td>\n",
       "      <td>71.283</td>\n",
       "      <td>C85</td>\n",
       "      <td>C</td>\n",
       "    </tr>\n",
       "    <tr>\n",
       "      <th>2</th>\n",
       "      <td>3</td>\n",
       "      <td>1</td>\n",
       "      <td>3</td>\n",
       "      <td>Heikkinen, Miss. Laina</td>\n",
       "      <td>female</td>\n",
       "      <td>26.000</td>\n",
       "      <td>0</td>\n",
       "      <td>0</td>\n",
       "      <td>STON/O2. 3101282</td>\n",
       "      <td>7.925</td>\n",
       "      <td>NaN</td>\n",
       "      <td>S</td>\n",
       "    </tr>\n",
       "    <tr>\n",
       "      <th>3</th>\n",
       "      <td>4</td>\n",
       "      <td>1</td>\n",
       "      <td>1</td>\n",
       "      <td>Futrelle, Mrs. Jacques Heath (Lily May Peel)</td>\n",
       "      <td>female</td>\n",
       "      <td>35.000</td>\n",
       "      <td>1</td>\n",
       "      <td>0</td>\n",
       "      <td>113803</td>\n",
       "      <td>53.100</td>\n",
       "      <td>C123</td>\n",
       "      <td>S</td>\n",
       "    </tr>\n",
       "    <tr>\n",
       "      <th>4</th>\n",
       "      <td>5</td>\n",
       "      <td>0</td>\n",
       "      <td>3</td>\n",
       "      <td>Allen, Mr. William Henry</td>\n",
       "      <td>male</td>\n",
       "      <td>35.000</td>\n",
       "      <td>0</td>\n",
       "      <td>0</td>\n",
       "      <td>373450</td>\n",
       "      <td>8.050</td>\n",
       "      <td>NaN</td>\n",
       "      <td>S</td>\n",
       "    </tr>\n",
       "  </tbody>\n",
       "</table>\n",
       "</div>"
      ],
      "text/plain": [
       "   PASSENGERID  SURVIVED  PCLASS                                               NAME     SEX    AGE  SIBSP  PARCH            TICKET   FARE CABIN EMBARKED\n",
       "0            1         0       3                            Braund, Mr. Owen Harris    male 22.000      1      0         A/5 21171  7.250   NaN        S\n",
       "1            2         1       1  Cumings, Mrs. John Bradley (Florence Briggs Th...  female 38.000      1      0          PC 17599 71.283   C85        C\n",
       "2            3         1       3                             Heikkinen, Miss. Laina  female 26.000      0      0  STON/O2. 3101282  7.925   NaN        S\n",
       "3            4         1       1       Futrelle, Mrs. Jacques Heath (Lily May Peel)  female 35.000      1      0            113803 53.100  C123        S\n",
       "4            5         0       3                           Allen, Mr. William Henry    male 35.000      0      0            373450  8.050   NaN        S"
      ]
     },
     "execution_count": 458,
     "metadata": {},
     "output_type": "execute_result"
    }
   ],
   "source": [
    "df.head()"
   ]
  },
  {
   "cell_type": "markdown",
   "metadata": {},
   "source": [
    "## 1. Feature Engineering"
   ]
  },
  {
   "cell_type": "markdown",
   "metadata": {},
   "source": [
    "Uygulamanın öncesinde oluşturduğumuz değişkenleri şimdi burada tekrar uygulayalım."
   ]
  },
  {
   "cell_type": "markdown",
   "metadata": {},
   "source": [
    "<b>Cabin Bool</b>"
   ]
  },
  {
   "cell_type": "code",
   "execution_count": 459,
   "metadata": {},
   "outputs": [],
   "source": [
    "df[\"NEW_CABIN_BOOL\"] = df[\"CABIN\"].notnull().astype(int)"
   ]
  },
  {
   "cell_type": "markdown",
   "metadata": {},
   "source": [
    "<b>Name Count</b>"
   ]
  },
  {
   "cell_type": "code",
   "execution_count": 460,
   "metadata": {},
   "outputs": [],
   "source": [
    "df[\"NEW_NAME_COUNT\"] = df[\"NAME\"].str.len()"
   ]
  },
  {
   "cell_type": "markdown",
   "metadata": {},
   "source": [
    "<b>Name Word Count</b>"
   ]
  },
  {
   "cell_type": "code",
   "execution_count": 461,
   "metadata": {},
   "outputs": [],
   "source": [
    "df[\"NEW_NAME_WORD_COUNT\"] = df[\"NAME\"].apply(lambda x: len(str(x).split(\" \")))"
   ]
  },
  {
   "cell_type": "markdown",
   "metadata": {},
   "source": [
    "<b>Name Dr</b>"
   ]
  },
  {
   "cell_type": "code",
   "execution_count": 462,
   "metadata": {},
   "outputs": [],
   "source": [
    "df[\"NEW_NAME_DR\"] = df[\"NAME\"].apply(lambda x: len([x for x in x.split() if x.startswith('Dr')]))"
   ]
  },
  {
   "cell_type": "markdown",
   "metadata": {},
   "source": [
    "<b>Name Title</b>"
   ]
  },
  {
   "cell_type": "code",
   "execution_count": 463,
   "metadata": {},
   "outputs": [],
   "source": [
    "df[\"NEW_TITLE\"] = df[\"NAME\"].str.extract(' ([A-Za-z]+)\\.', expand=False)"
   ]
  },
  {
   "cell_type": "markdown",
   "metadata": {},
   "source": [
    "<b>Family Size</b>"
   ]
  },
  {
   "cell_type": "code",
   "execution_count": 464,
   "metadata": {},
   "outputs": [],
   "source": [
    "df[\"NEW_FAMILY_SIZE\"] = df[\"SIBSP\"] + df[\"PARCH\"] + 1"
   ]
  },
  {
   "cell_type": "markdown",
   "metadata": {},
   "source": [
    "<b>Age Pclass</b>"
   ]
  },
  {
   "cell_type": "code",
   "execution_count": 465,
   "metadata": {},
   "outputs": [],
   "source": [
    "df[\"NEW_AGE_PCLASS\"] = df[\"AGE\"] * df[\"PARCH\"]"
   ]
  },
  {
   "cell_type": "markdown",
   "metadata": {},
   "source": [
    "<b>Is Alone</b>"
   ]
  },
  {
   "cell_type": "code",
   "execution_count": 466,
   "metadata": {},
   "outputs": [],
   "source": [
    "df.loc[((df[\"SIBSP\"] + df[\"PARCH\"]) > 0), \"NEW_IS_ALONE\"] = \"NO\"\n",
    "df.loc[((df[\"SIBSP\"] + df[\"PARCH\"]) == 0), \"NEW_IS_ALONE\"] = \"YES\""
   ]
  },
  {
   "cell_type": "markdown",
   "metadata": {},
   "source": [
    "<b>Age Level</b>"
   ]
  },
  {
   "cell_type": "code",
   "execution_count": 467,
   "metadata": {},
   "outputs": [],
   "source": [
    "df.loc[(df[\"AGE\"] < 18), 'NEW_AGE_CAT'] = 'young'\n",
    "df.loc[(df[\"AGE\"] >= 18) & (df[\"AGE\"] < 56), 'NEW_AGE_CAT'] = 'mature'\n",
    "df.loc[(df[\"AGE\"] >= 56), 'NEW_AGE_CAT'] = 'senior'"
   ]
  },
  {
   "cell_type": "markdown",
   "metadata": {},
   "source": [
    "<b>Sex x Age</b>"
   ]
  },
  {
   "cell_type": "code",
   "execution_count": 468,
   "metadata": {},
   "outputs": [],
   "source": [
    "df.loc[(df[\"SEX\"] == 'male') & (df['AGE'] <= 21), 'NEW_SEX_CAT'] = 'youngmale'\n",
    "df.loc[(df[\"SEX\"] == 'male') & ((df['AGE'] > 21) & (df[\"AGE\"] <= 50)), 'NEW_SEX_CAT'] = 'maturemale'\n",
    "df.loc[(df[\"SEX\"] == 'male') & (df['AGE'] > 50), 'NEW_SEX_CAT'] = 'seniormale'\n",
    "df.loc[(df[\"SEX\"] == 'female') & (df['AGE'] <= 21), 'NEW_SEX_CAT'] = 'youngfemale'\n",
    "df.loc[(df[\"SEX\"] == 'female') & ((df['AGE'] > 21) & (df[\"AGE\"] <= 50)), 'NEW_SEX_CAT'] = 'maturefemale'\n",
    "df.loc[(df[\"SEX\"] == 'female') & (df['AGE'] > 50), 'NEW_SEX_CAT'] = 'seniorfemale'"
   ]
  },
  {
   "cell_type": "code",
   "execution_count": 469,
   "metadata": {},
   "outputs": [
    {
     "data": {
      "text/plain": [
       "(891, 22)"
      ]
     },
     "execution_count": 469,
     "metadata": {},
     "output_type": "execute_result"
    }
   ],
   "source": [
    "df.shape"
   ]
  },
  {
   "cell_type": "markdown",
   "metadata": {},
   "source": [
    "Çalışmanın başında verisetinde 12 tane değişken vardı. Bizim yapmış olduğumuz işlemlerle beraber bu sayı 22'ye kadar çıktı. "
   ]
  },
  {
   "cell_type": "code",
   "execution_count": 470,
   "metadata": {},
   "outputs": [
    {
     "data": {
      "text/html": [
       "<div>\n",
       "<style scoped>\n",
       "    .dataframe tbody tr th:only-of-type {\n",
       "        vertical-align: middle;\n",
       "    }\n",
       "\n",
       "    .dataframe tbody tr th {\n",
       "        vertical-align: top;\n",
       "    }\n",
       "\n",
       "    .dataframe thead th {\n",
       "        text-align: right;\n",
       "    }\n",
       "</style>\n",
       "<table border=\"1\" class=\"dataframe\">\n",
       "  <thead>\n",
       "    <tr style=\"text-align: right;\">\n",
       "      <th></th>\n",
       "      <th>PASSENGERID</th>\n",
       "      <th>SURVIVED</th>\n",
       "      <th>PCLASS</th>\n",
       "      <th>NAME</th>\n",
       "      <th>SEX</th>\n",
       "      <th>AGE</th>\n",
       "      <th>SIBSP</th>\n",
       "      <th>PARCH</th>\n",
       "      <th>TICKET</th>\n",
       "      <th>FARE</th>\n",
       "      <th>CABIN</th>\n",
       "      <th>EMBARKED</th>\n",
       "      <th>NEW_CABIN_BOOL</th>\n",
       "      <th>NEW_NAME_COUNT</th>\n",
       "      <th>NEW_NAME_WORD_COUNT</th>\n",
       "      <th>NEW_NAME_DR</th>\n",
       "      <th>NEW_TITLE</th>\n",
       "      <th>NEW_FAMILY_SIZE</th>\n",
       "      <th>NEW_AGE_PCLASS</th>\n",
       "      <th>NEW_IS_ALONE</th>\n",
       "      <th>NEW_AGE_CAT</th>\n",
       "      <th>NEW_SEX_CAT</th>\n",
       "    </tr>\n",
       "  </thead>\n",
       "  <tbody>\n",
       "    <tr>\n",
       "      <th>0</th>\n",
       "      <td>1</td>\n",
       "      <td>0</td>\n",
       "      <td>3</td>\n",
       "      <td>Braund, Mr. Owen Harris</td>\n",
       "      <td>male</td>\n",
       "      <td>22.000</td>\n",
       "      <td>1</td>\n",
       "      <td>0</td>\n",
       "      <td>A/5 21171</td>\n",
       "      <td>7.250</td>\n",
       "      <td>NaN</td>\n",
       "      <td>S</td>\n",
       "      <td>0</td>\n",
       "      <td>23</td>\n",
       "      <td>4</td>\n",
       "      <td>0</td>\n",
       "      <td>Mr</td>\n",
       "      <td>2</td>\n",
       "      <td>0.000</td>\n",
       "      <td>NO</td>\n",
       "      <td>mature</td>\n",
       "      <td>maturemale</td>\n",
       "    </tr>\n",
       "    <tr>\n",
       "      <th>1</th>\n",
       "      <td>2</td>\n",
       "      <td>1</td>\n",
       "      <td>1</td>\n",
       "      <td>Cumings, Mrs. John Bradley (Florence Briggs Th...</td>\n",
       "      <td>female</td>\n",
       "      <td>38.000</td>\n",
       "      <td>1</td>\n",
       "      <td>0</td>\n",
       "      <td>PC 17599</td>\n",
       "      <td>71.283</td>\n",
       "      <td>C85</td>\n",
       "      <td>C</td>\n",
       "      <td>1</td>\n",
       "      <td>51</td>\n",
       "      <td>7</td>\n",
       "      <td>0</td>\n",
       "      <td>Mrs</td>\n",
       "      <td>2</td>\n",
       "      <td>0.000</td>\n",
       "      <td>NO</td>\n",
       "      <td>mature</td>\n",
       "      <td>maturefemale</td>\n",
       "    </tr>\n",
       "    <tr>\n",
       "      <th>2</th>\n",
       "      <td>3</td>\n",
       "      <td>1</td>\n",
       "      <td>3</td>\n",
       "      <td>Heikkinen, Miss. Laina</td>\n",
       "      <td>female</td>\n",
       "      <td>26.000</td>\n",
       "      <td>0</td>\n",
       "      <td>0</td>\n",
       "      <td>STON/O2. 3101282</td>\n",
       "      <td>7.925</td>\n",
       "      <td>NaN</td>\n",
       "      <td>S</td>\n",
       "      <td>0</td>\n",
       "      <td>22</td>\n",
       "      <td>3</td>\n",
       "      <td>0</td>\n",
       "      <td>Miss</td>\n",
       "      <td>1</td>\n",
       "      <td>0.000</td>\n",
       "      <td>YES</td>\n",
       "      <td>mature</td>\n",
       "      <td>maturefemale</td>\n",
       "    </tr>\n",
       "    <tr>\n",
       "      <th>3</th>\n",
       "      <td>4</td>\n",
       "      <td>1</td>\n",
       "      <td>1</td>\n",
       "      <td>Futrelle, Mrs. Jacques Heath (Lily May Peel)</td>\n",
       "      <td>female</td>\n",
       "      <td>35.000</td>\n",
       "      <td>1</td>\n",
       "      <td>0</td>\n",
       "      <td>113803</td>\n",
       "      <td>53.100</td>\n",
       "      <td>C123</td>\n",
       "      <td>S</td>\n",
       "      <td>1</td>\n",
       "      <td>44</td>\n",
       "      <td>7</td>\n",
       "      <td>0</td>\n",
       "      <td>Mrs</td>\n",
       "      <td>2</td>\n",
       "      <td>0.000</td>\n",
       "      <td>NO</td>\n",
       "      <td>mature</td>\n",
       "      <td>maturefemale</td>\n",
       "    </tr>\n",
       "    <tr>\n",
       "      <th>4</th>\n",
       "      <td>5</td>\n",
       "      <td>0</td>\n",
       "      <td>3</td>\n",
       "      <td>Allen, Mr. William Henry</td>\n",
       "      <td>male</td>\n",
       "      <td>35.000</td>\n",
       "      <td>0</td>\n",
       "      <td>0</td>\n",
       "      <td>373450</td>\n",
       "      <td>8.050</td>\n",
       "      <td>NaN</td>\n",
       "      <td>S</td>\n",
       "      <td>0</td>\n",
       "      <td>24</td>\n",
       "      <td>4</td>\n",
       "      <td>0</td>\n",
       "      <td>Mr</td>\n",
       "      <td>1</td>\n",
       "      <td>0.000</td>\n",
       "      <td>YES</td>\n",
       "      <td>mature</td>\n",
       "      <td>maturemale</td>\n",
       "    </tr>\n",
       "  </tbody>\n",
       "</table>\n",
       "</div>"
      ],
      "text/plain": [
       "   PASSENGERID  SURVIVED  PCLASS                                               NAME     SEX    AGE  SIBSP  PARCH            TICKET   FARE CABIN EMBARKED  NEW_CABIN_BOOL  NEW_NAME_COUNT  NEW_NAME_WORD_COUNT  NEW_NAME_DR NEW_TITLE  NEW_FAMILY_SIZE  NEW_AGE_PCLASS NEW_IS_ALONE NEW_AGE_CAT   NEW_SEX_CAT\n",
       "0            1         0       3                            Braund, Mr. Owen Harris    male 22.000      1      0         A/5 21171  7.250   NaN        S               0              23                    4            0        Mr                2           0.000           NO      mature    maturemale\n",
       "1            2         1       1  Cumings, Mrs. John Bradley (Florence Briggs Th...  female 38.000      1      0          PC 17599 71.283   C85        C               1              51                    7            0       Mrs                2           0.000           NO      mature  maturefemale\n",
       "2            3         1       3                             Heikkinen, Miss. Laina  female 26.000      0      0  STON/O2. 3101282  7.925   NaN        S               0              22                    3            0      Miss                1           0.000          YES      mature  maturefemale\n",
       "3            4         1       1       Futrelle, Mrs. Jacques Heath (Lily May Peel)  female 35.000      1      0            113803 53.100  C123        S               1              44                    7            0       Mrs                2           0.000           NO      mature  maturefemale\n",
       "4            5         0       3                           Allen, Mr. William Henry    male 35.000      0      0            373450  8.050   NaN        S               0              24                    4            0        Mr                1           0.000          YES      mature    maturemale"
      ]
     },
     "execution_count": 470,
     "metadata": {},
     "output_type": "execute_result"
    }
   ],
   "source": [
    "df.head()"
   ]
  },
  {
   "cell_type": "markdown",
   "metadata": {},
   "source": [
    "Şimdi bazı önişleme işlemleri yapmak istiyoruz fakat bu değişkenlerden hangileri sayısal hangileri kategorik bilmiyoruz. Dolayısıyla grab_col_names fonksiyonumuzu kullanacağız."
   ]
  },
  {
   "cell_type": "code",
   "execution_count": 471,
   "metadata": {},
   "outputs": [
    {
     "name": "stdout",
     "output_type": "stream",
     "text": [
      "Observations: 891\n",
      "Variables: 22\n",
      "cat_cols: 14\n",
      "num_cols: 5\n",
      "cat_but_car: 3\n",
      "num_but_cat: 8\n"
     ]
    }
   ],
   "source": [
    "cat_cols, num_cols, cat_but_car = grab_col_names(df)"
   ]
  },
  {
   "cell_type": "code",
   "execution_count": 472,
   "metadata": {},
   "outputs": [
    {
     "data": {
      "text/plain": [
       "['SEX',\n",
       " 'EMBARKED',\n",
       " 'NEW_TITLE',\n",
       " 'NEW_IS_ALONE',\n",
       " 'NEW_AGE_CAT',\n",
       " 'NEW_SEX_CAT',\n",
       " 'SURVIVED',\n",
       " 'PCLASS',\n",
       " 'SIBSP',\n",
       " 'PARCH',\n",
       " 'NEW_CABIN_BOOL',\n",
       " 'NEW_NAME_WORD_COUNT',\n",
       " 'NEW_NAME_DR',\n",
       " 'NEW_FAMILY_SIZE']"
      ]
     },
     "execution_count": 472,
     "metadata": {},
     "output_type": "execute_result"
    }
   ],
   "source": [
    "cat_cols"
   ]
  },
  {
   "cell_type": "code",
   "execution_count": 473,
   "metadata": {},
   "outputs": [
    {
     "data": {
      "text/plain": [
       "['PASSENGERID', 'AGE', 'FARE', 'NEW_NAME_COUNT', 'NEW_AGE_PCLASS']"
      ]
     },
     "execution_count": 473,
     "metadata": {},
     "output_type": "execute_result"
    }
   ],
   "source": [
    "num_cols"
   ]
  },
  {
   "cell_type": "markdown",
   "metadata": {},
   "source": [
    "Nümerik kolonların içerisindeki PassengerId nümerik bir değişken değil. Bu değişkeni bir list comprehension kullanarak liste dışına çıkaracağız."
   ]
  },
  {
   "cell_type": "code",
   "execution_count": 474,
   "metadata": {},
   "outputs": [],
   "source": [
    "num_cols = [col for col in num_cols if col not in \"PASSENGERID\"]"
   ]
  },
  {
   "cell_type": "code",
   "execution_count": 475,
   "metadata": {},
   "outputs": [
    {
     "data": {
      "text/plain": [
       "['AGE', 'FARE', 'NEW_NAME_COUNT', 'NEW_AGE_PCLASS']"
      ]
     },
     "execution_count": 475,
     "metadata": {},
     "output_type": "execute_result"
    }
   ],
   "source": [
    "num_cols"
   ]
  },
  {
   "cell_type": "markdown",
   "metadata": {},
   "source": [
    "# 2. Aykırı Değerler (Outliers)"
   ]
  },
  {
   "cell_type": "markdown",
   "metadata": {},
   "source": [
    "Hızlı bir şekilde nümerik değişkenlerimizdeki outliersları kontrol etmek istersek check_outliers fonksyonumuzu kullanacağız"
   ]
  },
  {
   "cell_type": "code",
   "execution_count": 370,
   "metadata": {},
   "outputs": [
    {
     "name": "stdout",
     "output_type": "stream",
     "text": [
      "AGE True\n",
      "FARE True\n",
      "NEW_NAME_COUNT True\n",
      "NEW_AGE_PCLASS True\n"
     ]
    }
   ],
   "source": [
    "for col in num_cols:\n",
    "    print(col, check_outlier(df, col))"
   ]
  },
  {
   "cell_type": "markdown",
   "metadata": {},
   "source": [
    "Aykırı değerlerimiz var gözüküyor. O zaman biz bu aykırı değerlerimizi threshold yani eşik değerlerimizle değiştirelim. (Baskılama)"
   ]
  },
  {
   "cell_type": "code",
   "execution_count": 371,
   "metadata": {},
   "outputs": [],
   "source": [
    "for col in num_cols:\n",
    "    replace_with_thresholds(df, col)"
   ]
  },
  {
   "cell_type": "markdown",
   "metadata": {},
   "source": [
    "Şimdi tekrar kontrol edelim:"
   ]
  },
  {
   "cell_type": "code",
   "execution_count": 372,
   "metadata": {},
   "outputs": [
    {
     "name": "stdout",
     "output_type": "stream",
     "text": [
      "AGE False\n",
      "FARE False\n",
      "NEW_NAME_COUNT False\n",
      "NEW_AGE_PCLASS False\n"
     ]
    }
   ],
   "source": [
    "for col in num_cols:\n",
    "    print(col, check_outlier(df, col))"
   ]
  },
  {
   "cell_type": "markdown",
   "metadata": {},
   "source": [
    "Böylece aykırı değer mevzusunu da halletmiş olduk."
   ]
  },
  {
   "cell_type": "markdown",
   "metadata": {},
   "source": [
    "## 3. Eksik Değerler (Missing Values)"
   ]
  },
  {
   "cell_type": "markdown",
   "metadata": {},
   "source": [
    "Eksik değerlerin hangi değişkenlerde ve ne kadar olduğunu bulmak için missing_values_table fonksiyonumuzu kullanacağız."
   ]
  },
  {
   "cell_type": "code",
   "execution_count": 373,
   "metadata": {},
   "outputs": [
    {
     "name": "stdout",
     "output_type": "stream",
     "text": [
      "                n_miss  ratio\n",
      "CABIN              687 77.100\n",
      "NEW_SEX_CAT        177 19.870\n",
      "NEW_AGE_CAT        177 19.870\n",
      "NEW_AGE_PCLASS     177 19.870\n",
      "AGE                177 19.870\n",
      "EMBARKED             2  0.220\n"
     ]
    }
   ],
   "source": [
    "missing_values_table(df)"
   ]
  },
  {
   "cell_type": "markdown",
   "metadata": {},
   "source": [
    "Cabin değişkeni için bool bir değişken zaten oluşturmuştuk. Dolayısıyla şu anki cabin değişkenine bir ihtiyacımız yok."
   ]
  },
  {
   "cell_type": "code",
   "execution_count": 374,
   "metadata": {},
   "outputs": [],
   "source": [
    "df.drop(\"CABIN\", axis=1, inplace=True)"
   ]
  },
  {
   "cell_type": "code",
   "execution_count": 375,
   "metadata": {},
   "outputs": [
    {
     "name": "stdout",
     "output_type": "stream",
     "text": [
      "                n_miss  ratio\n",
      "NEW_SEX_CAT        177 19.870\n",
      "NEW_AGE_CAT        177 19.870\n",
      "NEW_AGE_PCLASS     177 19.870\n",
      "AGE                177 19.870\n",
      "EMBARKED             2  0.220\n"
     ]
    }
   ],
   "source": [
    "missing_values_table(df)"
   ]
  },
  {
   "cell_type": "markdown",
   "metadata": {},
   "source": [
    "Aynı şekilde NAME ve TICKET değişkenlerini de onlarla bir işimiz olmadığından dolayı drop edeceğiz. NAME değişkeninden zaten değişkenler çıkartmıştık."
   ]
  },
  {
   "cell_type": "code",
   "execution_count": 376,
   "metadata": {},
   "outputs": [],
   "source": [
    "remove_cols = [\"NAME\", \"TICKET\"]"
   ]
  },
  {
   "cell_type": "code",
   "execution_count": 377,
   "metadata": {},
   "outputs": [],
   "source": [
    "df.drop(remove_cols, axis=1, inplace=True)"
   ]
  },
  {
   "cell_type": "code",
   "execution_count": 378,
   "metadata": {},
   "outputs": [
    {
     "name": "stdout",
     "output_type": "stream",
     "text": [
      "                n_miss  ratio\n",
      "NEW_SEX_CAT        177 19.870\n",
      "NEW_AGE_CAT        177 19.870\n",
      "NEW_AGE_PCLASS     177 19.870\n",
      "AGE                177 19.870\n",
      "EMBARKED             2  0.220\n"
     ]
    }
   ],
   "source": [
    "missing_values_table(df)"
   ]
  },
  {
   "cell_type": "markdown",
   "metadata": {},
   "source": [
    "Yukarıdaki age'den oluşturulan değişkenlerdeki eksiklikler, age değişkenindeki eksikliklerden dolayı oluştu. Dolayısıyla age içerisindeki eksik verileri çoklu değişken kırılımında atama yaparak doldurabiliriz."
   ]
  },
  {
   "cell_type": "code",
   "execution_count": 379,
   "metadata": {},
   "outputs": [],
   "source": [
    "# oluşturmuz olduğumuz new_title'a göre groupby'a alıp yaş değişkeninin eksik değerlerini medyan ile doldur, new_title'a göre\n",
    "df[\"AGE\"] = df[\"AGE\"].fillna(df.groupby(\"NEW_TITLE\")[\"AGE\"].transform(\"median\"))"
   ]
  },
  {
   "cell_type": "code",
   "execution_count": 380,
   "metadata": {},
   "outputs": [
    {
     "name": "stdout",
     "output_type": "stream",
     "text": [
      "                n_miss  ratio\n",
      "NEW_SEX_CAT        177 19.870\n",
      "NEW_AGE_CAT        177 19.870\n",
      "NEW_AGE_PCLASS     177 19.870\n",
      "EMBARKED             2  0.220\n"
     ]
    }
   ],
   "source": [
    "missing_values_table(df)"
   ]
  },
  {
   "cell_type": "markdown",
   "metadata": {},
   "source": [
    "AGE değişkenindeki eksiklikleri halletmiş olduk. Şimdi age değişkeninden türeyen değişkenlerdeki eksiklikleri de gidermek için bu değişkenleri tekrardan tanımlamak gerekiyor."
   ]
  },
  {
   "cell_type": "code",
   "execution_count": 381,
   "metadata": {},
   "outputs": [],
   "source": [
    "df[\"NEW_AGE_PCLASS\"] = df[\"AGE\"] * df[\"PARCH\"]"
   ]
  },
  {
   "cell_type": "code",
   "execution_count": 382,
   "metadata": {},
   "outputs": [],
   "source": [
    "df.loc[(df[\"AGE\"] < 18), 'NEW_AGE_CAT'] = 'young'\n",
    "df.loc[(df[\"AGE\"] >= 18) & (df[\"AGE\"] < 56), 'NEW_AGE_CAT'] = 'mature'\n",
    "df.loc[(df[\"AGE\"] >= 56), 'NEW_AGE_CAT'] = 'senior'"
   ]
  },
  {
   "cell_type": "code",
   "execution_count": 383,
   "metadata": {},
   "outputs": [],
   "source": [
    "df.loc[(df[\"SEX\"] == 'male') & (df['AGE'] <= 21), 'NEW_SEX_CAT'] = 'youngmale'\n",
    "df.loc[(df[\"SEX\"] == 'male') & ((df['AGE'] > 21) & (df[\"AGE\"] <= 50)), 'NEW_SEX_CAT'] = 'maturemale'\n",
    "df.loc[(df[\"SEX\"] == 'male') & (df['AGE'] > 50), 'NEW_SEX_CAT'] = 'seniormale'\n",
    "df.loc[(df[\"SEX\"] == 'female') & (df['AGE'] <= 21), 'NEW_SEX_CAT'] = 'youngfemale'\n",
    "df.loc[(df[\"SEX\"] == 'female') & ((df['AGE'] > 21) & (df[\"AGE\"] <= 50)), 'NEW_SEX_CAT'] = 'maturefemale'\n",
    "df.loc[(df[\"SEX\"] == 'female') & (df['AGE'] > 50), 'NEW_SEX_CAT'] = 'seniorfemale'"
   ]
  },
  {
   "cell_type": "code",
   "execution_count": 384,
   "metadata": {},
   "outputs": [
    {
     "name": "stdout",
     "output_type": "stream",
     "text": [
      "          n_miss  ratio\n",
      "EMBARKED       2  0.220\n"
     ]
    }
   ],
   "source": [
    "missing_values_table(df)"
   ]
  },
  {
   "cell_type": "markdown",
   "metadata": {},
   "source": [
    "Sadece EMBARKED değişkeni kaldı. Bunun için de tipi object olan ve sınıf sayısı 10 veya 10dan küçük olan değerleri mod ile doldur."
   ]
  },
  {
   "cell_type": "code",
   "execution_count": 385,
   "metadata": {},
   "outputs": [],
   "source": [
    "df = df.apply(lambda x: x.fillna(x.mode()[0]) if (x.dtype == 'O' and len(x.unique()) <= 10) else x, axis=0)"
   ]
  },
  {
   "cell_type": "code",
   "execution_count": 386,
   "metadata": {
    "scrolled": true
   },
   "outputs": [
    {
     "name": "stdout",
     "output_type": "stream",
     "text": [
      "Empty DataFrame\n",
      "Columns: [n_miss, ratio]\n",
      "Index: []\n"
     ]
    }
   ],
   "source": [
    "missing_values_table(df)"
   ]
  },
  {
   "cell_type": "markdown",
   "metadata": {},
   "source": [
    "## 4. Label Encoding"
   ]
  },
  {
   "cell_type": "markdown",
   "metadata": {},
   "source": [
    "Bu kısımda iki sınıflı değişkenler için label encoding yöntemini kullanıyorduk. Öncelikle iki sınıflı değişkenleri seçmemiz gerekiyor."
   ]
  },
  {
   "cell_type": "code",
   "execution_count": 387,
   "metadata": {},
   "outputs": [],
   "source": [
    "binary_cols = [col for col in df.columns if df[col].dtype not in [\"int64\", \"float64\", \"int32\", \"float32\"]\n",
    "              and df[col].nunique() == 2]\n",
    "# int ve float olmayan (yani kategorik olan) ve 2 sınıfa sahip olan değişkenleri seç "
   ]
  },
  {
   "cell_type": "code",
   "execution_count": 388,
   "metadata": {},
   "outputs": [
    {
     "data": {
      "text/plain": [
       "['SEX', 'NEW_IS_ALONE']"
      ]
     },
     "execution_count": 388,
     "metadata": {},
     "output_type": "execute_result"
    }
   ],
   "source": [
    "binary_cols"
   ]
  },
  {
   "cell_type": "code",
   "execution_count": 389,
   "metadata": {},
   "outputs": [],
   "source": [
    "for col in binary_cols:\n",
    "    df = label_encoder(df, col)"
   ]
  },
  {
   "cell_type": "markdown",
   "metadata": {},
   "source": [
    "## 5. Rare Encoding"
   ]
  },
  {
   "cell_type": "markdown",
   "metadata": {},
   "source": [
    "Birleştirilmesi gereken sınıfları analiz edebilmemiz için rare_analyser fonksiyonumuzu kullanacağız."
   ]
  },
  {
   "cell_type": "code",
   "execution_count": 390,
   "metadata": {},
   "outputs": [
    {
     "name": "stdout",
     "output_type": "stream",
     "text": [
      "SEX : 2\n",
      "   COUNT  RATIO  TARGET_MEAN\n",
      "0    314  0.352        0.742\n",
      "1    577  0.648        0.189\n",
      "\n",
      "\n",
      "EMBARKED : 3\n",
      "   COUNT  RATIO  TARGET_MEAN\n",
      "C    168  0.189        0.554\n",
      "Q     77  0.086        0.390\n",
      "S    646  0.725        0.339\n",
      "\n",
      "\n",
      "NEW_TITLE : 17\n",
      "          COUNT  RATIO  TARGET_MEAN\n",
      "Capt          1  0.001        0.000\n",
      "Col           2  0.002        0.500\n",
      "Countess      1  0.001        1.000\n",
      "Don           1  0.001        0.000\n",
      "Dr            7  0.008        0.429\n",
      "Jonkheer      1  0.001        0.000\n",
      "Lady          1  0.001        1.000\n",
      "Major         2  0.002        0.500\n",
      "Master       40  0.045        0.575\n",
      "Miss        182  0.204        0.698\n",
      "Mlle          2  0.002        1.000\n",
      "Mme           1  0.001        1.000\n",
      "Mr          517  0.580        0.157\n",
      "Mrs         125  0.140        0.792\n",
      "Ms            1  0.001        1.000\n",
      "Rev           6  0.007        0.000\n",
      "Sir           1  0.001        1.000\n",
      "\n",
      "\n",
      "NEW_IS_ALONE : 2\n",
      "   COUNT  RATIO  TARGET_MEAN\n",
      "0    354  0.397        0.506\n",
      "1    537  0.603        0.304\n",
      "\n",
      "\n",
      "NEW_AGE_CAT : 3\n",
      "        COUNT  RATIO  TARGET_MEAN\n",
      "mature    735  0.825        0.363\n",
      "senior     39  0.044        0.308\n",
      "young     117  0.131        0.538\n",
      "\n",
      "\n",
      "NEW_SEX_CAT : 6\n",
      "              COUNT  RATIO  TARGET_MEAN\n",
      "maturefemale    177  0.199        0.780\n",
      "maturemale      406  0.456        0.175\n",
      "seniorfemale     17  0.019        0.941\n",
      "seniormale       47  0.053        0.128\n",
      "youngfemale     120  0.135        0.658\n",
      "youngmale       124  0.139        0.258\n",
      "\n",
      "\n",
      "SURVIVED : 2\n",
      "   COUNT  RATIO  TARGET_MEAN\n",
      "0    549  0.616            0\n",
      "1    342  0.384            1\n",
      "\n",
      "\n",
      "PCLASS : 3\n",
      "   COUNT  RATIO  TARGET_MEAN\n",
      "1    216  0.242        0.630\n",
      "2    184  0.207        0.473\n",
      "3    491  0.551        0.242\n",
      "\n",
      "\n",
      "SIBSP : 7\n",
      "   COUNT  RATIO  TARGET_MEAN\n",
      "0    608  0.682        0.345\n",
      "1    209  0.235        0.536\n",
      "2     28  0.031        0.464\n",
      "3     16  0.018        0.250\n",
      "4     18  0.020        0.167\n",
      "5      5  0.006        0.000\n",
      "8      7  0.008        0.000\n",
      "\n",
      "\n",
      "PARCH : 7\n",
      "   COUNT  RATIO  TARGET_MEAN\n",
      "0    678  0.761        0.344\n",
      "1    118  0.132        0.551\n",
      "2     80  0.090        0.500\n",
      "3      5  0.006        0.600\n",
      "4      4  0.004        0.000\n",
      "5      5  0.006        0.200\n",
      "6      1  0.001        0.000\n",
      "\n",
      "\n",
      "NEW_CABIN_BOOL : 2\n",
      "   COUNT  RATIO  TARGET_MEAN\n",
      "0    687  0.771        0.300\n",
      "1    204  0.229        0.667\n",
      "\n",
      "\n",
      "NEW_NAME_WORD_COUNT : 8\n",
      "    COUNT  RATIO  TARGET_MEAN\n",
      "3     305  0.342        0.292\n",
      "4     388  0.435        0.340\n",
      "5      96  0.108        0.427\n",
      "6      53  0.059        0.774\n",
      "7      38  0.043        0.842\n",
      "8       9  0.010        0.556\n",
      "9       1  0.001        1.000\n",
      "14      1  0.001        1.000\n",
      "\n",
      "\n",
      "NEW_NAME_DR : 2\n",
      "   COUNT  RATIO  TARGET_MEAN\n",
      "0    881  0.989        0.383\n",
      "1     10  0.011        0.500\n",
      "\n",
      "\n",
      "NEW_FAMILY_SIZE : 9\n",
      "    COUNT  RATIO  TARGET_MEAN\n",
      "1     537  0.603        0.304\n",
      "2     161  0.181        0.553\n",
      "3     102  0.114        0.578\n",
      "4      29  0.033        0.724\n",
      "5      15  0.017        0.200\n",
      "6      22  0.025        0.136\n",
      "7      12  0.013        0.333\n",
      "8       6  0.007        0.000\n",
      "11      7  0.008        0.000\n",
      "\n",
      "\n"
     ]
    }
   ],
   "source": [
    "rare_analyser(df, \"SURVIVED\", cat_cols)"
   ]
  },
  {
   "cell_type": "code",
   "execution_count": 391,
   "metadata": {},
   "outputs": [],
   "source": [
    "df = rare_encoder(df, 0.01)"
   ]
  },
  {
   "cell_type": "code",
   "execution_count": 392,
   "metadata": {},
   "outputs": [
    {
     "data": {
      "text/plain": [
       "Mr        517\n",
       "Miss      182\n",
       "Mrs       125\n",
       "Master     40\n",
       "Rare       27\n",
       "Name: NEW_TITLE, dtype: int64"
      ]
     },
     "execution_count": 392,
     "metadata": {},
     "output_type": "execute_result"
    }
   ],
   "source": [
    "df[\"NEW_TITLE\"].value_counts()"
   ]
  },
  {
   "cell_type": "markdown",
   "metadata": {},
   "source": [
    "Görüldüğü gibi bu değişken içerisinde az miktarda olan bir çok sınıf vardı. Hepsi Rare sınıfı içerisinde birleşti."
   ]
  },
  {
   "cell_type": "markdown",
   "metadata": {},
   "source": [
    "## 6. One-Hot Encoding"
   ]
  },
  {
   "cell_type": "code",
   "execution_count": 393,
   "metadata": {},
   "outputs": [],
   "source": [
    "# eşşiz değer sayısı 2den büyük ve 10dan küçük olan değişkenleri seç\n",
    "ohe_cols = [col for col in df.columns if 10 >= df[col].nunique() > 2]"
   ]
  },
  {
   "cell_type": "code",
   "execution_count": 394,
   "metadata": {},
   "outputs": [],
   "source": [
    "df = one_hot_encoder(df, ohe_cols)"
   ]
  },
  {
   "cell_type": "code",
   "execution_count": 395,
   "metadata": {},
   "outputs": [
    {
     "data": {
      "text/html": [
       "<div>\n",
       "<style scoped>\n",
       "    .dataframe tbody tr th:only-of-type {\n",
       "        vertical-align: middle;\n",
       "    }\n",
       "\n",
       "    .dataframe tbody tr th {\n",
       "        vertical-align: top;\n",
       "    }\n",
       "\n",
       "    .dataframe thead th {\n",
       "        text-align: right;\n",
       "    }\n",
       "</style>\n",
       "<table border=\"1\" class=\"dataframe\">\n",
       "  <thead>\n",
       "    <tr style=\"text-align: right;\">\n",
       "      <th></th>\n",
       "      <th>PASSENGERID</th>\n",
       "      <th>SURVIVED</th>\n",
       "      <th>SEX</th>\n",
       "      <th>AGE</th>\n",
       "      <th>FARE</th>\n",
       "      <th>NEW_CABIN_BOOL</th>\n",
       "      <th>NEW_NAME_COUNT</th>\n",
       "      <th>NEW_NAME_DR</th>\n",
       "      <th>NEW_AGE_PCLASS</th>\n",
       "      <th>NEW_IS_ALONE</th>\n",
       "      <th>PCLASS_2</th>\n",
       "      <th>PCLASS_3</th>\n",
       "      <th>SIBSP_1</th>\n",
       "      <th>SIBSP_2</th>\n",
       "      <th>SIBSP_3</th>\n",
       "      <th>SIBSP_4</th>\n",
       "      <th>SIBSP_5</th>\n",
       "      <th>SIBSP_8</th>\n",
       "      <th>PARCH_1</th>\n",
       "      <th>PARCH_2</th>\n",
       "      <th>PARCH_3</th>\n",
       "      <th>PARCH_4</th>\n",
       "      <th>PARCH_5</th>\n",
       "      <th>PARCH_6</th>\n",
       "      <th>EMBARKED_Q</th>\n",
       "      <th>EMBARKED_S</th>\n",
       "      <th>NEW_NAME_WORD_COUNT_4</th>\n",
       "      <th>NEW_NAME_WORD_COUNT_5</th>\n",
       "      <th>NEW_NAME_WORD_COUNT_6</th>\n",
       "      <th>NEW_NAME_WORD_COUNT_7</th>\n",
       "      <th>NEW_NAME_WORD_COUNT_8</th>\n",
       "      <th>NEW_NAME_WORD_COUNT_9</th>\n",
       "      <th>NEW_NAME_WORD_COUNT_14</th>\n",
       "      <th>NEW_TITLE_Miss</th>\n",
       "      <th>NEW_TITLE_Mr</th>\n",
       "      <th>NEW_TITLE_Mrs</th>\n",
       "      <th>NEW_TITLE_Rare</th>\n",
       "      <th>NEW_FAMILY_SIZE_2</th>\n",
       "      <th>NEW_FAMILY_SIZE_3</th>\n",
       "      <th>NEW_FAMILY_SIZE_4</th>\n",
       "      <th>NEW_FAMILY_SIZE_5</th>\n",
       "      <th>NEW_FAMILY_SIZE_6</th>\n",
       "      <th>NEW_FAMILY_SIZE_7</th>\n",
       "      <th>NEW_FAMILY_SIZE_8</th>\n",
       "      <th>NEW_FAMILY_SIZE_11</th>\n",
       "      <th>NEW_AGE_CAT_senior</th>\n",
       "      <th>NEW_AGE_CAT_young</th>\n",
       "      <th>NEW_SEX_CAT_maturemale</th>\n",
       "      <th>NEW_SEX_CAT_seniorfemale</th>\n",
       "      <th>NEW_SEX_CAT_seniormale</th>\n",
       "      <th>NEW_SEX_CAT_youngfemale</th>\n",
       "      <th>NEW_SEX_CAT_youngmale</th>\n",
       "    </tr>\n",
       "  </thead>\n",
       "  <tbody>\n",
       "    <tr>\n",
       "      <th>0</th>\n",
       "      <td>1</td>\n",
       "      <td>0</td>\n",
       "      <td>1</td>\n",
       "      <td>22.000</td>\n",
       "      <td>7.250</td>\n",
       "      <td>0</td>\n",
       "      <td>23.000</td>\n",
       "      <td>0</td>\n",
       "      <td>0.000</td>\n",
       "      <td>0</td>\n",
       "      <td>0</td>\n",
       "      <td>1</td>\n",
       "      <td>1</td>\n",
       "      <td>0</td>\n",
       "      <td>0</td>\n",
       "      <td>0</td>\n",
       "      <td>0</td>\n",
       "      <td>0</td>\n",
       "      <td>0</td>\n",
       "      <td>0</td>\n",
       "      <td>0</td>\n",
       "      <td>0</td>\n",
       "      <td>0</td>\n",
       "      <td>0</td>\n",
       "      <td>0</td>\n",
       "      <td>1</td>\n",
       "      <td>1</td>\n",
       "      <td>0</td>\n",
       "      <td>0</td>\n",
       "      <td>0</td>\n",
       "      <td>0</td>\n",
       "      <td>0</td>\n",
       "      <td>0</td>\n",
       "      <td>0</td>\n",
       "      <td>1</td>\n",
       "      <td>0</td>\n",
       "      <td>0</td>\n",
       "      <td>1</td>\n",
       "      <td>0</td>\n",
       "      <td>0</td>\n",
       "      <td>0</td>\n",
       "      <td>0</td>\n",
       "      <td>0</td>\n",
       "      <td>0</td>\n",
       "      <td>0</td>\n",
       "      <td>0</td>\n",
       "      <td>0</td>\n",
       "      <td>1</td>\n",
       "      <td>0</td>\n",
       "      <td>0</td>\n",
       "      <td>0</td>\n",
       "      <td>0</td>\n",
       "    </tr>\n",
       "    <tr>\n",
       "      <th>1</th>\n",
       "      <td>2</td>\n",
       "      <td>1</td>\n",
       "      <td>0</td>\n",
       "      <td>38.000</td>\n",
       "      <td>65.634</td>\n",
       "      <td>1</td>\n",
       "      <td>45.000</td>\n",
       "      <td>0</td>\n",
       "      <td>0.000</td>\n",
       "      <td>0</td>\n",
       "      <td>0</td>\n",
       "      <td>0</td>\n",
       "      <td>1</td>\n",
       "      <td>0</td>\n",
       "      <td>0</td>\n",
       "      <td>0</td>\n",
       "      <td>0</td>\n",
       "      <td>0</td>\n",
       "      <td>0</td>\n",
       "      <td>0</td>\n",
       "      <td>0</td>\n",
       "      <td>0</td>\n",
       "      <td>0</td>\n",
       "      <td>0</td>\n",
       "      <td>0</td>\n",
       "      <td>0</td>\n",
       "      <td>0</td>\n",
       "      <td>0</td>\n",
       "      <td>0</td>\n",
       "      <td>1</td>\n",
       "      <td>0</td>\n",
       "      <td>0</td>\n",
       "      <td>0</td>\n",
       "      <td>0</td>\n",
       "      <td>0</td>\n",
       "      <td>1</td>\n",
       "      <td>0</td>\n",
       "      <td>1</td>\n",
       "      <td>0</td>\n",
       "      <td>0</td>\n",
       "      <td>0</td>\n",
       "      <td>0</td>\n",
       "      <td>0</td>\n",
       "      <td>0</td>\n",
       "      <td>0</td>\n",
       "      <td>0</td>\n",
       "      <td>0</td>\n",
       "      <td>0</td>\n",
       "      <td>0</td>\n",
       "      <td>0</td>\n",
       "      <td>0</td>\n",
       "      <td>0</td>\n",
       "    </tr>\n",
       "    <tr>\n",
       "      <th>2</th>\n",
       "      <td>3</td>\n",
       "      <td>1</td>\n",
       "      <td>0</td>\n",
       "      <td>26.000</td>\n",
       "      <td>7.925</td>\n",
       "      <td>0</td>\n",
       "      <td>22.000</td>\n",
       "      <td>0</td>\n",
       "      <td>0.000</td>\n",
       "      <td>1</td>\n",
       "      <td>0</td>\n",
       "      <td>1</td>\n",
       "      <td>0</td>\n",
       "      <td>0</td>\n",
       "      <td>0</td>\n",
       "      <td>0</td>\n",
       "      <td>0</td>\n",
       "      <td>0</td>\n",
       "      <td>0</td>\n",
       "      <td>0</td>\n",
       "      <td>0</td>\n",
       "      <td>0</td>\n",
       "      <td>0</td>\n",
       "      <td>0</td>\n",
       "      <td>0</td>\n",
       "      <td>1</td>\n",
       "      <td>0</td>\n",
       "      <td>0</td>\n",
       "      <td>0</td>\n",
       "      <td>0</td>\n",
       "      <td>0</td>\n",
       "      <td>0</td>\n",
       "      <td>0</td>\n",
       "      <td>1</td>\n",
       "      <td>0</td>\n",
       "      <td>0</td>\n",
       "      <td>0</td>\n",
       "      <td>0</td>\n",
       "      <td>0</td>\n",
       "      <td>0</td>\n",
       "      <td>0</td>\n",
       "      <td>0</td>\n",
       "      <td>0</td>\n",
       "      <td>0</td>\n",
       "      <td>0</td>\n",
       "      <td>0</td>\n",
       "      <td>0</td>\n",
       "      <td>0</td>\n",
       "      <td>0</td>\n",
       "      <td>0</td>\n",
       "      <td>0</td>\n",
       "      <td>0</td>\n",
       "    </tr>\n",
       "    <tr>\n",
       "      <th>3</th>\n",
       "      <td>4</td>\n",
       "      <td>1</td>\n",
       "      <td>0</td>\n",
       "      <td>35.000</td>\n",
       "      <td>53.100</td>\n",
       "      <td>1</td>\n",
       "      <td>44.000</td>\n",
       "      <td>0</td>\n",
       "      <td>0.000</td>\n",
       "      <td>0</td>\n",
       "      <td>0</td>\n",
       "      <td>0</td>\n",
       "      <td>1</td>\n",
       "      <td>0</td>\n",
       "      <td>0</td>\n",
       "      <td>0</td>\n",
       "      <td>0</td>\n",
       "      <td>0</td>\n",
       "      <td>0</td>\n",
       "      <td>0</td>\n",
       "      <td>0</td>\n",
       "      <td>0</td>\n",
       "      <td>0</td>\n",
       "      <td>0</td>\n",
       "      <td>0</td>\n",
       "      <td>1</td>\n",
       "      <td>0</td>\n",
       "      <td>0</td>\n",
       "      <td>0</td>\n",
       "      <td>1</td>\n",
       "      <td>0</td>\n",
       "      <td>0</td>\n",
       "      <td>0</td>\n",
       "      <td>0</td>\n",
       "      <td>0</td>\n",
       "      <td>1</td>\n",
       "      <td>0</td>\n",
       "      <td>1</td>\n",
       "      <td>0</td>\n",
       "      <td>0</td>\n",
       "      <td>0</td>\n",
       "      <td>0</td>\n",
       "      <td>0</td>\n",
       "      <td>0</td>\n",
       "      <td>0</td>\n",
       "      <td>0</td>\n",
       "      <td>0</td>\n",
       "      <td>0</td>\n",
       "      <td>0</td>\n",
       "      <td>0</td>\n",
       "      <td>0</td>\n",
       "      <td>0</td>\n",
       "    </tr>\n",
       "    <tr>\n",
       "      <th>4</th>\n",
       "      <td>5</td>\n",
       "      <td>0</td>\n",
       "      <td>1</td>\n",
       "      <td>35.000</td>\n",
       "      <td>8.050</td>\n",
       "      <td>0</td>\n",
       "      <td>24.000</td>\n",
       "      <td>0</td>\n",
       "      <td>0.000</td>\n",
       "      <td>1</td>\n",
       "      <td>0</td>\n",
       "      <td>1</td>\n",
       "      <td>0</td>\n",
       "      <td>0</td>\n",
       "      <td>0</td>\n",
       "      <td>0</td>\n",
       "      <td>0</td>\n",
       "      <td>0</td>\n",
       "      <td>0</td>\n",
       "      <td>0</td>\n",
       "      <td>0</td>\n",
       "      <td>0</td>\n",
       "      <td>0</td>\n",
       "      <td>0</td>\n",
       "      <td>0</td>\n",
       "      <td>1</td>\n",
       "      <td>1</td>\n",
       "      <td>0</td>\n",
       "      <td>0</td>\n",
       "      <td>0</td>\n",
       "      <td>0</td>\n",
       "      <td>0</td>\n",
       "      <td>0</td>\n",
       "      <td>0</td>\n",
       "      <td>1</td>\n",
       "      <td>0</td>\n",
       "      <td>0</td>\n",
       "      <td>0</td>\n",
       "      <td>0</td>\n",
       "      <td>0</td>\n",
       "      <td>0</td>\n",
       "      <td>0</td>\n",
       "      <td>0</td>\n",
       "      <td>0</td>\n",
       "      <td>0</td>\n",
       "      <td>0</td>\n",
       "      <td>0</td>\n",
       "      <td>1</td>\n",
       "      <td>0</td>\n",
       "      <td>0</td>\n",
       "      <td>0</td>\n",
       "      <td>0</td>\n",
       "    </tr>\n",
       "  </tbody>\n",
       "</table>\n",
       "</div>"
      ],
      "text/plain": [
       "   PASSENGERID  SURVIVED  SEX    AGE   FARE  NEW_CABIN_BOOL  NEW_NAME_COUNT  NEW_NAME_DR  NEW_AGE_PCLASS  NEW_IS_ALONE  PCLASS_2  PCLASS_3  SIBSP_1  SIBSP_2  SIBSP_3  SIBSP_4  SIBSP_5  SIBSP_8  PARCH_1  PARCH_2  PARCH_3  PARCH_4  PARCH_5  PARCH_6  EMBARKED_Q  EMBARKED_S  NEW_NAME_WORD_COUNT_4  NEW_NAME_WORD_COUNT_5  NEW_NAME_WORD_COUNT_6  NEW_NAME_WORD_COUNT_7  NEW_NAME_WORD_COUNT_8  NEW_NAME_WORD_COUNT_9  NEW_NAME_WORD_COUNT_14  NEW_TITLE_Miss  NEW_TITLE_Mr  NEW_TITLE_Mrs  NEW_TITLE_Rare  \\\n",
       "0            1         0    1 22.000  7.250               0          23.000            0           0.000             0         0         1        1        0        0        0        0        0        0        0        0        0        0        0           0           1                      1                      0                      0                      0                      0                      0                       0               0             1              0               0   \n",
       "1            2         1    0 38.000 65.634               1          45.000            0           0.000             0         0         0        1        0        0        0        0        0        0        0        0        0        0        0           0           0                      0                      0                      0                      1                      0                      0                       0               0             0              1               0   \n",
       "2            3         1    0 26.000  7.925               0          22.000            0           0.000             1         0         1        0        0        0        0        0        0        0        0        0        0        0        0           0           1                      0                      0                      0                      0                      0                      0                       0               1             0              0               0   \n",
       "3            4         1    0 35.000 53.100               1          44.000            0           0.000             0         0         0        1        0        0        0        0        0        0        0        0        0        0        0           0           1                      0                      0                      0                      1                      0                      0                       0               0             0              1               0   \n",
       "4            5         0    1 35.000  8.050               0          24.000            0           0.000             1         0         1        0        0        0        0        0        0        0        0        0        0        0        0           0           1                      1                      0                      0                      0                      0                      0                       0               0             1              0               0   \n",
       "\n",
       "   NEW_FAMILY_SIZE_2  NEW_FAMILY_SIZE_3  NEW_FAMILY_SIZE_4  NEW_FAMILY_SIZE_5  NEW_FAMILY_SIZE_6  NEW_FAMILY_SIZE_7  NEW_FAMILY_SIZE_8  NEW_FAMILY_SIZE_11  NEW_AGE_CAT_senior  NEW_AGE_CAT_young  NEW_SEX_CAT_maturemale  NEW_SEX_CAT_seniorfemale  NEW_SEX_CAT_seniormale  NEW_SEX_CAT_youngfemale  NEW_SEX_CAT_youngmale  \n",
       "0                  1                  0                  0                  0                  0                  0                  0                   0                   0                  0                       1                         0                       0                        0                      0  \n",
       "1                  1                  0                  0                  0                  0                  0                  0                   0                   0                  0                       0                         0                       0                        0                      0  \n",
       "2                  0                  0                  0                  0                  0                  0                  0                   0                   0                  0                       0                         0                       0                        0                      0  \n",
       "3                  1                  0                  0                  0                  0                  0                  0                   0                   0                  0                       0                         0                       0                        0                      0  \n",
       "4                  0                  0                  0                  0                  0                  0                  0                   0                   0                  0                       1                         0                       0                        0                      0  "
      ]
     },
     "execution_count": 395,
     "metadata": {},
     "output_type": "execute_result"
    }
   ],
   "source": [
    "df.head()"
   ]
  },
  {
   "cell_type": "markdown",
   "metadata": {},
   "source": [
    "Bütün olası kategoriler değişkenlere dönüştü. "
   ]
  },
  {
   "cell_type": "code",
   "execution_count": 396,
   "metadata": {},
   "outputs": [
    {
     "data": {
      "text/plain": [
       "(891, 52)"
      ]
     },
     "execution_count": 396,
     "metadata": {},
     "output_type": "execute_result"
    }
   ],
   "source": [
    "df.shape"
   ]
  },
  {
   "cell_type": "code",
   "execution_count": 397,
   "metadata": {},
   "outputs": [
    {
     "data": {
      "text/plain": [
       "Index(['PASSENGERID', 'SURVIVED', 'SEX', 'AGE', 'FARE', 'NEW_CABIN_BOOL', 'NEW_NAME_COUNT', 'NEW_NAME_DR', 'NEW_AGE_PCLASS', 'NEW_IS_ALONE', 'PCLASS_2', 'PCLASS_3', 'SIBSP_1', 'SIBSP_2', 'SIBSP_3', 'SIBSP_4', 'SIBSP_5', 'SIBSP_8', 'PARCH_1', 'PARCH_2', 'PARCH_3', 'PARCH_4', 'PARCH_5', 'PARCH_6', 'EMBARKED_Q', 'EMBARKED_S', 'NEW_NAME_WORD_COUNT_4', 'NEW_NAME_WORD_COUNT_5', 'NEW_NAME_WORD_COUNT_6', 'NEW_NAME_WORD_COUNT_7', 'NEW_NAME_WORD_COUNT_8', 'NEW_NAME_WORD_COUNT_9',\n",
       "       'NEW_NAME_WORD_COUNT_14', 'NEW_TITLE_Miss', 'NEW_TITLE_Mr', 'NEW_TITLE_Mrs', 'NEW_TITLE_Rare', 'NEW_FAMILY_SIZE_2', 'NEW_FAMILY_SIZE_3', 'NEW_FAMILY_SIZE_4', 'NEW_FAMILY_SIZE_5', 'NEW_FAMILY_SIZE_6', 'NEW_FAMILY_SIZE_7', 'NEW_FAMILY_SIZE_8', 'NEW_FAMILY_SIZE_11', 'NEW_AGE_CAT_senior', 'NEW_AGE_CAT_young', 'NEW_SEX_CAT_maturemale', 'NEW_SEX_CAT_seniorfemale', 'NEW_SEX_CAT_seniormale', 'NEW_SEX_CAT_youngfemale', 'NEW_SEX_CAT_youngmale'],\n",
       "      dtype='object')"
      ]
     },
     "execution_count": 397,
     "metadata": {},
     "output_type": "execute_result"
    }
   ],
   "source": [
    "df.columns"
   ]
  },
  {
   "cell_type": "markdown",
   "metadata": {},
   "source": [
    "Bu değişkenleri oluşturduk, fakat bu değişkenler gerekliler mi? Yani bir bilgi taşıyorlar mı yoksa taşımıyorlar mı? Bu sorunun cevabı için işlemde geriye gidip oluşturduğumuz yeni verisetinden değişkenleri tekrar ayıralım."
   ]
  },
  {
   "cell_type": "code",
   "execution_count": 399,
   "metadata": {},
   "outputs": [
    {
     "name": "stdout",
     "output_type": "stream",
     "text": [
      "Observations: 891\n",
      "Variables: 52\n",
      "cat_cols: 47\n",
      "num_cols: 5\n",
      "cat_but_car: 0\n",
      "num_but_cat: 47\n"
     ]
    }
   ],
   "source": [
    "cat_cols, num_cols, cat_but_car = grab_col_names(df)"
   ]
  },
  {
   "cell_type": "code",
   "execution_count": 400,
   "metadata": {},
   "outputs": [],
   "source": [
    "num_cols = [col for col in num_cols if \"PASSENGERID\" not in col]"
   ]
  },
  {
   "cell_type": "code",
   "execution_count": 401,
   "metadata": {},
   "outputs": [
    {
     "data": {
      "text/plain": [
       "['AGE', 'FARE', 'NEW_NAME_COUNT', 'NEW_AGE_PCLASS']"
      ]
     },
     "execution_count": 401,
     "metadata": {},
     "output_type": "execute_result"
    }
   ],
   "source": [
    "num_cols"
   ]
  },
  {
   "cell_type": "code",
   "execution_count": 402,
   "metadata": {},
   "outputs": [
    {
     "name": "stdout",
     "output_type": "stream",
     "text": [
      "SURVIVED : 2\n",
      "   COUNT  RATIO  TARGET_MEAN\n",
      "0    549  0.616            0\n",
      "1    342  0.384            1\n",
      "\n",
      "\n",
      "SEX : 2\n",
      "   COUNT  RATIO  TARGET_MEAN\n",
      "0    314  0.352        0.742\n",
      "1    577  0.648        0.189\n",
      "\n",
      "\n",
      "NEW_CABIN_BOOL : 2\n",
      "   COUNT  RATIO  TARGET_MEAN\n",
      "0    687  0.771        0.300\n",
      "1    204  0.229        0.667\n",
      "\n",
      "\n",
      "NEW_NAME_DR : 2\n",
      "   COUNT  RATIO  TARGET_MEAN\n",
      "0    881  0.989        0.383\n",
      "1     10  0.011        0.500\n",
      "\n",
      "\n",
      "NEW_IS_ALONE : 2\n",
      "   COUNT  RATIO  TARGET_MEAN\n",
      "0    354  0.397        0.506\n",
      "1    537  0.603        0.304\n",
      "\n",
      "\n",
      "PCLASS_2 : 2\n",
      "   COUNT  RATIO  TARGET_MEAN\n",
      "0    707  0.793        0.361\n",
      "1    184  0.207        0.473\n",
      "\n",
      "\n",
      "PCLASS_3 : 2\n",
      "   COUNT  RATIO  TARGET_MEAN\n",
      "0    400  0.449        0.557\n",
      "1    491  0.551        0.242\n",
      "\n",
      "\n",
      "SIBSP_1 : 2\n",
      "   COUNT  RATIO  TARGET_MEAN\n",
      "0    682  0.765        0.337\n",
      "1    209  0.235        0.536\n",
      "\n",
      "\n",
      "SIBSP_2 : 2\n",
      "   COUNT  RATIO  TARGET_MEAN\n",
      "0    863  0.969        0.381\n",
      "1     28  0.031        0.464\n",
      "\n",
      "\n",
      "SIBSP_3 : 2\n",
      "   COUNT  RATIO  TARGET_MEAN\n",
      "0    875  0.982        0.386\n",
      "1     16  0.018        0.250\n",
      "\n",
      "\n",
      "SIBSP_4 : 2\n",
      "   COUNT  RATIO  TARGET_MEAN\n",
      "0    873  0.980        0.388\n",
      "1     18  0.020        0.167\n",
      "\n",
      "\n",
      "SIBSP_5 : 2\n",
      "   COUNT  RATIO  TARGET_MEAN\n",
      "0    886  0.994        0.386\n",
      "1      5  0.006        0.000\n",
      "\n",
      "\n",
      "SIBSP_8 : 2\n",
      "   COUNT  RATIO  TARGET_MEAN\n",
      "0    884  0.992        0.387\n",
      "1      7  0.008        0.000\n",
      "\n",
      "\n",
      "PARCH_1 : 2\n",
      "   COUNT  RATIO  TARGET_MEAN\n",
      "0    773  0.868        0.358\n",
      "1    118  0.132        0.551\n",
      "\n",
      "\n",
      "PARCH_2 : 2\n",
      "   COUNT  RATIO  TARGET_MEAN\n",
      "0    811  0.910        0.372\n",
      "1     80  0.090        0.500\n",
      "\n",
      "\n",
      "PARCH_3 : 2\n",
      "   COUNT  RATIO  TARGET_MEAN\n",
      "0    886  0.994        0.383\n",
      "1      5  0.006        0.600\n",
      "\n",
      "\n",
      "PARCH_4 : 2\n",
      "   COUNT  RATIO  TARGET_MEAN\n",
      "0    887  0.996        0.386\n",
      "1      4  0.004        0.000\n",
      "\n",
      "\n",
      "PARCH_5 : 2\n",
      "   COUNT  RATIO  TARGET_MEAN\n",
      "0    886  0.994        0.385\n",
      "1      5  0.006        0.200\n",
      "\n",
      "\n",
      "PARCH_6 : 2\n",
      "   COUNT  RATIO  TARGET_MEAN\n",
      "0    890  0.999        0.384\n",
      "1      1  0.001        0.000\n",
      "\n",
      "\n",
      "EMBARKED_Q : 2\n",
      "   COUNT  RATIO  TARGET_MEAN\n",
      "0    814  0.914        0.383\n",
      "1     77  0.086        0.390\n",
      "\n",
      "\n",
      "EMBARKED_S : 2\n",
      "   COUNT  RATIO  TARGET_MEAN\n",
      "0    245  0.275        0.502\n",
      "1    646  0.725        0.339\n",
      "\n",
      "\n",
      "NEW_NAME_WORD_COUNT_4 : 2\n",
      "   COUNT  RATIO  TARGET_MEAN\n",
      "0    503  0.565        0.417\n",
      "1    388  0.435        0.340\n",
      "\n",
      "\n",
      "NEW_NAME_WORD_COUNT_5 : 2\n",
      "   COUNT  RATIO  TARGET_MEAN\n",
      "0    795  0.892        0.379\n",
      "1     96  0.108        0.427\n",
      "\n",
      "\n",
      "NEW_NAME_WORD_COUNT_6 : 2\n",
      "   COUNT  RATIO  TARGET_MEAN\n",
      "0    838  0.941        0.359\n",
      "1     53  0.059        0.774\n",
      "\n",
      "\n",
      "NEW_NAME_WORD_COUNT_7 : 2\n",
      "   COUNT  RATIO  TARGET_MEAN\n",
      "0    853  0.957        0.363\n",
      "1     38  0.043        0.842\n",
      "\n",
      "\n",
      "NEW_NAME_WORD_COUNT_8 : 2\n",
      "   COUNT  RATIO  TARGET_MEAN\n",
      "0    882  0.990        0.382\n",
      "1      9  0.010        0.556\n",
      "\n",
      "\n",
      "NEW_NAME_WORD_COUNT_9 : 2\n",
      "   COUNT  RATIO  TARGET_MEAN\n",
      "0    890  0.999        0.383\n",
      "1      1  0.001        1.000\n",
      "\n",
      "\n",
      "NEW_NAME_WORD_COUNT_14 : 2\n",
      "   COUNT  RATIO  TARGET_MEAN\n",
      "0    890  0.999        0.383\n",
      "1      1  0.001        1.000\n",
      "\n",
      "\n",
      "NEW_TITLE_Miss : 2\n",
      "   COUNT  RATIO  TARGET_MEAN\n",
      "0    709  0.796        0.303\n",
      "1    182  0.204        0.698\n",
      "\n",
      "\n",
      "NEW_TITLE_Mr : 2\n",
      "   COUNT  RATIO  TARGET_MEAN\n",
      "0    374  0.420        0.698\n",
      "1    517  0.580        0.157\n",
      "\n",
      "\n",
      "NEW_TITLE_Mrs : 2\n",
      "   COUNT  RATIO  TARGET_MEAN\n",
      "0    766  0.860        0.317\n",
      "1    125  0.140        0.792\n",
      "\n",
      "\n",
      "NEW_TITLE_Rare : 2\n",
      "   COUNT  RATIO  TARGET_MEAN\n",
      "0    864  0.970        0.382\n",
      "1     27  0.030        0.444\n",
      "\n",
      "\n",
      "NEW_FAMILY_SIZE_2 : 2\n",
      "   COUNT  RATIO  TARGET_MEAN\n",
      "0    730  0.819        0.347\n",
      "1    161  0.181        0.553\n",
      "\n",
      "\n",
      "NEW_FAMILY_SIZE_3 : 2\n",
      "   COUNT  RATIO  TARGET_MEAN\n",
      "0    789  0.886        0.359\n",
      "1    102  0.114        0.578\n",
      "\n",
      "\n",
      "NEW_FAMILY_SIZE_4 : 2\n",
      "   COUNT  RATIO  TARGET_MEAN\n",
      "0    862  0.967        0.372\n",
      "1     29  0.033        0.724\n",
      "\n",
      "\n",
      "NEW_FAMILY_SIZE_5 : 2\n",
      "   COUNT  RATIO  TARGET_MEAN\n",
      "0    876  0.983        0.387\n",
      "1     15  0.017        0.200\n",
      "\n",
      "\n",
      "NEW_FAMILY_SIZE_6 : 2\n",
      "   COUNT  RATIO  TARGET_MEAN\n",
      "0    869  0.975        0.390\n",
      "1     22  0.025        0.136\n",
      "\n",
      "\n",
      "NEW_FAMILY_SIZE_7 : 2\n",
      "   COUNT  RATIO  TARGET_MEAN\n",
      "0    879  0.987        0.385\n",
      "1     12  0.013        0.333\n",
      "\n",
      "\n",
      "NEW_FAMILY_SIZE_8 : 2\n",
      "   COUNT  RATIO  TARGET_MEAN\n",
      "0    885  0.993        0.386\n",
      "1      6  0.007        0.000\n",
      "\n",
      "\n",
      "NEW_FAMILY_SIZE_11 : 2\n",
      "   COUNT  RATIO  TARGET_MEAN\n",
      "0    884  0.992        0.387\n",
      "1      7  0.008        0.000\n",
      "\n",
      "\n",
      "NEW_AGE_CAT_senior : 2\n",
      "   COUNT  RATIO  TARGET_MEAN\n",
      "0    852  0.956        0.387\n",
      "1     39  0.044        0.308\n",
      "\n",
      "\n",
      "NEW_AGE_CAT_young : 2\n",
      "   COUNT  RATIO  TARGET_MEAN\n",
      "0    774  0.869        0.360\n",
      "1    117  0.131        0.538\n",
      "\n",
      "\n",
      "NEW_SEX_CAT_maturemale : 2\n",
      "   COUNT  RATIO  TARGET_MEAN\n",
      "0    485  0.544        0.559\n",
      "1    406  0.456        0.175\n",
      "\n",
      "\n",
      "NEW_SEX_CAT_seniorfemale : 2\n",
      "   COUNT  RATIO  TARGET_MEAN\n",
      "0    874  0.981        0.373\n",
      "1     17  0.019        0.941\n",
      "\n",
      "\n",
      "NEW_SEX_CAT_seniormale : 2\n",
      "   COUNT  RATIO  TARGET_MEAN\n",
      "0    844  0.947        0.398\n",
      "1     47  0.053        0.128\n",
      "\n",
      "\n",
      "NEW_SEX_CAT_youngfemale : 2\n",
      "   COUNT  RATIO  TARGET_MEAN\n",
      "0    771  0.865        0.341\n",
      "1    120  0.135        0.658\n",
      "\n",
      "\n",
      "NEW_SEX_CAT_youngmale : 2\n",
      "   COUNT  RATIO  TARGET_MEAN\n",
      "0    767  0.861        0.404\n",
      "1    124  0.139        0.258\n",
      "\n",
      "\n"
     ]
    }
   ],
   "source": [
    "rare_analyser(df, \"SURVIVED\", cat_cols)"
   ]
  },
  {
   "cell_type": "markdown",
   "metadata": {},
   "source": [
    "Burada yaptığımız işlemin sebebi, one hot encoderdan geçirdiğimiz ve yeni oluşan değişkenlerin hepsinin gerekli olup olmadığını bilmiyoruz bundan dolayı bağımlı değişkenimize göre oranlarının ne olduğunu inceleyip işe yaramayan var mı onun analizini yaparız."
   ]
  },
  {
   "cell_type": "markdown",
   "metadata": {},
   "source": [
    "Yukarıdaki çıktı incelendiğinde bir sorun olduğunu görüyoruz; iki sınıflı olup sınıflarından herhangi bir tanesinin oranı 0.01'den az olan var mı? Şimdi bu değişkenleri yakalayalım."
   ]
  },
  {
   "cell_type": "code",
   "execution_count": 404,
   "metadata": {},
   "outputs": [],
   "source": [
    "useless_cols = [col for col in df.columns if df[col].nunique() == 2 and\n",
    "               (df[col].value_counts() / len(df) < 0.01).any(axis=None)]\n",
    "# sınıf sayısı 2 olan ve value toplamlarının toplam verisetindeki satır sayısına oranı 0.01'den küçük olanları tut"
   ]
  },
  {
   "cell_type": "code",
   "execution_count": 405,
   "metadata": {},
   "outputs": [
    {
     "data": {
      "text/plain": [
       "['SIBSP_5',\n",
       " 'SIBSP_8',\n",
       " 'PARCH_3',\n",
       " 'PARCH_4',\n",
       " 'PARCH_5',\n",
       " 'PARCH_6',\n",
       " 'NEW_NAME_WORD_COUNT_9',\n",
       " 'NEW_NAME_WORD_COUNT_14',\n",
       " 'NEW_FAMILY_SIZE_8',\n",
       " 'NEW_FAMILY_SIZE_11']"
      ]
     },
     "execution_count": 405,
     "metadata": {},
     "output_type": "execute_result"
    }
   ],
   "source": [
    "useless_cols"
   ]
  },
  {
   "cell_type": "markdown",
   "metadata": {},
   "source": [
    "## 7. Standartlaştırma (Standard Scaler)"
   ]
  },
  {
   "cell_type": "markdown",
   "metadata": {},
   "source": [
    "Bu senaryoda kullanacağımız modelden dolayı scale işlemi yapmamıza gerek kalmıyor. Fakat eğer yapacak olsaydık:"
   ]
  },
  {
   "cell_type": "code",
   "execution_count": 409,
   "metadata": {},
   "outputs": [],
   "source": [
    "#scaler = StandardScaler()\n",
    "#df[num_cols] = scaler.fit_transform(df[num_cols])"
   ]
  },
  {
   "cell_type": "code",
   "execution_count": 411,
   "metadata": {},
   "outputs": [
    {
     "data": {
      "text/plain": [
       "(891, 52)"
      ]
     },
     "execution_count": 411,
     "metadata": {},
     "output_type": "execute_result"
    }
   ],
   "source": [
    "df.shape"
   ]
  },
  {
   "cell_type": "markdown",
   "metadata": {},
   "source": [
    "## 8. Model"
   ]
  },
  {
   "cell_type": "code",
   "execution_count": 415,
   "metadata": {},
   "outputs": [],
   "source": [
    "y = df[\"SURVIVED\"]\n",
    "X = df.drop([\"PASSENGERID\", \"SURVIVED\"], axis=1)"
   ]
  },
  {
   "cell_type": "code",
   "execution_count": 416,
   "metadata": {},
   "outputs": [],
   "source": [
    "X_train, X_test, y_train, y_test = train_test_split(X, y, test_size=0.30, random_state=17)"
   ]
  },
  {
   "cell_type": "code",
   "execution_count": 417,
   "metadata": {},
   "outputs": [],
   "source": [
    "from sklearn.ensemble import RandomForestClassifier"
   ]
  },
  {
   "cell_type": "code",
   "execution_count": 418,
   "metadata": {},
   "outputs": [],
   "source": [
    "rfc = RandomForestClassifier(random_state=46).fit(X_train, y_train)"
   ]
  },
  {
   "cell_type": "code",
   "execution_count": 419,
   "metadata": {},
   "outputs": [],
   "source": [
    "y_pred = rfc.predict(X_test)"
   ]
  },
  {
   "cell_type": "code",
   "execution_count": 420,
   "metadata": {},
   "outputs": [
    {
     "data": {
      "text/plain": [
       "0.8134328358208955"
      ]
     },
     "execution_count": 420,
     "metadata": {},
     "output_type": "execute_result"
    }
   ],
   "source": [
    "accuracy_score(y_pred, y_test)"
   ]
  },
  {
   "cell_type": "markdown",
   "metadata": {},
   "source": [
    "Accuracy score'umuz %81"
   ]
  },
  {
   "cell_type": "code",
   "execution_count": 423,
   "metadata": {},
   "outputs": [],
   "source": [
    "# oluşturduğumuz modelde, modele verdiğimiz değişkenlerden hangilerinin ne kadar etkili olduğunu çizdiren grafik fonksiyonu\n",
    "def plot_importance(model, features, num=len(X), save=False):\n",
    "    feature_imp = pd.DataFrame({'Value': model.feature_importances_, 'Feature': features.columns})\n",
    "    plt.figure(figsize=(10, 10))\n",
    "    sns.set(font_scale=1)\n",
    "    sns.barplot(x='Value', y='Feature', data=feature_imp.sort_values(by='Value', ascending=False)[0:num])\n",
    "    plt.title('Features')\n",
    "    plt.tight_layout()\n",
    "    plt.show()\n",
    "    \n",
    "    if save:\n",
    "        plt.savefig('importance.png')"
   ]
  },
  {
   "cell_type": "code",
   "execution_count": 424,
   "metadata": {},
   "outputs": [
    {
     "data": {
      "image/png": "[encoded data removed]",
      "text/plain": [
       "<Figure size 720x720 with 1 Axes>"
      ]
     },
     "metadata": {
      "needs_background": "light"
     },
     "output_type": "display_data"
    }
   ],
   "source": [
    "plot_importance(rfc, X_train)"
   ]
  },
  {
   "cell_type": "code",
   "execution_count": null,
   "metadata": {},
   "outputs": [],
   "source": []
  }
 ],
 "metadata": {
  "kernelspec": {
   "display_name": "Python 3",
   "language": "python",
   "name": "python3"
  },
  "language_info": {
   "codemirror_mode": {
    "name": "ipython",
    "version": 3
   },
   "file_extension": ".py",
   "mimetype": "text/x-python",
   "name": "python",
   "nbconvert_exporter": "python",
   "pygments_lexer": "ipython3",
   "version": "3.8.3"
  }
 },
 "nbformat": 4,
 "nbformat_minor": 4
}
