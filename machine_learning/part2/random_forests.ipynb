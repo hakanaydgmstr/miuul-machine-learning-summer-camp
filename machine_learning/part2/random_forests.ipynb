{
 "cells": [
  {
   "cell_type": "markdown",
   "metadata": {},
   "source": [
    "# Random Forests (Rastgele Ormanlar)"
   ]
  },
  {
   "cell_type": "markdown",
   "metadata": {},
   "source": [
    "Temeli birden çok karar ağacın ürettiği tahminlerin bir araya getirilerek değerlendirilmesine dayanır. Birden fazla karar ağacının belirli bir sınıflandırma veya regresyon problemi için tahminlerinin bir araya getirilmesiyle nihai karara varılması yöntemidir.\n",
    "\n",
    "- Bagging (bootstrap aggregation) (Breiman, 1996) ile Random Subspace (Ho, 1998) yöntemlerinin birleştirilmesi ile oluşmuştur.\n",
    "\n",
    "- Ağaçlar için **gözlemler (bagging-bootstrap aggregation) bootstrap rastgele örneklem yöntemi ile, değişkenler random subspace yöntemi ile seçilir.** Örneğin 500 tane ağaç varsa, bunlar veri setinin içerisine yerine koymalı yani bootstrap örnekleme yöntemi tekrar tekrar örneklem seçilerek ağaçlar oluşturulur ve bu ağaçların üzerinde modeller kurullur. Değişkenler seçiminde ise her bir ağaç içerisinde rastgele alt küme seçimi üzerinden değişkenler göz önünde bulundurulur. (gözlem seçimlerinde rastgelelik ve değişken seçimlerinde rastgelelik)\n",
    "\n",
    "- Karar ağacının her bir düğümünde en iyi dallara ayırıcı (bilgi kazancı) değişken tüm değişkenler arasından rastgele seçilen daha az sayıdaki değişken arasından seçilir. Örneği 100 tane değişken var. Bunun içerisinden 20 tane değişkeni rastgele seçer. Bu seçmiş olduğu 20 tane değişkene bakıp bunlara göre dallanma işlemlerine karar verir. Bu şekilde aslında değişken seçimi ve gözlem seçimi ile rassallığı korumuş olur, genellenebilirliği korumaya çalışır. **Random Forest, *random* ismini buradan almaktadır.**\n",
    "\n",
    "- Ağaç oluşturmada veri setinin 2/3'ü kullanılır. Dışarıda kalan veri ağaçların performans değerlendirmesi ve değişken öneminin belirlenmesi için kullanılır.\n",
    "\n",
    "- Her düğüm noktasında rastgele değişken seçimi yapılır. (regresyonda p/3, sınıflandırmada karekök p)"
   ]
  },
  {
   "cell_type": "markdown",
   "metadata": {},
   "source": [
    "Bagging ile Boosting yöntemleri arasındaki fark nedir?\n",
    "\n",
    "Bagging yöntemlerinde ağaçların birbirlerine bağımlılıkları yoktur. Boosting yöntemlerinde ise ağaçlar artıklar üzerine kurulur. Dolayısıyl ağaçların birbirlerine bağımlılıkları vardır. "
   ]
  },
  {
   "cell_type": "markdown",
   "metadata": {},
   "source": [
    "## Random Forest Kodlama Kısmı"
   ]
  },
  {
   "cell_type": "code",
   "execution_count": 2,
   "metadata": {},
   "outputs": [],
   "source": [
    "import warnings\n",
    "import numpy as np\n",
    "import pandas as pd\n",
    "import seaborn as sns\n",
    "import matplotlib.pyplot as plt\n",
    "from sklearn.ensemble import RandomForestClassifier, GradientBoostingClassifier, VotingClassifier\n",
    "from sklearn.model_selection import GridSearchCV, cross_validate, RandomizedSearchCV, validation_curve\n",
    "\n",
    "warnings.simplefilter(action='ignore', category=Warning)"
   ]
  },
  {
   "cell_type": "code",
   "execution_count": 3,
   "metadata": {},
   "outputs": [],
   "source": [
    "df = pd.read_csv(\"datasets/diabetes.csv\")"
   ]
  },
  {
   "cell_type": "code",
   "execution_count": 4,
   "metadata": {},
   "outputs": [],
   "source": [
    "y = df[\"Outcome\"]\n",
    "X = df.drop([\"Outcome\"], axis=1)"
   ]
  },
  {
   "cell_type": "markdown",
   "metadata": {},
   "source": [
    "### Random Forest"
   ]
  },
  {
   "cell_type": "code",
   "execution_count": 11,
   "metadata": {},
   "outputs": [],
   "source": [
    "rf_model = RandomForestClassifier(random_state=17)"
   ]
  },
  {
   "cell_type": "code",
   "execution_count": 12,
   "metadata": {},
   "outputs": [],
   "source": [
    "cv_results = cross_validate(rf_model, X, y, cv=10, scoring=[\"accuracy\", \"f1\", \"roc_auc\"])"
   ]
  },
  {
   "cell_type": "code",
   "execution_count": 13,
   "metadata": {},
   "outputs": [
    {
     "name": "stdout",
     "output_type": "stream",
     "text": [
      "Accuracy:  0.753896103896104\n",
      "F1:  0.6190701534636385\n",
      "ROC-AUC:  0.8233960113960114\n"
     ]
    }
   ],
   "source": [
    "print(\"Accuracy: \", cv_results[\"test_accuracy\"].mean())\n",
    "print(\"F1: \", cv_results[\"test_f1\"].mean())\n",
    "print(\"ROC-AUC: \", cv_results[\"test_roc_auc\"].mean())"
   ]
  },
  {
   "cell_type": "markdown",
   "metadata": {},
   "source": [
    "Modelimizde hiçbir parametre değiştirmek işlemi yapmadan düz kullandığımızda aldığımız sonuçlar yukarıdaki gibidir. Şimdi modelimize hiperparametre optimizasyonu yapalım ve ondan sonra sonuçlarımız nasıl etkilenmiş karşılaştıralım."
   ]
  },
  {
   "cell_type": "code",
   "execution_count": 14,
   "metadata": {},
   "outputs": [
    {
     "data": {
      "text/plain": [
       "{'bootstrap': True,\n",
       " 'ccp_alpha': 0.0,\n",
       " 'class_weight': None,\n",
       " 'criterion': 'gini',\n",
       " 'max_depth': None,\n",
       " 'max_features': 'auto',\n",
       " 'max_leaf_nodes': None,\n",
       " 'max_samples': None,\n",
       " 'min_impurity_decrease': 0.0,\n",
       " 'min_impurity_split': None,\n",
       " 'min_samples_leaf': 1,\n",
       " 'min_samples_split': 2,\n",
       " 'min_weight_fraction_leaf': 0.0,\n",
       " 'n_estimators': 100,\n",
       " 'n_jobs': None,\n",
       " 'oob_score': False,\n",
       " 'random_state': 17,\n",
       " 'verbose': 0,\n",
       " 'warm_start': False}"
      ]
     },
     "execution_count": 14,
     "metadata": {},
     "output_type": "execute_result"
    }
   ],
   "source": [
    "rf_model.get_params()"
   ]
  },
  {
   "cell_type": "markdown",
   "metadata": {},
   "source": [
    "Buradaki max_depth, max_features ve min_samples_split bizim için önemli. n_estimators, fit edilecek bağımsız ağaç sayısını ifade etmektedir. Buradaki modelden en iyi verimi alabilmek için bu hiperparametrelere hangi değerleri girmeliyim? Bu noktada GridSearch yapmamız gerekiyor. Bunun için bu değişkenlerde gezecek değerlerin bir sözlük içerisinde tanıtmamız gerekiyor."
   ]
  },
  {
   "cell_type": "code",
   "execution_count": 15,
   "metadata": {},
   "outputs": [],
   "source": [
    "rf_params = {\"max_depth\": [5, 8, None],\n",
    "            \"max_features\": [3, 5, 7, \"auto\"],\n",
    "            \"min_samples_split\": [2, 5, 8, 15, 20],\n",
    "            \"n_estimators\": [100, 200, 500]}"
   ]
  },
  {
   "cell_type": "markdown",
   "metadata": {},
   "source": [
    "Hiperparametre optimizasyonu yaptığımız halde öncekinden daha yüksek hata aldık?\n",
    "\n",
    "Pratikte hiperparametre optimizasyonu sonrası elde edilen hata değerinin daha düşük olmasını bekleriz. Düşük olmamasının sebepleri; rastgelelikle ilgili olabilir, ön tanımlı argümanların arama setinde bulunmaması olabilir. Dolayısıyla yukarıda değerleri tuttuğumuz dict yapısında, her bir hiperparatrenin ön tanımlı değerleri de değerler arasında bulundurulmalıdır."
   ]
  },
  {
   "cell_type": "code",
   "execution_count": 16,
   "metadata": {},
   "outputs": [
    {
     "name": "stdout",
     "output_type": "stream",
     "text": [
      "Fitting 5 folds for each of 180 candidates, totalling 900 fits\n"
     ]
    },
    {
     "name": "stderr",
     "output_type": "stream",
     "text": [
      "[Parallel(n_jobs=-1)]: Using backend LokyBackend with 4 concurrent workers.\n",
      "[Parallel(n_jobs=-1)]: Done  42 tasks      | elapsed:   34.1s\n",
      "[Parallel(n_jobs=-1)]: Done 192 tasks      | elapsed:  2.0min\n",
      "[Parallel(n_jobs=-1)]: Done 442 tasks      | elapsed:  4.3min\n",
      "[Parallel(n_jobs=-1)]: Done 792 tasks      | elapsed:  7.3min\n",
      "[Parallel(n_jobs=-1)]: Done 900 out of 900 | elapsed:  8.2min finished\n"
     ]
    }
   ],
   "source": [
    "rf_best_grid = GridSearchCV(rf_model, rf_params, cv=5, n_jobs=-1, verbose=True).fit(X, y)"
   ]
  },
  {
   "cell_type": "code",
   "execution_count": 18,
   "metadata": {},
   "outputs": [
    {
     "data": {
      "text/plain": [
       "{'max_depth': None,\n",
       " 'max_features': 5,\n",
       " 'min_samples_split': 8,\n",
       " 'n_estimators': 500}"
      ]
     },
     "execution_count": 18,
     "metadata": {},
     "output_type": "execute_result"
    }
   ],
   "source": [
    "rf_best_grid.best_params_"
   ]
  },
  {
   "cell_type": "markdown",
   "metadata": {},
   "source": [
    "Modelimiz için en iyi parametreler yukarıdaki gibidir. Şimdi bu parametreleri modelimizin parametrelerine set edelim."
   ]
  },
  {
   "cell_type": "code",
   "execution_count": 20,
   "metadata": {},
   "outputs": [],
   "source": [
    "rf_final = rf_model.set_params(**rf_best_grid.best_params_, random_state=17).fit(X, y)"
   ]
  },
  {
   "cell_type": "markdown",
   "metadata": {},
   "source": [
    "Final modelimizi oluşturduk. Şimdi final modelimiz üzerinden cross validate yapalım ve hata sonuçlarımızı değerlendirelim."
   ]
  },
  {
   "cell_type": "code",
   "execution_count": 22,
   "metadata": {},
   "outputs": [],
   "source": [
    "cv_results = cross_validate(rf_final, X, y, cv=10, scoring=[\"accuracy\", \"f1\", \"roc_auc\"])"
   ]
  },
  {
   "cell_type": "code",
   "execution_count": 23,
   "metadata": {},
   "outputs": [
    {
     "name": "stdout",
     "output_type": "stream",
     "text": [
      "Accuracy:  0.766848940533151\n",
      "F1:  0.6447777811143756\n",
      "ROC-AUC:  0.8271054131054132\n"
     ]
    }
   ],
   "source": [
    "print(\"Accuracy: \", cv_results[\"test_accuracy\"].mean())\n",
    "print(\"F1: \", cv_results[\"test_f1\"].mean())\n",
    "print(\"ROC-AUC: \", cv_results[\"test_roc_auc\"].mean())"
   ]
  },
  {
   "cell_type": "markdown",
   "metadata": {},
   "source": [
    "Metriklerimiz artış göstermekle beraber hemen hemen yakın sonuçlar göstermiştir. Daha iyi yaklaşabilmek için feauture importances ve learning curve fonksiyonlarını kullanarak bunlara da bir göz atabiliriz."
   ]
  },
  {
   "cell_type": "code",
   "execution_count": 24,
   "metadata": {},
   "outputs": [],
   "source": [
    "def plot_importance(model, features, num=len(X), save=False):\n",
    "    # featureların katkı değerleri ve bu featureların isimlerinin tutulduğu bir df oluşturulması\n",
    "    feature_imp = pd.DataFrame({'Value': model.feature_importances_, 'Feature': features.columns})\n",
    "    # oluşturduğumuz df'nin bir sütun grafik ile görselleştirilmesi\n",
    "    plt.figure(figsize=(10, 10))\n",
    "    sns.set(font_scale=1)\n",
    "    sns.barplot(x='Value', y='Feature', data=feature_imp.sort_values(by='Value', ascending=False)[0:num]) # num parametresi df içerisinden kaç tane değişkenin grrafikte yer alacağını belirleyen parametre\n",
    "    plt.title('Features')\n",
    "    plt.tight_layout()\n",
    "    plt.show()\n",
    "    \n",
    "    if save: # eğer save parametresi true olarak girilirse, oluşturulan grafik aşağıdaki isim ile dosyaya kaydedilir\n",
    "        plt.savefig('importances.png')"
   ]
  },
  {
   "cell_type": "code",
   "execution_count": 25,
   "metadata": {},
   "outputs": [],
   "source": [
    "def val_curve_params(model, X, y, param_name, param_range, scoring=\"roc_auc\", cv=10):\n",
    "    train_score, test_score = validation_curve(\n",
    "    model, X=X, y=y, param_name=param_name, param_range=param_range, scoring=scoring, cv=cv)\n",
    "    \n",
    "    mean_train_score = np.mean(train_score, axis=1)\n",
    "    mean_test_score = np.mean(test_score, axis=1)\n",
    "    \n",
    "    plt.plot(param_range, mean_train_score,\n",
    "            label=\"Training Score\", color=\"b\")\n",
    "    \n",
    "    plt.plot(param_range, mean_test_score,\n",
    "            label=\"Test (Validation) Score\", color=\"g\")\n",
    "    \n",
    "    plt.title(f\"Test (Validation) Curve for {type(model).__name__}\")\n",
    "    plt.xlabel(f\"Number of {param_name}\")\n",
    "    plt.ylabel(f\"{scoring}\")\n",
    "    plt.tight_layout()\n",
    "    plt.legend(loc=\"best\")\n",
    "    plt.show()"
   ]
  },
  {
   "cell_type": "code",
   "execution_count": 26,
   "metadata": {},
   "outputs": [
    {
     "data": {
      "image/png": "[encoded data removed]",
      "text/plain": [
       "<Figure size 720x720 with 1 Axes>"
      ]
     },
     "metadata": {
      "needs_background": "light"
     },
     "output_type": "display_data"
    }
   ],
   "source": [
    "plot_importance(rf_final, X)"
   ]
  },
  {
   "cell_type": "code",
   "execution_count": 27,
   "metadata": {},
   "outputs": [
    {
     "data": {
      "image/png": "[encoded data removed]",
      "text/plain": [
       "<Figure size 432x288 with 1 Axes>"
      ]
     },
     "metadata": {},
     "output_type": "display_data"
    }
   ],
   "source": [
    "val_curve_params(rf_final, X, y, \"max_depth\", range(1, 11))"
   ]
  },
  {
   "cell_type": "code",
   "execution_count": null,
   "metadata": {},
   "outputs": [],
   "source": []
  }
 ],
 "metadata": {
  "kernelspec": {
   "display_name": "Python 3 (ipykernel)",
   "language": "python",
   "name": "python3"
  },
  "language_info": {
   "codemirror_mode": {
    "name": "ipython",
    "version": 3
   },
   "file_extension": ".py",
   "mimetype": "text/x-python",
   "name": "python",
   "nbconvert_exporter": "python",
   "pygments_lexer": "ipython3",
   "version": "3.10.4"
  }
 },
 "nbformat": 4,
 "nbformat_minor": 4
}
