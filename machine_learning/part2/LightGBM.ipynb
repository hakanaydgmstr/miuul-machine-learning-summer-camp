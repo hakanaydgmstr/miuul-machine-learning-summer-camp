{
 "cells": [
  {
   "cell_type": "markdown",
   "metadata": {},
   "source": [
    "# LightGBM"
   ]
  },
  {
   "cell_type": "markdown",
   "metadata": {},
   "source": [
    "LightGBM, XGBoost'un eğitim süresi performansını arttırmaya yöntelik geliştirilen bir diğer GBM türüdür.\n",
    "\n",
    "Level-wise büyüme stratejisi yerine Leaf-wise büyüme stratejisi ile daha hızlıdır.\n",
    "\n",
    "XGBoost geniş kapsamlı bir ilk arama yaparken LightGBM derinlemesine ilk arama yapmaktadır."
   ]
  },
  {
   "cell_type": "markdown",
   "metadata": {},
   "source": [
    "## LightGBM Uygulama"
   ]
  },
  {
   "cell_type": "code",
   "execution_count": 2,
   "metadata": {},
   "outputs": [],
   "source": [
    "import warnings\n",
    "import numpy as np\n",
    "import pandas as pd\n",
    "import seaborn as sns\n",
    "import matplotlib.pyplot as plt\n",
    "from sklearn.ensemble import RandomForestClassifier, GradientBoostingClassifier, VotingClassifier\n",
    "from sklearn.model_selection import GridSearchCV, cross_validate, RandomizedSearchCV, validation_curve\n",
    "\n",
    "warnings.simplefilter(action='ignore', category=Warning)\n",
    "\n",
    "from xgboost import XGBClassifier\n",
    "# !pip install lightgbm\n",
    "from lightgbm import LGBMClassifier\n",
    "# !pip install catboost\n",
    "# from catboost import CatBoostClassifier"
   ]
  },
  {
   "cell_type": "code",
   "execution_count": 3,
   "metadata": {},
   "outputs": [],
   "source": [
    "df = pd.read_csv(\"datasets/diabetes.csv\")"
   ]
  },
  {
   "cell_type": "code",
   "execution_count": 4,
   "metadata": {},
   "outputs": [],
   "source": [
    "y = df[\"Outcome\"]\n",
    "X = df.drop([\"Outcome\"], axis=1)"
   ]
  },
  {
   "cell_type": "markdown",
   "metadata": {},
   "source": [
    "### LightGBM "
   ]
  },
  {
   "cell_type": "code",
   "execution_count": 5,
   "metadata": {},
   "outputs": [],
   "source": [
    "lgbm_model = LGBMClassifier(random_state=17)"
   ]
  },
  {
   "cell_type": "code",
   "execution_count": 6,
   "metadata": {},
   "outputs": [
    {
     "data": {
      "text/plain": [
       "{'boosting_type': 'gbdt',\n",
       " 'class_weight': None,\n",
       " 'colsample_bytree': 1.0,\n",
       " 'importance_type': 'split',\n",
       " 'learning_rate': 0.1,\n",
       " 'max_depth': -1,\n",
       " 'min_child_samples': 20,\n",
       " 'min_child_weight': 0.001,\n",
       " 'min_split_gain': 0.0,\n",
       " 'n_estimators': 100,\n",
       " 'n_jobs': -1,\n",
       " 'num_leaves': 31,\n",
       " 'objective': None,\n",
       " 'random_state': 17,\n",
       " 'reg_alpha': 0.0,\n",
       " 'reg_lambda': 0.0,\n",
       " 'silent': 'warn',\n",
       " 'subsample': 1.0,\n",
       " 'subsample_for_bin': 200000,\n",
       " 'subsample_freq': 0}"
      ]
     },
     "execution_count": 6,
     "metadata": {},
     "output_type": "execute_result"
    }
   ],
   "source": [
    "lgbm_model.get_params()"
   ]
  },
  {
   "cell_type": "markdown",
   "metadata": {},
   "source": [
    "Hiperparametre optimizasyonu yapmadan önceki hatalarımız:"
   ]
  },
  {
   "cell_type": "code",
   "execution_count": 7,
   "metadata": {},
   "outputs": [
    {
     "name": "stdout",
     "output_type": "stream",
     "text": [
      "Accuracy:  0.7474492827434004\n",
      "F1:  0.624110522144179\n",
      "ROC-AUC:  0.7990293501048218\n"
     ]
    }
   ],
   "source": [
    "cv_results = cross_validate(lgbm_model, X, y, cv=5, scoring=[\"accuracy\", \"f1\", \"roc_auc\"])\n",
    "print(\"Accuracy: \", cv_results[\"test_accuracy\"].mean())\n",
    "print(\"F1: \", cv_results[\"test_f1\"].mean())\n",
    "print(\"ROC-AUC: \", cv_results[\"test_roc_auc\"].mean())"
   ]
  },
  {
   "cell_type": "markdown",
   "metadata": {},
   "source": [
    "Şimdi optimizasyon işlemi için hiperparametrelerin ve değerlerinin tutulduğu bir sözlük yapısı oluşturalım."
   ]
  },
  {
   "cell_type": "code",
   "execution_count": 8,
   "metadata": {},
   "outputs": [],
   "source": [
    "lgbm_params = {\"learning_rate\": [0.01, 0.1, 0.001],\n",
    "              \"n_estimators\": [100, 300, 500, 1000],\n",
    "              \"colsample_bytree\": [0.5, 0.7, 1]}"
   ]
  },
  {
   "cell_type": "code",
   "execution_count": 9,
   "metadata": {},
   "outputs": [
    {
     "name": "stdout",
     "output_type": "stream",
     "text": [
      "Fitting 5 folds for each of 36 candidates, totalling 180 fits\n"
     ]
    },
    {
     "name": "stderr",
     "output_type": "stream",
     "text": [
      "[Parallel(n_jobs=-1)]: Using backend LokyBackend with 4 concurrent workers.\n",
      "[Parallel(n_jobs=-1)]: Done  42 tasks      | elapsed:   20.1s\n",
      "[Parallel(n_jobs=-1)]: Done 180 out of 180 | elapsed:  1.1min finished\n"
     ]
    }
   ],
   "source": [
    "lgbm_best_grid = GridSearchCV(lgbm_model, lgbm_params, cv=5, n_jobs=-1, verbose=True).fit(X, y)"
   ]
  },
  {
   "cell_type": "code",
   "execution_count": 10,
   "metadata": {},
   "outputs": [
    {
     "data": {
      "text/plain": [
       "{'colsample_bytree': 1, 'learning_rate': 0.01, 'n_estimators': 300}"
      ]
     },
     "execution_count": 10,
     "metadata": {},
     "output_type": "execute_result"
    }
   ],
   "source": [
    "lgbm_best_grid.best_params_"
   ]
  },
  {
   "cell_type": "code",
   "execution_count": 11,
   "metadata": {},
   "outputs": [],
   "source": [
    "lgbm_final = lgbm_model.set_params(**lgbm_best_grid.best_params_, random_state=17).fit(X, y)"
   ]
  },
  {
   "cell_type": "code",
   "execution_count": 12,
   "metadata": {},
   "outputs": [
    {
     "name": "stdout",
     "output_type": "stream",
     "text": [
      "Accuracy:  0.7643578643578645\n",
      "F1:  0.6372062920577772\n",
      "ROC-AUC:  0.8147491264849755\n"
     ]
    }
   ],
   "source": [
    "cv_results = cross_validate(lgbm_final, X, y, cv=5, scoring=[\"accuracy\", \"f1\", \"roc_auc\"])\n",
    "print(\"Accuracy: \", cv_results[\"test_accuracy\"].mean())\n",
    "print(\"F1: \", cv_results[\"test_f1\"].mean())\n",
    "print(\"ROC-AUC: \", cv_results[\"test_roc_auc\"].mean())"
   ]
  },
  {
   "cell_type": "markdown",
   "metadata": {},
   "source": [
    "LightGBM için en önemli parametre n_estimators (iterasyon) sayısıdır. Diğer hiperparametrelerin kombinasyonlarını belirledikten sonra tek başına n_estimators parametresini aramamız gerekir (10000lere kadar çıkabilir). Dolayısıyla öncelikle belirlediğimiz parametreleri baştan modele girip daha sonrasında yukarıdaki işlemi sadece n_estimators için yapmamız gerekli. "
   ]
  },
  {
   "cell_type": "code",
   "execution_count": 13,
   "metadata": {},
   "outputs": [],
   "source": [
    "lgbm_model = LGBMClassifier(random_state=17, colsample_bytree=1, learning_rate=0.01)"
   ]
  },
  {
   "cell_type": "code",
   "execution_count": 16,
   "metadata": {},
   "outputs": [],
   "source": [
    "lgbm_params = {\"n_estimators\": [300, 500, 750, 1000, 5000, 10000]}"
   ]
  },
  {
   "cell_type": "code",
   "execution_count": 17,
   "metadata": {},
   "outputs": [
    {
     "name": "stdout",
     "output_type": "stream",
     "text": [
      "Fitting 5 folds for each of 6 candidates, totalling 30 fits\n"
     ]
    },
    {
     "name": "stderr",
     "output_type": "stream",
     "text": [
      "[Parallel(n_jobs=-1)]: Using backend LokyBackend with 4 concurrent workers.\n",
      "[Parallel(n_jobs=-1)]: Done  30 out of  30 | elapsed:   57.8s finished\n"
     ]
    }
   ],
   "source": [
    "lgbm_best_grid = GridSearchCV(lgbm_model, lgbm_params, cv=5, n_jobs=-1, verbose=True).fit(X, y)"
   ]
  },
  {
   "cell_type": "code",
   "execution_count": 18,
   "metadata": {},
   "outputs": [
    {
     "data": {
      "text/plain": [
       "{'n_estimators': 300}"
      ]
     },
     "execution_count": 18,
     "metadata": {},
     "output_type": "execute_result"
    }
   ],
   "source": [
    "lgbm_best_grid.best_params_"
   ]
  },
  {
   "cell_type": "markdown",
   "metadata": {},
   "source": [
    "n_estimators için en verimli değerin değişmemesi veri setinin küçüklüğüyle alakalı olabilir. Fakat yine de eğer LightGBM kullanılıyorsa, 5000, 10000, 15000 gibi değerlerin mutlaka denenmesi gerekir. Bu değerlerle ilişkili bir şey çıkmıyorsa her halükarda denendi ve en iyisi buymuş yorumu yapılır."
   ]
  }
 ],
 "metadata": {
  "kernelspec": {
   "display_name": "Python 3 (ipykernel)",
   "language": "python",
   "name": "python3"
  },
  "language_info": {
   "codemirror_mode": {
    "name": "ipython",
    "version": 3
   },
   "file_extension": ".py",
   "mimetype": "text/x-python",
   "name": "python",
   "nbconvert_exporter": "python",
   "pygments_lexer": "ipython3",
   "version": "3.10.4"
  }
 },
 "nbformat": 4,
 "nbformat_minor": 4
}
