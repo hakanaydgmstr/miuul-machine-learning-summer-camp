{
 "cells": [
  {
   "cell_type": "markdown",
   "metadata": {},
   "source": [
    "# Hyperparameter Optimization with RandomSearchCV (BONUS)"
   ]
  },
  {
   "cell_type": "markdown",
   "metadata": {},
   "source": [
    "RandomSearchCV, verilecek bir parametre seti içerisinden rastgele seçimler yapar ve bu rastgele seçimleri arar. Örnek olarak bu işlemi bir random forest modeli için gerçekleştirelim."
   ]
  },
  {
   "cell_type": "code",
   "execution_count": 1,
   "metadata": {},
   "outputs": [],
   "source": [
    "import warnings\n",
    "import numpy as np\n",
    "import pandas as pd\n",
    "import seaborn as sns\n",
    "import matplotlib.pyplot as plt\n",
    "from sklearn.ensemble import RandomForestClassifier, GradientBoostingClassifier, VotingClassifier\n",
    "from sklearn.model_selection import GridSearchCV, cross_validate, RandomizedSearchCV, validation_curve\n",
    "\n",
    "warnings.simplefilter(action='ignore', category=Warning)\n",
    "\n",
    "# from xgboost import XGBClassifier\n",
    "# !pip install lightgbm\n",
    "# from lightgbm import LGBMClassifier\n",
    "# !pip install catboost\n",
    "# from catboost import CatBoostClassifier"
   ]
  },
  {
   "cell_type": "code",
   "execution_count": 2,
   "metadata": {},
   "outputs": [],
   "source": [
    "df = pd.read_csv(\"datasets/diabetes.csv\")"
   ]
  },
  {
   "cell_type": "code",
   "execution_count": 3,
   "metadata": {},
   "outputs": [],
   "source": [
    "y = df[\"Outcome\"]\n",
    "X = df.drop([\"Outcome\"], axis=1)"
   ]
  },
  {
   "cell_type": "code",
   "execution_count": 4,
   "metadata": {},
   "outputs": [],
   "source": [
    "rf_model = RandomForestClassifier(random_state=17)"
   ]
  },
  {
   "cell_type": "code",
   "execution_count": 5,
   "metadata": {},
   "outputs": [],
   "source": [
    "rf_random_params = {\"max_depth\": np.random.randint(5, 50, 10),\n",
    "                   \"max_features\": [3, 5, 7, \"auto\", \"sqrt\"],\n",
    "                   \"min_samples_split\": np.random.randint(2, 50, 20),\n",
    "                   \"n_estimators\": [int(x) for x in np.linspace(start=200, stop=1500, num=10)]}"
   ]
  },
  {
   "cell_type": "markdown",
   "metadata": {},
   "source": [
    "RandomSearch yöntemi, GridSearch yöntemine göre daha fazla daha geniş bir hiperparametre adayı arasından rastgele seçim yapar, bu seçtikleri üzerinden tek tek deneme yapar. Örneğin 5000 tane olası kombinasyondan 100 tanesini rastgele seç, bu seçtiğin 100 tanesi üzerinde aramaları yap."
   ]
  },
  {
   "cell_type": "markdown",
   "metadata": {},
   "source": [
    "Gidilecek yön bilinmiyorsa, ilgili algoritma üzerinde daha önce detaylı bir çalışma imkanı bulunmadıysa, önce bir RandomSearchCV'i getirip, buraya çok geniş bir hiperparametre seti girip, önce randomsearch ile burada arama yapıp, daha sonra burada randomsearch'e göre optimum olarak bulunan hiperparametrelerin etrafına yeni değerler koyarak daha az sayıda yeni değer koyarak GridSearchCV yönteminden geçirilebilir."
   ]
  },
  {
   "cell_type": "code",
   "execution_count": 6,
   "metadata": {},
   "outputs": [
    {
     "name": "stdout",
     "output_type": "stream",
     "text": [
      "Fitting 3 folds for each of 100 candidates, totalling 300 fits\n"
     ]
    },
    {
     "name": "stderr",
     "output_type": "stream",
     "text": [
      "[Parallel(n_jobs=-1)]: Using backend LokyBackend with 4 concurrent workers.\n",
      "[Parallel(n_jobs=-1)]: Done  42 tasks      | elapsed:  1.4min\n",
      "[Parallel(n_jobs=-1)]: Done 192 tasks      | elapsed:  5.4min\n",
      "[Parallel(n_jobs=-1)]: Done 300 out of 300 | elapsed:  9.0min finished\n"
     ]
    }
   ],
   "source": [
    "rf_random = RandomizedSearchCV(estimator=rf_model,\n",
    "                              param_distributions=rf_random_params,\n",
    "                              n_iter=100, #denenecek parametre sayısı\n",
    "                              cv=3,\n",
    "                              verbose=True,\n",
    "                              random_state=42,\n",
    "                              n_jobs=-1).fit(X, y)"
   ]
  },
  {
   "cell_type": "code",
   "execution_count": 7,
   "metadata": {},
   "outputs": [
    {
     "data": {
      "text/plain": [
       "{'n_estimators': 200,\n",
       " 'min_samples_split': 13,\n",
       " 'max_features': 'auto',\n",
       " 'max_depth': 45}"
      ]
     },
     "execution_count": 7,
     "metadata": {},
     "output_type": "execute_result"
    }
   ],
   "source": [
    "rf_random.best_params_"
   ]
  },
  {
   "cell_type": "code",
   "execution_count": 9,
   "metadata": {},
   "outputs": [],
   "source": [
    "rf_final = rf_model.set_params(**rf_random.best_params_, random_state=17).fit(X, y)"
   ]
  },
  {
   "cell_type": "code",
   "execution_count": 11,
   "metadata": {},
   "outputs": [
    {
     "name": "stdout",
     "output_type": "stream",
     "text": [
      "Accuracy:  0.7644087938205585\n",
      "F1:  0.6330145289426738\n",
      "ROC-AUC:  0.8349091544374563\n"
     ]
    }
   ],
   "source": [
    "cv_results = cross_validate(rf_final, X, y, cv=5, scoring=[\"accuracy\", \"f1\", \"roc_auc\"])\n",
    "print(\"Accuracy: \", cv_results[\"test_accuracy\"].mean())\n",
    "print(\"F1: \", cv_results[\"test_f1\"].mean())\n",
    "print(\"ROC-AUC: \", cv_results[\"test_roc_auc\"].mean())"
   ]
  },
  {
   "cell_type": "code",
   "execution_count": null,
   "metadata": {},
   "outputs": [],
   "source": []
  }
 ],
 "metadata": {
  "kernelspec": {
   "display_name": "Python 3",
   "language": "python",
   "name": "python3"
  },
  "language_info": {
   "codemirror_mode": {
    "name": "ipython",
    "version": 3
   },
   "file_extension": ".py",
   "mimetype": "text/x-python",
   "name": "python",
   "nbconvert_exporter": "python",
   "pygments_lexer": "ipython3",
   "version": "3.8.3"
  }
 },
 "nbformat": 4,
 "nbformat_minor": 4
}
