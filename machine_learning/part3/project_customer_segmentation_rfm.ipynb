{
 "cells": [
  {
   "cell_type": "code",
   "execution_count": 1,
   "id": "c726357e",
   "metadata": {},
   "outputs": [
    {
     "name": "stderr",
     "output_type": "stream",
     "text": [
      "C:\\Users\\btskd\\anaconda3\\envs\\for_clust\\lib\\site-packages\\scipy\\__init__.py:146: UserWarning: A NumPy version >=1.16.5 and <1.23.0 is required for this version of SciPy (detected version 1.23.1\n",
      "  warnings.warn(f\"A NumPy version >={np_minversion} and <{np_maxversion}\"\n"
     ]
    }
   ],
   "source": [
    "import warnings\n",
    "import numpy as np\n",
    "import pandas as pd\n",
    "import matplotlib.pyplot as plt\n",
    "from sklearn.cluster import KMeans\n",
    "from sklearn.preprocessing import MinMaxScaler\n",
    "from yellowbrick.cluster import KElbowVisualizer\n",
    "from scipy.cluster.hierarchy import linkage\n",
    "from scipy.cluster.hierarchy import dendrogram\n",
    "from sklearn.preprocessing import StandardScaler\n",
    "from sklearn.decomposition import PCA\n",
    "import datetime as dt\n",
    "\n",
    "warnings.simplefilter(action='ignore', category=Warning)\n",
    "\n",
    "from funcs.data_prep import *\n",
    "from funcs.eda import *"
   ]
  },
  {
   "cell_type": "markdown",
   "id": "e7a1e377",
   "metadata": {},
   "source": [
    "# Veri Setinin Yüklenmesi"
   ]
  },
  {
   "cell_type": "code",
   "execution_count": 2,
   "id": "8f220101",
   "metadata": {},
   "outputs": [],
   "source": [
    "df = pd.read_excel(\"../datasets/online_retail_II.xlsx\")"
   ]
  },
  {
   "cell_type": "code",
   "execution_count": 3,
   "id": "f0b82444",
   "metadata": {},
   "outputs": [
    {
     "data": {
      "text/html": [
       "<div>\n",
       "<style scoped>\n",
       "    .dataframe tbody tr th:only-of-type {\n",
       "        vertical-align: middle;\n",
       "    }\n",
       "\n",
       "    .dataframe tbody tr th {\n",
       "        vertical-align: top;\n",
       "    }\n",
       "\n",
       "    .dataframe thead th {\n",
       "        text-align: right;\n",
       "    }\n",
       "</style>\n",
       "<table border=\"1\" class=\"dataframe\">\n",
       "  <thead>\n",
       "    <tr style=\"text-align: right;\">\n",
       "      <th></th>\n",
       "      <th>Invoice</th>\n",
       "      <th>StockCode</th>\n",
       "      <th>Description</th>\n",
       "      <th>Quantity</th>\n",
       "      <th>InvoiceDate</th>\n",
       "      <th>Price</th>\n",
       "      <th>Customer ID</th>\n",
       "      <th>Country</th>\n",
       "    </tr>\n",
       "  </thead>\n",
       "  <tbody>\n",
       "    <tr>\n",
       "      <th>0</th>\n",
       "      <td>489434</td>\n",
       "      <td>85048</td>\n",
       "      <td>15CM CHRISTMAS GLASS BALL 20 LIGHTS</td>\n",
       "      <td>12</td>\n",
       "      <td>2009-12-01 07:45:00</td>\n",
       "      <td>6.95</td>\n",
       "      <td>13085.0</td>\n",
       "      <td>United Kingdom</td>\n",
       "    </tr>\n",
       "    <tr>\n",
       "      <th>1</th>\n",
       "      <td>489434</td>\n",
       "      <td>79323P</td>\n",
       "      <td>PINK CHERRY LIGHTS</td>\n",
       "      <td>12</td>\n",
       "      <td>2009-12-01 07:45:00</td>\n",
       "      <td>6.75</td>\n",
       "      <td>13085.0</td>\n",
       "      <td>United Kingdom</td>\n",
       "    </tr>\n",
       "    <tr>\n",
       "      <th>2</th>\n",
       "      <td>489434</td>\n",
       "      <td>79323W</td>\n",
       "      <td>WHITE CHERRY LIGHTS</td>\n",
       "      <td>12</td>\n",
       "      <td>2009-12-01 07:45:00</td>\n",
       "      <td>6.75</td>\n",
       "      <td>13085.0</td>\n",
       "      <td>United Kingdom</td>\n",
       "    </tr>\n",
       "    <tr>\n",
       "      <th>3</th>\n",
       "      <td>489434</td>\n",
       "      <td>22041</td>\n",
       "      <td>RECORD FRAME 7\" SINGLE SIZE</td>\n",
       "      <td>48</td>\n",
       "      <td>2009-12-01 07:45:00</td>\n",
       "      <td>2.10</td>\n",
       "      <td>13085.0</td>\n",
       "      <td>United Kingdom</td>\n",
       "    </tr>\n",
       "    <tr>\n",
       "      <th>4</th>\n",
       "      <td>489434</td>\n",
       "      <td>21232</td>\n",
       "      <td>STRAWBERRY CERAMIC TRINKET BOX</td>\n",
       "      <td>24</td>\n",
       "      <td>2009-12-01 07:45:00</td>\n",
       "      <td>1.25</td>\n",
       "      <td>13085.0</td>\n",
       "      <td>United Kingdom</td>\n",
       "    </tr>\n",
       "  </tbody>\n",
       "</table>\n",
       "</div>"
      ],
      "text/plain": [
       "  Invoice StockCode                          Description  Quantity  \\\n",
       "0  489434     85048  15CM CHRISTMAS GLASS BALL 20 LIGHTS        12   \n",
       "1  489434    79323P                   PINK CHERRY LIGHTS        12   \n",
       "2  489434    79323W                  WHITE CHERRY LIGHTS        12   \n",
       "3  489434     22041         RECORD FRAME 7\" SINGLE SIZE         48   \n",
       "4  489434     21232       STRAWBERRY CERAMIC TRINKET BOX        24   \n",
       "\n",
       "          InvoiceDate  Price  Customer ID         Country  \n",
       "0 2009-12-01 07:45:00   6.95      13085.0  United Kingdom  \n",
       "1 2009-12-01 07:45:00   6.75      13085.0  United Kingdom  \n",
       "2 2009-12-01 07:45:00   6.75      13085.0  United Kingdom  \n",
       "3 2009-12-01 07:45:00   2.10      13085.0  United Kingdom  \n",
       "4 2009-12-01 07:45:00   1.25      13085.0  United Kingdom  "
      ]
     },
     "execution_count": 3,
     "metadata": {},
     "output_type": "execute_result"
    }
   ],
   "source": [
    "df.head()"
   ]
  },
  {
   "cell_type": "code",
   "execution_count": 4,
   "id": "96f56ae7-7f94-48f0-a9fb-164167557e43",
   "metadata": {},
   "outputs": [
    {
     "data": {
      "text/plain": [
       "Invoice             0\n",
       "StockCode           0\n",
       "Description      2928\n",
       "Quantity            0\n",
       "InvoiceDate         0\n",
       "Price               0\n",
       "Customer ID    107927\n",
       "Country             0\n",
       "dtype: int64"
      ]
     },
     "execution_count": 4,
     "metadata": {},
     "output_type": "execute_result"
    }
   ],
   "source": [
    "df.isnull().sum()"
   ]
  },
  {
   "cell_type": "markdown",
   "id": "bf1a049a-17af-4bff-b18f-f8014f509059",
   "metadata": {},
   "source": [
    "Veri setinin bir kopyasını oluşturup eksik verileri siliyoruz. Ayrıca bazı faturaların başında C ifadesi yer almakta. Bu o siparişin iptal edildiği anlamına gelir. İade edilen siparişleri de veri setinden çıkarıyoruz."
   ]
  },
  {
   "cell_type": "code",
   "execution_count": 5,
   "id": "32400fa3",
   "metadata": {},
   "outputs": [],
   "source": [
    "df_copy = df.dropna()"
   ]
  },
  {
   "cell_type": "code",
   "execution_count": 6,
   "id": "70b820b2-9cf0-4afb-bc19-c207ebeb0a84",
   "metadata": {},
   "outputs": [],
   "source": [
    "df_copy = df_copy[~df_copy[\"Invoice\"].str.contains(\"C\",na=False)]"
   ]
  },
  {
   "cell_type": "code",
   "execution_count": 7,
   "id": "b20298ee",
   "metadata": {},
   "outputs": [
    {
     "data": {
      "text/plain": [
       "Invoice        0\n",
       "StockCode      0\n",
       "Description    0\n",
       "Quantity       0\n",
       "InvoiceDate    0\n",
       "Price          0\n",
       "Customer ID    0\n",
       "Country        0\n",
       "dtype: int64"
      ]
     },
     "execution_count": 7,
     "metadata": {},
     "output_type": "execute_result"
    }
   ],
   "source": [
    "df_copy.isnull().sum()"
   ]
  },
  {
   "cell_type": "code",
   "execution_count": 8,
   "id": "88bce535",
   "metadata": {},
   "outputs": [],
   "source": [
    "df_copy = df_copy.reset_index()"
   ]
  },
  {
   "cell_type": "code",
   "execution_count": 9,
   "id": "01c4cc32-2283-4145-9079-76f137d648ed",
   "metadata": {},
   "outputs": [],
   "source": [
    "df_copy.drop(\"index\", axis=1, inplace=True)"
   ]
  },
  {
   "cell_type": "code",
   "execution_count": 10,
   "id": "adc30beb-632c-4eab-b156-62d4af2de0fd",
   "metadata": {},
   "outputs": [
    {
     "data": {
      "text/html": [
       "<div>\n",
       "<style scoped>\n",
       "    .dataframe tbody tr th:only-of-type {\n",
       "        vertical-align: middle;\n",
       "    }\n",
       "\n",
       "    .dataframe tbody tr th {\n",
       "        vertical-align: top;\n",
       "    }\n",
       "\n",
       "    .dataframe thead th {\n",
       "        text-align: right;\n",
       "    }\n",
       "</style>\n",
       "<table border=\"1\" class=\"dataframe\">\n",
       "  <thead>\n",
       "    <tr style=\"text-align: right;\">\n",
       "      <th></th>\n",
       "      <th>Invoice</th>\n",
       "      <th>StockCode</th>\n",
       "      <th>Description</th>\n",
       "      <th>Quantity</th>\n",
       "      <th>InvoiceDate</th>\n",
       "      <th>Price</th>\n",
       "      <th>Customer ID</th>\n",
       "      <th>Country</th>\n",
       "    </tr>\n",
       "  </thead>\n",
       "  <tbody>\n",
       "    <tr>\n",
       "      <th>0</th>\n",
       "      <td>489434</td>\n",
       "      <td>85048</td>\n",
       "      <td>15CM CHRISTMAS GLASS BALL 20 LIGHTS</td>\n",
       "      <td>12</td>\n",
       "      <td>2009-12-01 07:45:00</td>\n",
       "      <td>6.95</td>\n",
       "      <td>13085.0</td>\n",
       "      <td>United Kingdom</td>\n",
       "    </tr>\n",
       "    <tr>\n",
       "      <th>1</th>\n",
       "      <td>489434</td>\n",
       "      <td>79323P</td>\n",
       "      <td>PINK CHERRY LIGHTS</td>\n",
       "      <td>12</td>\n",
       "      <td>2009-12-01 07:45:00</td>\n",
       "      <td>6.75</td>\n",
       "      <td>13085.0</td>\n",
       "      <td>United Kingdom</td>\n",
       "    </tr>\n",
       "    <tr>\n",
       "      <th>2</th>\n",
       "      <td>489434</td>\n",
       "      <td>79323W</td>\n",
       "      <td>WHITE CHERRY LIGHTS</td>\n",
       "      <td>12</td>\n",
       "      <td>2009-12-01 07:45:00</td>\n",
       "      <td>6.75</td>\n",
       "      <td>13085.0</td>\n",
       "      <td>United Kingdom</td>\n",
       "    </tr>\n",
       "    <tr>\n",
       "      <th>3</th>\n",
       "      <td>489434</td>\n",
       "      <td>22041</td>\n",
       "      <td>RECORD FRAME 7\" SINGLE SIZE</td>\n",
       "      <td>48</td>\n",
       "      <td>2009-12-01 07:45:00</td>\n",
       "      <td>2.10</td>\n",
       "      <td>13085.0</td>\n",
       "      <td>United Kingdom</td>\n",
       "    </tr>\n",
       "    <tr>\n",
       "      <th>4</th>\n",
       "      <td>489434</td>\n",
       "      <td>21232</td>\n",
       "      <td>STRAWBERRY CERAMIC TRINKET BOX</td>\n",
       "      <td>24</td>\n",
       "      <td>2009-12-01 07:45:00</td>\n",
       "      <td>1.25</td>\n",
       "      <td>13085.0</td>\n",
       "      <td>United Kingdom</td>\n",
       "    </tr>\n",
       "  </tbody>\n",
       "</table>\n",
       "</div>"
      ],
      "text/plain": [
       "  Invoice StockCode                          Description  Quantity  \\\n",
       "0  489434     85048  15CM CHRISTMAS GLASS BALL 20 LIGHTS        12   \n",
       "1  489434    79323P                   PINK CHERRY LIGHTS        12   \n",
       "2  489434    79323W                  WHITE CHERRY LIGHTS        12   \n",
       "3  489434     22041         RECORD FRAME 7\" SINGLE SIZE         48   \n",
       "4  489434     21232       STRAWBERRY CERAMIC TRINKET BOX        24   \n",
       "\n",
       "          InvoiceDate  Price  Customer ID         Country  \n",
       "0 2009-12-01 07:45:00   6.95      13085.0  United Kingdom  \n",
       "1 2009-12-01 07:45:00   6.75      13085.0  United Kingdom  \n",
       "2 2009-12-01 07:45:00   6.75      13085.0  United Kingdom  \n",
       "3 2009-12-01 07:45:00   2.10      13085.0  United Kingdom  \n",
       "4 2009-12-01 07:45:00   1.25      13085.0  United Kingdom  "
      ]
     },
     "execution_count": 10,
     "metadata": {},
     "output_type": "execute_result"
    }
   ],
   "source": [
    "df_copy.head()"
   ]
  },
  {
   "cell_type": "code",
   "execution_count": 11,
   "id": "0c182c52",
   "metadata": {},
   "outputs": [
    {
     "name": "stdout",
     "output_type": "stream",
     "text": [
      "<class 'pandas.core.frame.DataFrame'>\n",
      "RangeIndex: 407695 entries, 0 to 407694\n",
      "Data columns (total 8 columns):\n",
      " #   Column       Non-Null Count   Dtype         \n",
      "---  ------       --------------   -----         \n",
      " 0   Invoice      407695 non-null  object        \n",
      " 1   StockCode    407695 non-null  object        \n",
      " 2   Description  407695 non-null  object        \n",
      " 3   Quantity     407695 non-null  int64         \n",
      " 4   InvoiceDate  407695 non-null  datetime64[ns]\n",
      " 5   Price        407695 non-null  float64       \n",
      " 6   Customer ID  407695 non-null  float64       \n",
      " 7   Country      407695 non-null  object        \n",
      "dtypes: datetime64[ns](1), float64(2), int64(1), object(4)\n",
      "memory usage: 24.9+ MB\n"
     ]
    }
   ],
   "source": [
    "df_copy.info()"
   ]
  },
  {
   "cell_type": "markdown",
   "id": "8a047cac-03e6-482b-8404-d3f5b5819203",
   "metadata": {},
   "source": [
    "Veri setinde aynı müşterinin birden fazla işlemi olduğu için toplam müşteri sayısını öğrenmek zor. Dolayısıyla \"Country\" ve \"Customer ID\" değişkenlerinden farklı bir df oluşturup ID ve ülke bilgisinin sadece bir kere yazılmasını sağlarsak ülkelere göre müşteri sayısını gözlemleyebiliriz."
   ]
  },
  {
   "cell_type": "code",
   "execution_count": 12,
   "id": "d14a56c5",
   "metadata": {},
   "outputs": [],
   "source": [
    "filtered_df=df_copy[['Country','Customer ID']].drop_duplicates()"
   ]
  },
  {
   "cell_type": "code",
   "execution_count": 13,
   "id": "0f58189c",
   "metadata": {},
   "outputs": [
    {
     "data": {
      "text/html": [
       "<div>\n",
       "<style scoped>\n",
       "    .dataframe tbody tr th:only-of-type {\n",
       "        vertical-align: middle;\n",
       "    }\n",
       "\n",
       "    .dataframe tbody tr th {\n",
       "        vertical-align: top;\n",
       "    }\n",
       "\n",
       "    .dataframe thead th {\n",
       "        text-align: right;\n",
       "    }\n",
       "</style>\n",
       "<table border=\"1\" class=\"dataframe\">\n",
       "  <thead>\n",
       "    <tr style=\"text-align: right;\">\n",
       "      <th></th>\n",
       "      <th>Country</th>\n",
       "      <th>Customer ID</th>\n",
       "    </tr>\n",
       "  </thead>\n",
       "  <tbody>\n",
       "    <tr>\n",
       "      <th>0</th>\n",
       "      <td>United Kingdom</td>\n",
       "      <td>13085.0</td>\n",
       "    </tr>\n",
       "    <tr>\n",
       "      <th>12</th>\n",
       "      <td>United Kingdom</td>\n",
       "      <td>13078.0</td>\n",
       "    </tr>\n",
       "    <tr>\n",
       "      <th>31</th>\n",
       "      <td>United Kingdom</td>\n",
       "      <td>15362.0</td>\n",
       "    </tr>\n",
       "    <tr>\n",
       "      <th>54</th>\n",
       "      <td>United Kingdom</td>\n",
       "      <td>18102.0</td>\n",
       "    </tr>\n",
       "    <tr>\n",
       "      <th>71</th>\n",
       "      <td>France</td>\n",
       "      <td>12682.0</td>\n",
       "    </tr>\n",
       "  </tbody>\n",
       "</table>\n",
       "</div>"
      ],
      "text/plain": [
       "           Country  Customer ID\n",
       "0   United Kingdom      13085.0\n",
       "12  United Kingdom      13078.0\n",
       "31  United Kingdom      15362.0\n",
       "54  United Kingdom      18102.0\n",
       "71          France      12682.0"
      ]
     },
     "execution_count": 13,
     "metadata": {},
     "output_type": "execute_result"
    }
   ],
   "source": [
    "filtered_df.head()"
   ]
  },
  {
   "cell_type": "code",
   "execution_count": 14,
   "id": "a2cc5846",
   "metadata": {},
   "outputs": [
    {
     "data": {
      "text/plain": [
       "<AxesSubplot:>"
      ]
     },
     "execution_count": 14,
     "metadata": {},
     "output_type": "execute_result"
    },
    {
     "data": {
      "image/png": "[encoded data removed]",
      "text/plain": [
       "<Figure size 576x396 with 1 Axes>"
      ]
     },
     "metadata": {},
     "output_type": "display_data"
    }
   ],
   "source": [
    "filtered_df[\"Country\"].value_counts()[0:10].plot(kind='bar')"
   ]
  },
  {
   "cell_type": "markdown",
   "id": "377e9b48-cf39-4694-bb43-bc29283b48d5",
   "metadata": {},
   "source": [
    "En fazla müşteri United Kingdom'daymış. Diğer ülkelerin müşteri sayıları görece çok az olduğundan dolayı sadece United Kingdom müşterileri üzerinden işlem yapacağız."
   ]
  },
  {
   "cell_type": "code",
   "execution_count": 15,
   "id": "c060d65c",
   "metadata": {},
   "outputs": [],
   "source": [
    "uk_data = df_copy[df_copy[\"Country\"] == 'United Kingdom']"
   ]
  },
  {
   "cell_type": "code",
   "execution_count": 16,
   "id": "347b2e21",
   "metadata": {},
   "outputs": [
    {
     "data": {
      "text/html": [
       "<div>\n",
       "<style scoped>\n",
       "    .dataframe tbody tr th:only-of-type {\n",
       "        vertical-align: middle;\n",
       "    }\n",
       "\n",
       "    .dataframe tbody tr th {\n",
       "        vertical-align: top;\n",
       "    }\n",
       "\n",
       "    .dataframe thead th {\n",
       "        text-align: right;\n",
       "    }\n",
       "</style>\n",
       "<table border=\"1\" class=\"dataframe\">\n",
       "  <thead>\n",
       "    <tr style=\"text-align: right;\">\n",
       "      <th></th>\n",
       "      <th>Invoice</th>\n",
       "      <th>StockCode</th>\n",
       "      <th>Description</th>\n",
       "      <th>Quantity</th>\n",
       "      <th>InvoiceDate</th>\n",
       "      <th>Price</th>\n",
       "      <th>Customer ID</th>\n",
       "      <th>Country</th>\n",
       "    </tr>\n",
       "  </thead>\n",
       "  <tbody>\n",
       "    <tr>\n",
       "      <th>0</th>\n",
       "      <td>489434</td>\n",
       "      <td>85048</td>\n",
       "      <td>15CM CHRISTMAS GLASS BALL 20 LIGHTS</td>\n",
       "      <td>12</td>\n",
       "      <td>2009-12-01 07:45:00</td>\n",
       "      <td>6.95</td>\n",
       "      <td>13085.0</td>\n",
       "      <td>United Kingdom</td>\n",
       "    </tr>\n",
       "    <tr>\n",
       "      <th>1</th>\n",
       "      <td>489434</td>\n",
       "      <td>79323P</td>\n",
       "      <td>PINK CHERRY LIGHTS</td>\n",
       "      <td>12</td>\n",
       "      <td>2009-12-01 07:45:00</td>\n",
       "      <td>6.75</td>\n",
       "      <td>13085.0</td>\n",
       "      <td>United Kingdom</td>\n",
       "    </tr>\n",
       "    <tr>\n",
       "      <th>2</th>\n",
       "      <td>489434</td>\n",
       "      <td>79323W</td>\n",
       "      <td>WHITE CHERRY LIGHTS</td>\n",
       "      <td>12</td>\n",
       "      <td>2009-12-01 07:45:00</td>\n",
       "      <td>6.75</td>\n",
       "      <td>13085.0</td>\n",
       "      <td>United Kingdom</td>\n",
       "    </tr>\n",
       "    <tr>\n",
       "      <th>3</th>\n",
       "      <td>489434</td>\n",
       "      <td>22041</td>\n",
       "      <td>RECORD FRAME 7\" SINGLE SIZE</td>\n",
       "      <td>48</td>\n",
       "      <td>2009-12-01 07:45:00</td>\n",
       "      <td>2.10</td>\n",
       "      <td>13085.0</td>\n",
       "      <td>United Kingdom</td>\n",
       "    </tr>\n",
       "    <tr>\n",
       "      <th>4</th>\n",
       "      <td>489434</td>\n",
       "      <td>21232</td>\n",
       "      <td>STRAWBERRY CERAMIC TRINKET BOX</td>\n",
       "      <td>24</td>\n",
       "      <td>2009-12-01 07:45:00</td>\n",
       "      <td>1.25</td>\n",
       "      <td>13085.0</td>\n",
       "      <td>United Kingdom</td>\n",
       "    </tr>\n",
       "  </tbody>\n",
       "</table>\n",
       "</div>"
      ],
      "text/plain": [
       "  Invoice StockCode                          Description  Quantity  \\\n",
       "0  489434     85048  15CM CHRISTMAS GLASS BALL 20 LIGHTS        12   \n",
       "1  489434    79323P                   PINK CHERRY LIGHTS        12   \n",
       "2  489434    79323W                  WHITE CHERRY LIGHTS        12   \n",
       "3  489434     22041         RECORD FRAME 7\" SINGLE SIZE         48   \n",
       "4  489434     21232       STRAWBERRY CERAMIC TRINKET BOX        24   \n",
       "\n",
       "          InvoiceDate  Price  Customer ID         Country  \n",
       "0 2009-12-01 07:45:00   6.95      13085.0  United Kingdom  \n",
       "1 2009-12-01 07:45:00   6.75      13085.0  United Kingdom  \n",
       "2 2009-12-01 07:45:00   6.75      13085.0  United Kingdom  \n",
       "3 2009-12-01 07:45:00   2.10      13085.0  United Kingdom  \n",
       "4 2009-12-01 07:45:00   1.25      13085.0  United Kingdom  "
      ]
     },
     "execution_count": 16,
     "metadata": {},
     "output_type": "execute_result"
    }
   ],
   "source": [
    "uk_data.head()"
   ]
  },
  {
   "cell_type": "code",
   "execution_count": 17,
   "id": "13462851",
   "metadata": {},
   "outputs": [
    {
     "data": {
      "text/html": [
       "<div>\n",
       "<style scoped>\n",
       "    .dataframe tbody tr th:only-of-type {\n",
       "        vertical-align: middle;\n",
       "    }\n",
       "\n",
       "    .dataframe tbody tr th {\n",
       "        vertical-align: top;\n",
       "    }\n",
       "\n",
       "    .dataframe thead th {\n",
       "        text-align: right;\n",
       "    }\n",
       "</style>\n",
       "<table border=\"1\" class=\"dataframe\">\n",
       "  <thead>\n",
       "    <tr style=\"text-align: right;\">\n",
       "      <th></th>\n",
       "      <th>count</th>\n",
       "      <th>mean</th>\n",
       "      <th>std</th>\n",
       "      <th>min</th>\n",
       "      <th>25%</th>\n",
       "      <th>50%</th>\n",
       "      <th>75%</th>\n",
       "      <th>max</th>\n",
       "    </tr>\n",
       "  </thead>\n",
       "  <tbody>\n",
       "    <tr>\n",
       "      <th>Quantity</th>\n",
       "      <td>370951.0</td>\n",
       "      <td>11.994444</td>\n",
       "      <td>67.394793</td>\n",
       "      <td>1.0</td>\n",
       "      <td>2.00</td>\n",
       "      <td>4.00</td>\n",
       "      <td>12.00</td>\n",
       "      <td>10000.0</td>\n",
       "    </tr>\n",
       "    <tr>\n",
       "      <th>Price</th>\n",
       "      <td>370951.0</td>\n",
       "      <td>3.145220</td>\n",
       "      <td>30.551482</td>\n",
       "      <td>0.0</td>\n",
       "      <td>1.25</td>\n",
       "      <td>1.95</td>\n",
       "      <td>3.75</td>\n",
       "      <td>10953.5</td>\n",
       "    </tr>\n",
       "    <tr>\n",
       "      <th>Customer ID</th>\n",
       "      <td>370951.0</td>\n",
       "      <td>15565.407693</td>\n",
       "      <td>1593.187209</td>\n",
       "      <td>12346.0</td>\n",
       "      <td>14215.00</td>\n",
       "      <td>15601.00</td>\n",
       "      <td>16940.00</td>\n",
       "      <td>18287.0</td>\n",
       "    </tr>\n",
       "  </tbody>\n",
       "</table>\n",
       "</div>"
      ],
      "text/plain": [
       "                count          mean          std      min       25%       50%  \\\n",
       "Quantity     370951.0     11.994444    67.394793      1.0      2.00      4.00   \n",
       "Price        370951.0      3.145220    30.551482      0.0      1.25      1.95   \n",
       "Customer ID  370951.0  15565.407693  1593.187209  12346.0  14215.00  15601.00   \n",
       "\n",
       "                  75%      max  \n",
       "Quantity        12.00  10000.0  \n",
       "Price            3.75  10953.5  \n",
       "Customer ID  16940.00  18287.0  "
      ]
     },
     "execution_count": 17,
     "metadata": {},
     "output_type": "execute_result"
    }
   ],
   "source": [
    "uk_data.describe().T"
   ]
  },
  {
   "cell_type": "markdown",
   "id": "53a69787-c77f-4d36-95d9-25ffdf0ee26f",
   "metadata": {},
   "source": [
    "Quantity değişkeninde 0'dan küçük değerler var. Bu değerleri hatalı olarak kabul edeceğiz. Dolayısıyla veri setimizden çıkarıyoruz."
   ]
  },
  {
   "cell_type": "code",
   "execution_count": 18,
   "id": "f6caba36",
   "metadata": {},
   "outputs": [],
   "source": [
    "uk_data = uk_data[(uk_data['Quantity'] > 0)]"
   ]
  },
  {
   "cell_type": "code",
   "execution_count": 19,
   "id": "9adaa63c-86de-4a92-97f0-63ef2f7fa6e2",
   "metadata": {},
   "outputs": [],
   "source": [
    "uk_data = uk_data[(uk_data['Price'] > 0)]"
   ]
  },
  {
   "cell_type": "code",
   "execution_count": 20,
   "id": "7a6be5c9",
   "metadata": {},
   "outputs": [
    {
     "data": {
      "text/html": [
       "<div>\n",
       "<style scoped>\n",
       "    .dataframe tbody tr th:only-of-type {\n",
       "        vertical-align: middle;\n",
       "    }\n",
       "\n",
       "    .dataframe tbody tr th {\n",
       "        vertical-align: top;\n",
       "    }\n",
       "\n",
       "    .dataframe thead th {\n",
       "        text-align: right;\n",
       "    }\n",
       "</style>\n",
       "<table border=\"1\" class=\"dataframe\">\n",
       "  <thead>\n",
       "    <tr style=\"text-align: right;\">\n",
       "      <th></th>\n",
       "      <th>count</th>\n",
       "      <th>mean</th>\n",
       "      <th>std</th>\n",
       "      <th>min</th>\n",
       "      <th>25%</th>\n",
       "      <th>50%</th>\n",
       "      <th>75%</th>\n",
       "      <th>max</th>\n",
       "    </tr>\n",
       "  </thead>\n",
       "  <tbody>\n",
       "    <tr>\n",
       "      <th>Quantity</th>\n",
       "      <td>370929.0</td>\n",
       "      <td>11.993058</td>\n",
       "      <td>67.388673</td>\n",
       "      <td>1.000</td>\n",
       "      <td>2.00</td>\n",
       "      <td>4.00</td>\n",
       "      <td>12.00</td>\n",
       "      <td>10000.0</td>\n",
       "    </tr>\n",
       "    <tr>\n",
       "      <th>Price</th>\n",
       "      <td>370929.0</td>\n",
       "      <td>3.145406</td>\n",
       "      <td>30.552378</td>\n",
       "      <td>0.001</td>\n",
       "      <td>1.25</td>\n",
       "      <td>1.95</td>\n",
       "      <td>3.75</td>\n",
       "      <td>10953.5</td>\n",
       "    </tr>\n",
       "    <tr>\n",
       "      <th>Customer ID</th>\n",
       "      <td>370929.0</td>\n",
       "      <td>15565.454823</td>\n",
       "      <td>1593.169081</td>\n",
       "      <td>12346.000</td>\n",
       "      <td>14215.00</td>\n",
       "      <td>15601.00</td>\n",
       "      <td>16941.00</td>\n",
       "      <td>18287.0</td>\n",
       "    </tr>\n",
       "  </tbody>\n",
       "</table>\n",
       "</div>"
      ],
      "text/plain": [
       "                count          mean          std        min       25%  \\\n",
       "Quantity     370929.0     11.993058    67.388673      1.000      2.00   \n",
       "Price        370929.0      3.145406    30.552378      0.001      1.25   \n",
       "Customer ID  370929.0  15565.454823  1593.169081  12346.000  14215.00   \n",
       "\n",
       "                  50%       75%      max  \n",
       "Quantity         4.00     12.00  10000.0  \n",
       "Price            1.95      3.75  10953.5  \n",
       "Customer ID  15601.00  16941.00  18287.0  "
      ]
     },
     "execution_count": 20,
     "metadata": {},
     "output_type": "execute_result"
    }
   ],
   "source": [
    "uk_data.describe().T"
   ]
  },
  {
   "cell_type": "code",
   "execution_count": 21,
   "id": "b333bc5a",
   "metadata": {},
   "outputs": [
    {
     "data": {
      "text/html": [
       "<div>\n",
       "<style scoped>\n",
       "    .dataframe tbody tr th:only-of-type {\n",
       "        vertical-align: middle;\n",
       "    }\n",
       "\n",
       "    .dataframe tbody tr th {\n",
       "        vertical-align: top;\n",
       "    }\n",
       "\n",
       "    .dataframe thead th {\n",
       "        text-align: right;\n",
       "    }\n",
       "</style>\n",
       "<table border=\"1\" class=\"dataframe\">\n",
       "  <thead>\n",
       "    <tr style=\"text-align: right;\">\n",
       "      <th></th>\n",
       "      <th>Invoice</th>\n",
       "      <th>StockCode</th>\n",
       "      <th>Description</th>\n",
       "      <th>Quantity</th>\n",
       "      <th>InvoiceDate</th>\n",
       "      <th>Price</th>\n",
       "      <th>Customer ID</th>\n",
       "      <th>Country</th>\n",
       "    </tr>\n",
       "  </thead>\n",
       "  <tbody>\n",
       "    <tr>\n",
       "      <th>0</th>\n",
       "      <td>489434</td>\n",
       "      <td>85048</td>\n",
       "      <td>15CM CHRISTMAS GLASS BALL 20 LIGHTS</td>\n",
       "      <td>12</td>\n",
       "      <td>2009-12-01 07:45:00</td>\n",
       "      <td>6.95</td>\n",
       "      <td>13085.0</td>\n",
       "      <td>United Kingdom</td>\n",
       "    </tr>\n",
       "    <tr>\n",
       "      <th>1</th>\n",
       "      <td>489434</td>\n",
       "      <td>79323P</td>\n",
       "      <td>PINK CHERRY LIGHTS</td>\n",
       "      <td>12</td>\n",
       "      <td>2009-12-01 07:45:00</td>\n",
       "      <td>6.75</td>\n",
       "      <td>13085.0</td>\n",
       "      <td>United Kingdom</td>\n",
       "    </tr>\n",
       "    <tr>\n",
       "      <th>2</th>\n",
       "      <td>489434</td>\n",
       "      <td>79323W</td>\n",
       "      <td>WHITE CHERRY LIGHTS</td>\n",
       "      <td>12</td>\n",
       "      <td>2009-12-01 07:45:00</td>\n",
       "      <td>6.75</td>\n",
       "      <td>13085.0</td>\n",
       "      <td>United Kingdom</td>\n",
       "    </tr>\n",
       "    <tr>\n",
       "      <th>3</th>\n",
       "      <td>489434</td>\n",
       "      <td>22041</td>\n",
       "      <td>RECORD FRAME 7\" SINGLE SIZE</td>\n",
       "      <td>48</td>\n",
       "      <td>2009-12-01 07:45:00</td>\n",
       "      <td>2.10</td>\n",
       "      <td>13085.0</td>\n",
       "      <td>United Kingdom</td>\n",
       "    </tr>\n",
       "    <tr>\n",
       "      <th>4</th>\n",
       "      <td>489434</td>\n",
       "      <td>21232</td>\n",
       "      <td>STRAWBERRY CERAMIC TRINKET BOX</td>\n",
       "      <td>24</td>\n",
       "      <td>2009-12-01 07:45:00</td>\n",
       "      <td>1.25</td>\n",
       "      <td>13085.0</td>\n",
       "      <td>United Kingdom</td>\n",
       "    </tr>\n",
       "  </tbody>\n",
       "</table>\n",
       "</div>"
      ],
      "text/plain": [
       "  Invoice StockCode                          Description  Quantity  \\\n",
       "0  489434     85048  15CM CHRISTMAS GLASS BALL 20 LIGHTS        12   \n",
       "1  489434    79323P                   PINK CHERRY LIGHTS        12   \n",
       "2  489434    79323W                  WHITE CHERRY LIGHTS        12   \n",
       "3  489434     22041         RECORD FRAME 7\" SINGLE SIZE         48   \n",
       "4  489434     21232       STRAWBERRY CERAMIC TRINKET BOX        24   \n",
       "\n",
       "          InvoiceDate  Price  Customer ID         Country  \n",
       "0 2009-12-01 07:45:00   6.95      13085.0  United Kingdom  \n",
       "1 2009-12-01 07:45:00   6.75      13085.0  United Kingdom  \n",
       "2 2009-12-01 07:45:00   6.75      13085.0  United Kingdom  \n",
       "3 2009-12-01 07:45:00   2.10      13085.0  United Kingdom  \n",
       "4 2009-12-01 07:45:00   1.25      13085.0  United Kingdom  "
      ]
     },
     "execution_count": 21,
     "metadata": {},
     "output_type": "execute_result"
    }
   ],
   "source": [
    "uk_data.head()"
   ]
  },
  {
   "cell_type": "markdown",
   "id": "a8b9b3f8-d96a-4b17-a6f8-40cea0d0cd14",
   "metadata": {},
   "source": [
    "RFM analizi yapabilmemiz için gerekli olan değişkenleri bir df içerisine alıyoruz."
   ]
  },
  {
   "cell_type": "code",
   "execution_count": 22,
   "id": "7511bfd5",
   "metadata": {},
   "outputs": [],
   "source": [
    "uk_data_copy = uk_data[['Customer ID','InvoiceDate','Invoice','Quantity','Price']]"
   ]
  },
  {
   "cell_type": "code",
   "execution_count": 23,
   "id": "a25ccf93",
   "metadata": {},
   "outputs": [
    {
     "data": {
      "text/html": [
       "<div>\n",
       "<style scoped>\n",
       "    .dataframe tbody tr th:only-of-type {\n",
       "        vertical-align: middle;\n",
       "    }\n",
       "\n",
       "    .dataframe tbody tr th {\n",
       "        vertical-align: top;\n",
       "    }\n",
       "\n",
       "    .dataframe thead th {\n",
       "        text-align: right;\n",
       "    }\n",
       "</style>\n",
       "<table border=\"1\" class=\"dataframe\">\n",
       "  <thead>\n",
       "    <tr style=\"text-align: right;\">\n",
       "      <th></th>\n",
       "      <th>Customer ID</th>\n",
       "      <th>InvoiceDate</th>\n",
       "      <th>Invoice</th>\n",
       "      <th>Quantity</th>\n",
       "      <th>Price</th>\n",
       "    </tr>\n",
       "  </thead>\n",
       "  <tbody>\n",
       "    <tr>\n",
       "      <th>0</th>\n",
       "      <td>13085.0</td>\n",
       "      <td>2009-12-01 07:45:00</td>\n",
       "      <td>489434</td>\n",
       "      <td>12</td>\n",
       "      <td>6.95</td>\n",
       "    </tr>\n",
       "    <tr>\n",
       "      <th>1</th>\n",
       "      <td>13085.0</td>\n",
       "      <td>2009-12-01 07:45:00</td>\n",
       "      <td>489434</td>\n",
       "      <td>12</td>\n",
       "      <td>6.75</td>\n",
       "    </tr>\n",
       "    <tr>\n",
       "      <th>2</th>\n",
       "      <td>13085.0</td>\n",
       "      <td>2009-12-01 07:45:00</td>\n",
       "      <td>489434</td>\n",
       "      <td>12</td>\n",
       "      <td>6.75</td>\n",
       "    </tr>\n",
       "    <tr>\n",
       "      <th>3</th>\n",
       "      <td>13085.0</td>\n",
       "      <td>2009-12-01 07:45:00</td>\n",
       "      <td>489434</td>\n",
       "      <td>48</td>\n",
       "      <td>2.10</td>\n",
       "    </tr>\n",
       "    <tr>\n",
       "      <th>4</th>\n",
       "      <td>13085.0</td>\n",
       "      <td>2009-12-01 07:45:00</td>\n",
       "      <td>489434</td>\n",
       "      <td>24</td>\n",
       "      <td>1.25</td>\n",
       "    </tr>\n",
       "  </tbody>\n",
       "</table>\n",
       "</div>"
      ],
      "text/plain": [
       "   Customer ID         InvoiceDate Invoice  Quantity  Price\n",
       "0      13085.0 2009-12-01 07:45:00  489434        12   6.95\n",
       "1      13085.0 2009-12-01 07:45:00  489434        12   6.75\n",
       "2      13085.0 2009-12-01 07:45:00  489434        12   6.75\n",
       "3      13085.0 2009-12-01 07:45:00  489434        48   2.10\n",
       "4      13085.0 2009-12-01 07:45:00  489434        24   1.25"
      ]
     },
     "execution_count": 23,
     "metadata": {},
     "output_type": "execute_result"
    }
   ],
   "source": [
    "uk_data_copy.head()"
   ]
  },
  {
   "cell_type": "markdown",
   "id": "2ca5319c-013d-463c-be33-4a24e5e44a1d",
   "metadata": {},
   "source": [
    "Müşterinin ilgili ürüne toplam harcadığı tutar:"
   ]
  },
  {
   "cell_type": "code",
   "execution_count": 24,
   "id": "43e997f0",
   "metadata": {},
   "outputs": [],
   "source": [
    "# ilgili ürün için toplam harcanan miktar\n",
    "uk_data_copy['TotalPrice'] = uk_data_copy['Quantity'] * uk_data_copy['Price']"
   ]
  },
  {
   "cell_type": "code",
   "execution_count": 25,
   "id": "f5d393cf",
   "metadata": {},
   "outputs": [
    {
     "data": {
      "text/html": [
       "<div>\n",
       "<style scoped>\n",
       "    .dataframe tbody tr th:only-of-type {\n",
       "        vertical-align: middle;\n",
       "    }\n",
       "\n",
       "    .dataframe tbody tr th {\n",
       "        vertical-align: top;\n",
       "    }\n",
       "\n",
       "    .dataframe thead th {\n",
       "        text-align: right;\n",
       "    }\n",
       "</style>\n",
       "<table border=\"1\" class=\"dataframe\">\n",
       "  <thead>\n",
       "    <tr style=\"text-align: right;\">\n",
       "      <th></th>\n",
       "      <th>Customer ID</th>\n",
       "      <th>InvoiceDate</th>\n",
       "      <th>Invoice</th>\n",
       "      <th>Quantity</th>\n",
       "      <th>Price</th>\n",
       "      <th>TotalPrice</th>\n",
       "    </tr>\n",
       "  </thead>\n",
       "  <tbody>\n",
       "    <tr>\n",
       "      <th>0</th>\n",
       "      <td>13085.0</td>\n",
       "      <td>2009-12-01 07:45:00</td>\n",
       "      <td>489434</td>\n",
       "      <td>12</td>\n",
       "      <td>6.95</td>\n",
       "      <td>83.4</td>\n",
       "    </tr>\n",
       "    <tr>\n",
       "      <th>1</th>\n",
       "      <td>13085.0</td>\n",
       "      <td>2009-12-01 07:45:00</td>\n",
       "      <td>489434</td>\n",
       "      <td>12</td>\n",
       "      <td>6.75</td>\n",
       "      <td>81.0</td>\n",
       "    </tr>\n",
       "    <tr>\n",
       "      <th>2</th>\n",
       "      <td>13085.0</td>\n",
       "      <td>2009-12-01 07:45:00</td>\n",
       "      <td>489434</td>\n",
       "      <td>12</td>\n",
       "      <td>6.75</td>\n",
       "      <td>81.0</td>\n",
       "    </tr>\n",
       "    <tr>\n",
       "      <th>3</th>\n",
       "      <td>13085.0</td>\n",
       "      <td>2009-12-01 07:45:00</td>\n",
       "      <td>489434</td>\n",
       "      <td>48</td>\n",
       "      <td>2.10</td>\n",
       "      <td>100.8</td>\n",
       "    </tr>\n",
       "    <tr>\n",
       "      <th>4</th>\n",
       "      <td>13085.0</td>\n",
       "      <td>2009-12-01 07:45:00</td>\n",
       "      <td>489434</td>\n",
       "      <td>24</td>\n",
       "      <td>1.25</td>\n",
       "      <td>30.0</td>\n",
       "    </tr>\n",
       "  </tbody>\n",
       "</table>\n",
       "</div>"
      ],
      "text/plain": [
       "   Customer ID         InvoiceDate Invoice  Quantity  Price  TotalPrice\n",
       "0      13085.0 2009-12-01 07:45:00  489434        12   6.95        83.4\n",
       "1      13085.0 2009-12-01 07:45:00  489434        12   6.75        81.0\n",
       "2      13085.0 2009-12-01 07:45:00  489434        12   6.75        81.0\n",
       "3      13085.0 2009-12-01 07:45:00  489434        48   2.10       100.8\n",
       "4      13085.0 2009-12-01 07:45:00  489434        24   1.25        30.0"
      ]
     },
     "execution_count": 25,
     "metadata": {},
     "output_type": "execute_result"
    }
   ],
   "source": [
    "uk_data_copy.head()"
   ]
  },
  {
   "cell_type": "markdown",
   "id": "b13ba333-94af-4891-8c1f-1288f860cf86",
   "metadata": {},
   "source": [
    "Veri setinde yapılan ilk alışverişin ve son alışverişin tarihleri. Son tarihten bir gün sonrasını şu anki tarih olarak varsayacağız."
   ]
  },
  {
   "cell_type": "code",
   "execution_count": 26,
   "id": "0990a887",
   "metadata": {},
   "outputs": [
    {
     "data": {
      "text/plain": [
       "(Timestamp('2009-12-01 07:45:00'), Timestamp('2010-12-09 20:01:00'))"
      ]
     },
     "execution_count": 26,
     "metadata": {},
     "output_type": "execute_result"
    }
   ],
   "source": [
    "# yapılan ilk alışveriş ve yapılan son alışveriş tarihleri\n",
    "uk_data_copy['InvoiceDate'].min(),uk_data_copy['InvoiceDate'].max()"
   ]
  },
  {
   "cell_type": "code",
   "execution_count": 27,
   "id": "c342330c",
   "metadata": {},
   "outputs": [],
   "source": [
    "# son alışveriş yapılan tarihten 1 gün sonrasını şu an ki gün olarak varsayıyoruz\n",
    "PRESENT = dt.datetime(2010,12,11)\n",
    "\n",
    "uk_data_copy['InvoiceDate'] = pd.to_datetime(uk_data_copy['InvoiceDate'])"
   ]
  },
  {
   "cell_type": "code",
   "execution_count": 28,
   "id": "3e6e0b0c",
   "metadata": {},
   "outputs": [
    {
     "data": {
      "text/html": [
       "<div>\n",
       "<style scoped>\n",
       "    .dataframe tbody tr th:only-of-type {\n",
       "        vertical-align: middle;\n",
       "    }\n",
       "\n",
       "    .dataframe tbody tr th {\n",
       "        vertical-align: top;\n",
       "    }\n",
       "\n",
       "    .dataframe thead th {\n",
       "        text-align: right;\n",
       "    }\n",
       "</style>\n",
       "<table border=\"1\" class=\"dataframe\">\n",
       "  <thead>\n",
       "    <tr style=\"text-align: right;\">\n",
       "      <th></th>\n",
       "      <th>Customer ID</th>\n",
       "      <th>InvoiceDate</th>\n",
       "      <th>Invoice</th>\n",
       "      <th>Quantity</th>\n",
       "      <th>Price</th>\n",
       "      <th>TotalPrice</th>\n",
       "    </tr>\n",
       "  </thead>\n",
       "  <tbody>\n",
       "    <tr>\n",
       "      <th>0</th>\n",
       "      <td>13085.0</td>\n",
       "      <td>2009-12-01 07:45:00</td>\n",
       "      <td>489434</td>\n",
       "      <td>12</td>\n",
       "      <td>6.95</td>\n",
       "      <td>83.4</td>\n",
       "    </tr>\n",
       "    <tr>\n",
       "      <th>1</th>\n",
       "      <td>13085.0</td>\n",
       "      <td>2009-12-01 07:45:00</td>\n",
       "      <td>489434</td>\n",
       "      <td>12</td>\n",
       "      <td>6.75</td>\n",
       "      <td>81.0</td>\n",
       "    </tr>\n",
       "    <tr>\n",
       "      <th>2</th>\n",
       "      <td>13085.0</td>\n",
       "      <td>2009-12-01 07:45:00</td>\n",
       "      <td>489434</td>\n",
       "      <td>12</td>\n",
       "      <td>6.75</td>\n",
       "      <td>81.0</td>\n",
       "    </tr>\n",
       "    <tr>\n",
       "      <th>3</th>\n",
       "      <td>13085.0</td>\n",
       "      <td>2009-12-01 07:45:00</td>\n",
       "      <td>489434</td>\n",
       "      <td>48</td>\n",
       "      <td>2.10</td>\n",
       "      <td>100.8</td>\n",
       "    </tr>\n",
       "    <tr>\n",
       "      <th>4</th>\n",
       "      <td>13085.0</td>\n",
       "      <td>2009-12-01 07:45:00</td>\n",
       "      <td>489434</td>\n",
       "      <td>24</td>\n",
       "      <td>1.25</td>\n",
       "      <td>30.0</td>\n",
       "    </tr>\n",
       "  </tbody>\n",
       "</table>\n",
       "</div>"
      ],
      "text/plain": [
       "   Customer ID         InvoiceDate Invoice  Quantity  Price  TotalPrice\n",
       "0      13085.0 2009-12-01 07:45:00  489434        12   6.95        83.4\n",
       "1      13085.0 2009-12-01 07:45:00  489434        12   6.75        81.0\n",
       "2      13085.0 2009-12-01 07:45:00  489434        12   6.75        81.0\n",
       "3      13085.0 2009-12-01 07:45:00  489434        48   2.10       100.8\n",
       "4      13085.0 2009-12-01 07:45:00  489434        24   1.25        30.0"
      ]
     },
     "execution_count": 28,
     "metadata": {},
     "output_type": "execute_result"
    }
   ],
   "source": [
    "uk_data_copy.head()"
   ]
  },
  {
   "cell_type": "code",
   "execution_count": 29,
   "id": "8d41e9df",
   "metadata": {},
   "outputs": [
    {
     "name": "stdout",
     "output_type": "stream",
     "text": [
      "<class 'pandas.core.frame.DataFrame'>\n",
      "Int64Index: 370929 entries, 0 to 407694\n",
      "Data columns (total 6 columns):\n",
      " #   Column       Non-Null Count   Dtype         \n",
      "---  ------       --------------   -----         \n",
      " 0   Customer ID  370929 non-null  float64       \n",
      " 1   InvoiceDate  370929 non-null  datetime64[ns]\n",
      " 2   Invoice      370929 non-null  object        \n",
      " 3   Quantity     370929 non-null  int64         \n",
      " 4   Price        370929 non-null  float64       \n",
      " 5   TotalPrice   370929 non-null  float64       \n",
      "dtypes: datetime64[ns](1), float64(3), int64(1), object(1)\n",
      "memory usage: 19.8+ MB\n"
     ]
    }
   ],
   "source": [
    "uk_data_copy.info()"
   ]
  },
  {
   "cell_type": "markdown",
   "id": "1dce762a",
   "metadata": {},
   "source": [
    "# RFM Analysis"
   ]
  },
  {
   "cell_type": "markdown",
   "id": "b9c63624-bdce-4d32-9831-6c51b8c3e2c6",
   "metadata": {},
   "source": [
    "RFM analizi için; recency, frequency ve monetary değerlerini hesaplamamız gerekiyor. Bunları bir değişken olarak ayrı bir veri setinde tutacağız."
   ]
  },
  {
   "cell_type": "code",
   "execution_count": 30,
   "id": "24d2ff2a",
   "metadata": {},
   "outputs": [],
   "source": [
    "rfm= uk_data_copy.groupby('Customer ID').agg({'InvoiceDate': lambda date: (PRESENT - date.max()).days,\n",
    "                                        'Invoice': lambda num: len(num),\n",
    "                                        'TotalPrice': lambda price: price.sum()})"
   ]
  },
  {
   "cell_type": "code",
   "execution_count": 31,
   "id": "95409b39",
   "metadata": {},
   "outputs": [
    {
     "data": {
      "text/html": [
       "<div>\n",
       "<style scoped>\n",
       "    .dataframe tbody tr th:only-of-type {\n",
       "        vertical-align: middle;\n",
       "    }\n",
       "\n",
       "    .dataframe tbody tr th {\n",
       "        vertical-align: top;\n",
       "    }\n",
       "\n",
       "    .dataframe thead th {\n",
       "        text-align: right;\n",
       "    }\n",
       "</style>\n",
       "<table border=\"1\" class=\"dataframe\">\n",
       "  <thead>\n",
       "    <tr style=\"text-align: right;\">\n",
       "      <th></th>\n",
       "      <th>InvoiceDate</th>\n",
       "      <th>Invoice</th>\n",
       "      <th>TotalPrice</th>\n",
       "    </tr>\n",
       "    <tr>\n",
       "      <th>Customer ID</th>\n",
       "      <th></th>\n",
       "      <th></th>\n",
       "      <th></th>\n",
       "    </tr>\n",
       "  </thead>\n",
       "  <tbody>\n",
       "    <tr>\n",
       "      <th>12346.0</th>\n",
       "      <td>165</td>\n",
       "      <td>33</td>\n",
       "      <td>372.86</td>\n",
       "    </tr>\n",
       "    <tr>\n",
       "      <th>12608.0</th>\n",
       "      <td>40</td>\n",
       "      <td>16</td>\n",
       "      <td>415.79</td>\n",
       "    </tr>\n",
       "    <tr>\n",
       "      <th>12745.0</th>\n",
       "      <td>122</td>\n",
       "      <td>22</td>\n",
       "      <td>723.85</td>\n",
       "    </tr>\n",
       "    <tr>\n",
       "      <th>12746.0</th>\n",
       "      <td>176</td>\n",
       "      <td>17</td>\n",
       "      <td>254.55</td>\n",
       "    </tr>\n",
       "    <tr>\n",
       "      <th>12747.0</th>\n",
       "      <td>5</td>\n",
       "      <td>154</td>\n",
       "      <td>5080.53</td>\n",
       "    </tr>\n",
       "  </tbody>\n",
       "</table>\n",
       "</div>"
      ],
      "text/plain": [
       "             InvoiceDate  Invoice  TotalPrice\n",
       "Customer ID                                  \n",
       "12346.0              165       33      372.86\n",
       "12608.0               40       16      415.79\n",
       "12745.0              122       22      723.85\n",
       "12746.0              176       17      254.55\n",
       "12747.0                5      154     5080.53"
      ]
     },
     "execution_count": 31,
     "metadata": {},
     "output_type": "execute_result"
    }
   ],
   "source": [
    "rfm.head()"
   ]
  },
  {
   "cell_type": "code",
   "execution_count": 32,
   "id": "a7b75a3c",
   "metadata": {},
   "outputs": [
    {
     "data": {
      "text/plain": [
       "Index(['InvoiceDate', 'Invoice', 'TotalPrice'], dtype='object')"
      ]
     },
     "execution_count": 32,
     "metadata": {},
     "output_type": "execute_result"
    }
   ],
   "source": [
    "rfm.columns"
   ]
  },
  {
   "cell_type": "markdown",
   "id": "29884858-2e63-4272-8add-76e71637ab08",
   "metadata": {},
   "source": [
    "Değişken isimlerini daha kolay okunması açısından aşağıdaki isimlerle değiştiriyoruz."
   ]
  },
  {
   "cell_type": "code",
   "execution_count": 33,
   "id": "67d6c8ee",
   "metadata": {},
   "outputs": [],
   "source": [
    "# Change the name of columns\n",
    "rfm.columns=['recency','frequency','monetary']"
   ]
  },
  {
   "cell_type": "code",
   "execution_count": 34,
   "id": "7c74b01e",
   "metadata": {},
   "outputs": [
    {
     "data": {
      "text/html": [
       "<div>\n",
       "<style scoped>\n",
       "    .dataframe tbody tr th:only-of-type {\n",
       "        vertical-align: middle;\n",
       "    }\n",
       "\n",
       "    .dataframe tbody tr th {\n",
       "        vertical-align: top;\n",
       "    }\n",
       "\n",
       "    .dataframe thead th {\n",
       "        text-align: right;\n",
       "    }\n",
       "</style>\n",
       "<table border=\"1\" class=\"dataframe\">\n",
       "  <thead>\n",
       "    <tr style=\"text-align: right;\">\n",
       "      <th></th>\n",
       "      <th>recency</th>\n",
       "      <th>frequency</th>\n",
       "      <th>monetary</th>\n",
       "    </tr>\n",
       "    <tr>\n",
       "      <th>Customer ID</th>\n",
       "      <th></th>\n",
       "      <th></th>\n",
       "      <th></th>\n",
       "    </tr>\n",
       "  </thead>\n",
       "  <tbody>\n",
       "    <tr>\n",
       "      <th>12346.0</th>\n",
       "      <td>165</td>\n",
       "      <td>33</td>\n",
       "      <td>372.86</td>\n",
       "    </tr>\n",
       "    <tr>\n",
       "      <th>12608.0</th>\n",
       "      <td>40</td>\n",
       "      <td>16</td>\n",
       "      <td>415.79</td>\n",
       "    </tr>\n",
       "    <tr>\n",
       "      <th>12745.0</th>\n",
       "      <td>122</td>\n",
       "      <td>22</td>\n",
       "      <td>723.85</td>\n",
       "    </tr>\n",
       "    <tr>\n",
       "      <th>12746.0</th>\n",
       "      <td>176</td>\n",
       "      <td>17</td>\n",
       "      <td>254.55</td>\n",
       "    </tr>\n",
       "    <tr>\n",
       "      <th>12747.0</th>\n",
       "      <td>5</td>\n",
       "      <td>154</td>\n",
       "      <td>5080.53</td>\n",
       "    </tr>\n",
       "  </tbody>\n",
       "</table>\n",
       "</div>"
      ],
      "text/plain": [
       "             recency  frequency  monetary\n",
       "Customer ID                              \n",
       "12346.0          165         33    372.86\n",
       "12608.0           40         16    415.79\n",
       "12745.0          122         22    723.85\n",
       "12746.0          176         17    254.55\n",
       "12747.0            5        154   5080.53"
      ]
     },
     "execution_count": 34,
     "metadata": {},
     "output_type": "execute_result"
    }
   ],
   "source": [
    "rfm.head()"
   ]
  },
  {
   "cell_type": "markdown",
   "id": "8376117d-9d33-4294-b47b-307ee4f33755",
   "metadata": {},
   "source": [
    "Recency değişkeni float tipinde, bunu int tipine dönüştürüyoruz."
   ]
  },
  {
   "cell_type": "code",
   "execution_count": 35,
   "id": "7691b49a",
   "metadata": {},
   "outputs": [],
   "source": [
    "rfm['monetary'] = rfm['monetary'].astype(int)"
   ]
  },
  {
   "cell_type": "code",
   "execution_count": 36,
   "id": "64db1932",
   "metadata": {},
   "outputs": [
    {
     "data": {
      "text/html": [
       "<div>\n",
       "<style scoped>\n",
       "    .dataframe tbody tr th:only-of-type {\n",
       "        vertical-align: middle;\n",
       "    }\n",
       "\n",
       "    .dataframe tbody tr th {\n",
       "        vertical-align: top;\n",
       "    }\n",
       "\n",
       "    .dataframe thead th {\n",
       "        text-align: right;\n",
       "    }\n",
       "</style>\n",
       "<table border=\"1\" class=\"dataframe\">\n",
       "  <thead>\n",
       "    <tr style=\"text-align: right;\">\n",
       "      <th></th>\n",
       "      <th>recency</th>\n",
       "      <th>frequency</th>\n",
       "      <th>monetary</th>\n",
       "    </tr>\n",
       "    <tr>\n",
       "      <th>Customer ID</th>\n",
       "      <th></th>\n",
       "      <th></th>\n",
       "      <th></th>\n",
       "    </tr>\n",
       "  </thead>\n",
       "  <tbody>\n",
       "    <tr>\n",
       "      <th>12346.0</th>\n",
       "      <td>165</td>\n",
       "      <td>33</td>\n",
       "      <td>372</td>\n",
       "    </tr>\n",
       "    <tr>\n",
       "      <th>12608.0</th>\n",
       "      <td>40</td>\n",
       "      <td>16</td>\n",
       "      <td>415</td>\n",
       "    </tr>\n",
       "    <tr>\n",
       "      <th>12745.0</th>\n",
       "      <td>122</td>\n",
       "      <td>22</td>\n",
       "      <td>723</td>\n",
       "    </tr>\n",
       "    <tr>\n",
       "      <th>12746.0</th>\n",
       "      <td>176</td>\n",
       "      <td>17</td>\n",
       "      <td>254</td>\n",
       "    </tr>\n",
       "    <tr>\n",
       "      <th>12747.0</th>\n",
       "      <td>5</td>\n",
       "      <td>154</td>\n",
       "      <td>5080</td>\n",
       "    </tr>\n",
       "  </tbody>\n",
       "</table>\n",
       "</div>"
      ],
      "text/plain": [
       "             recency  frequency  monetary\n",
       "Customer ID                              \n",
       "12346.0          165         33       372\n",
       "12608.0           40         16       415\n",
       "12745.0          122         22       723\n",
       "12746.0          176         17       254\n",
       "12747.0            5        154      5080"
      ]
     },
     "execution_count": 36,
     "metadata": {},
     "output_type": "execute_result"
    }
   ],
   "source": [
    "rfm.head()"
   ]
  },
  {
   "cell_type": "markdown",
   "id": "d33b79f0",
   "metadata": {},
   "source": [
    "### Computing Quantile of RFM values"
   ]
  },
  {
   "cell_type": "markdown",
   "id": "f54999cd-b8ef-4644-a6da-64d5f8949422",
   "metadata": {},
   "source": [
    "Müşterilerin monetary, frequency ve recency skorlandırmasını yapacağız. (5 eşit parça)"
   ]
  },
  {
   "cell_type": "code",
   "execution_count": 37,
   "id": "183ebd90",
   "metadata": {},
   "outputs": [],
   "source": [
    "rfm['Recency_score'] = pd.qcut(rfm['recency'], 5, ['5','4','3','2','1'])\n",
    "rfm['Frequency_score'] = pd.qcut(rfm['frequency'], 5, ['1','2','3','4','5'])\n",
    "rfm['Monetary_score'] = pd.qcut(rfm['monetary'], 5, ['1','2','3','4','5'])"
   ]
  },
  {
   "cell_type": "code",
   "execution_count": 38,
   "id": "8d2cb893",
   "metadata": {},
   "outputs": [
    {
     "data": {
      "text/html": [
       "<div>\n",
       "<style scoped>\n",
       "    .dataframe tbody tr th:only-of-type {\n",
       "        vertical-align: middle;\n",
       "    }\n",
       "\n",
       "    .dataframe tbody tr th {\n",
       "        vertical-align: top;\n",
       "    }\n",
       "\n",
       "    .dataframe thead th {\n",
       "        text-align: right;\n",
       "    }\n",
       "</style>\n",
       "<table border=\"1\" class=\"dataframe\">\n",
       "  <thead>\n",
       "    <tr style=\"text-align: right;\">\n",
       "      <th></th>\n",
       "      <th>recency</th>\n",
       "      <th>frequency</th>\n",
       "      <th>monetary</th>\n",
       "      <th>Recency_score</th>\n",
       "      <th>Frequency_score</th>\n",
       "      <th>Monetary_score</th>\n",
       "    </tr>\n",
       "    <tr>\n",
       "      <th>Customer ID</th>\n",
       "      <th></th>\n",
       "      <th></th>\n",
       "      <th></th>\n",
       "      <th></th>\n",
       "      <th></th>\n",
       "      <th></th>\n",
       "    </tr>\n",
       "  </thead>\n",
       "  <tbody>\n",
       "    <tr>\n",
       "      <th>12346.0</th>\n",
       "      <td>165</td>\n",
       "      <td>33</td>\n",
       "      <td>372</td>\n",
       "      <td>2</td>\n",
       "      <td>3</td>\n",
       "      <td>2</td>\n",
       "    </tr>\n",
       "    <tr>\n",
       "      <th>12608.0</th>\n",
       "      <td>40</td>\n",
       "      <td>16</td>\n",
       "      <td>415</td>\n",
       "      <td>3</td>\n",
       "      <td>2</td>\n",
       "      <td>2</td>\n",
       "    </tr>\n",
       "    <tr>\n",
       "      <th>12745.0</th>\n",
       "      <td>122</td>\n",
       "      <td>22</td>\n",
       "      <td>723</td>\n",
       "      <td>2</td>\n",
       "      <td>2</td>\n",
       "      <td>3</td>\n",
       "    </tr>\n",
       "    <tr>\n",
       "      <th>12746.0</th>\n",
       "      <td>176</td>\n",
       "      <td>17</td>\n",
       "      <td>254</td>\n",
       "      <td>2</td>\n",
       "      <td>2</td>\n",
       "      <td>2</td>\n",
       "    </tr>\n",
       "    <tr>\n",
       "      <th>12747.0</th>\n",
       "      <td>5</td>\n",
       "      <td>154</td>\n",
       "      <td>5080</td>\n",
       "      <td>5</td>\n",
       "      <td>5</td>\n",
       "      <td>5</td>\n",
       "    </tr>\n",
       "  </tbody>\n",
       "</table>\n",
       "</div>"
      ],
      "text/plain": [
       "             recency  frequency  monetary Recency_score Frequency_score  \\\n",
       "Customer ID                                                               \n",
       "12346.0          165         33       372             2               3   \n",
       "12608.0           40         16       415             3               2   \n",
       "12745.0          122         22       723             2               2   \n",
       "12746.0          176         17       254             2               2   \n",
       "12747.0            5        154      5080             5               5   \n",
       "\n",
       "            Monetary_score  \n",
       "Customer ID                 \n",
       "12346.0                  2  \n",
       "12608.0                  2  \n",
       "12745.0                  3  \n",
       "12746.0                  2  \n",
       "12747.0                  5  "
      ]
     },
     "execution_count": 38,
     "metadata": {},
     "output_type": "execute_result"
    }
   ],
   "source": [
    "rfm.head()"
   ]
  },
  {
   "cell_type": "markdown",
   "id": "23ac1230",
   "metadata": {},
   "source": [
    "### RFM Result Interpretation\n"
   ]
  },
  {
   "cell_type": "code",
   "execution_count": 39,
   "id": "57ab8940",
   "metadata": {},
   "outputs": [],
   "source": [
    "rfm[\"RFM_SCORE\"] = (rfm['Recency_score'].astype(str) + rfm['Frequency_score'].astype(str) + rfm['Monetary_score'].astype(str))"
   ]
  },
  {
   "cell_type": "code",
   "execution_count": 40,
   "id": "dfd79f23",
   "metadata": {},
   "outputs": [
    {
     "data": {
      "text/html": [
       "<div>\n",
       "<style scoped>\n",
       "    .dataframe tbody tr th:only-of-type {\n",
       "        vertical-align: middle;\n",
       "    }\n",
       "\n",
       "    .dataframe tbody tr th {\n",
       "        vertical-align: top;\n",
       "    }\n",
       "\n",
       "    .dataframe thead th {\n",
       "        text-align: right;\n",
       "    }\n",
       "</style>\n",
       "<table border=\"1\" class=\"dataframe\">\n",
       "  <thead>\n",
       "    <tr style=\"text-align: right;\">\n",
       "      <th></th>\n",
       "      <th>recency</th>\n",
       "      <th>frequency</th>\n",
       "      <th>monetary</th>\n",
       "      <th>Recency_score</th>\n",
       "      <th>Frequency_score</th>\n",
       "      <th>Monetary_score</th>\n",
       "      <th>RFM_SCORE</th>\n",
       "    </tr>\n",
       "    <tr>\n",
       "      <th>Customer ID</th>\n",
       "      <th></th>\n",
       "      <th></th>\n",
       "      <th></th>\n",
       "      <th></th>\n",
       "      <th></th>\n",
       "      <th></th>\n",
       "      <th></th>\n",
       "    </tr>\n",
       "  </thead>\n",
       "  <tbody>\n",
       "    <tr>\n",
       "      <th>12346.0</th>\n",
       "      <td>165</td>\n",
       "      <td>33</td>\n",
       "      <td>372</td>\n",
       "      <td>2</td>\n",
       "      <td>3</td>\n",
       "      <td>2</td>\n",
       "      <td>232</td>\n",
       "    </tr>\n",
       "    <tr>\n",
       "      <th>12608.0</th>\n",
       "      <td>40</td>\n",
       "      <td>16</td>\n",
       "      <td>415</td>\n",
       "      <td>3</td>\n",
       "      <td>2</td>\n",
       "      <td>2</td>\n",
       "      <td>322</td>\n",
       "    </tr>\n",
       "    <tr>\n",
       "      <th>12745.0</th>\n",
       "      <td>122</td>\n",
       "      <td>22</td>\n",
       "      <td>723</td>\n",
       "      <td>2</td>\n",
       "      <td>2</td>\n",
       "      <td>3</td>\n",
       "      <td>223</td>\n",
       "    </tr>\n",
       "    <tr>\n",
       "      <th>12746.0</th>\n",
       "      <td>176</td>\n",
       "      <td>17</td>\n",
       "      <td>254</td>\n",
       "      <td>2</td>\n",
       "      <td>2</td>\n",
       "      <td>2</td>\n",
       "      <td>222</td>\n",
       "    </tr>\n",
       "    <tr>\n",
       "      <th>12747.0</th>\n",
       "      <td>5</td>\n",
       "      <td>154</td>\n",
       "      <td>5080</td>\n",
       "      <td>5</td>\n",
       "      <td>5</td>\n",
       "      <td>5</td>\n",
       "      <td>555</td>\n",
       "    </tr>\n",
       "  </tbody>\n",
       "</table>\n",
       "</div>"
      ],
      "text/plain": [
       "             recency  frequency  monetary Recency_score Frequency_score  \\\n",
       "Customer ID                                                               \n",
       "12346.0          165         33       372             2               3   \n",
       "12608.0           40         16       415             3               2   \n",
       "12745.0          122         22       723             2               2   \n",
       "12746.0          176         17       254             2               2   \n",
       "12747.0            5        154      5080             5               5   \n",
       "\n",
       "            Monetary_score RFM_SCORE  \n",
       "Customer ID                           \n",
       "12346.0                  2       232  \n",
       "12608.0                  2       322  \n",
       "12745.0                  3       223  \n",
       "12746.0                  2       222  \n",
       "12747.0                  5       555  "
      ]
     },
     "execution_count": 40,
     "metadata": {},
     "output_type": "execute_result"
    }
   ],
   "source": [
    "rfm.head()"
   ]
  },
  {
   "cell_type": "markdown",
   "id": "cffe4cb0-361d-4961-b109-a09d5ab61574",
   "metadata": {},
   "source": [
    "Yukarıda oluşturduğumuz RFM scorelarına göre müşteri segmentlerini oluşturuyoruz."
   ]
  },
  {
   "cell_type": "code",
   "execution_count": null,
   "id": "35a36d9c-fb62-4374-9d37-90f30d312a9f",
   "metadata": {},
   "outputs": [],
   "source": []
  },
  {
   "cell_type": "code",
   "execution_count": 41,
   "id": "70fc71c7-10a4-40ea-b612-1e1aac2cfa0a",
   "metadata": {},
   "outputs": [],
   "source": [
    "#rfm['segment'] = rfm['RFM_SCORE'].replace(seg_map, regex=True)"
   ]
  },
  {
   "cell_type": "code",
   "execution_count": 42,
   "id": "c9958da9-674e-4f9c-ae38-a6f2081e7fbf",
   "metadata": {},
   "outputs": [],
   "source": [
    "#rfm.drop(\"segment\", axis=1, inplace=True)"
   ]
  },
  {
   "cell_type": "code",
   "execution_count": 43,
   "id": "aff1177b-c727-41a1-aa42-3952204d66bf",
   "metadata": {},
   "outputs": [],
   "source": [
    "#rfm.head()"
   ]
  },
  {
   "cell_type": "markdown",
   "id": "d33eb250",
   "metadata": {},
   "source": [
    "# Model"
   ]
  },
  {
   "cell_type": "code",
   "execution_count": 44,
   "id": "41756e5f",
   "metadata": {},
   "outputs": [],
   "source": [
    "kmeans = KMeans(random_state=17)\n",
    "ssd = [] # sum of squared distances"
   ]
  },
  {
   "cell_type": "code",
   "execution_count": 45,
   "id": "176097b3",
   "metadata": {},
   "outputs": [],
   "source": [
    "K = range(1, 30) # cluster parametremizin 1den 30a kadar değer alabilmesi için liste"
   ]
  },
  {
   "cell_type": "code",
   "execution_count": 46,
   "id": "b224ecbe",
   "metadata": {},
   "outputs": [],
   "source": [
    "for k in K: # K içerisindeki değerlerden tek tek yeni modeller oluşturup fit edilecek ve ssd değeri hesaplanıp ssd listesine eklenecek\n",
    "    kmeans = KMeans(n_clusters=k, random_state=17).fit(rfm)\n",
    "    ssd.append(kmeans.inertia_)"
   ]
  },
  {
   "cell_type": "code",
   "execution_count": 47,
   "id": "52bb92c3",
   "metadata": {},
   "outputs": [
    {
     "data": {
      "image/png": "[encoded data removed]",
      "text/plain": [
       "<Figure size 576x396 with 1 Axes>"
      ]
     },
     "metadata": {},
     "output_type": "display_data"
    }
   ],
   "source": [
    "plt.plot(K, ssd, \"bx-\")\n",
    "plt.xlabel(\"Farklı K Değerlerine Karşılık SSD/SSE/SSR\")\n",
    "plt.ylabel(\"Optimum Küme Sayısı için Elbow Yöntemi\")\n",
    "plt.show()"
   ]
  },
  {
   "cell_type": "code",
   "execution_count": 48,
   "id": "5503c1ed",
   "metadata": {},
   "outputs": [],
   "source": [
    "elbow = KElbowVisualizer(kmeans, k=(2, 20))"
   ]
  },
  {
   "cell_type": "code",
   "execution_count": 49,
   "id": "941657e0",
   "metadata": {},
   "outputs": [],
   "source": [
    "#elbow.fit(rfm)\n",
    "#elbow.show()"
   ]
  },
  {
   "cell_type": "code",
   "execution_count": 50,
   "id": "c4de7d7c",
   "metadata": {},
   "outputs": [],
   "source": [
    "# Yukarıdaki valueerror hatasından kurtulmak için aşağıdaki fonksiyonu buldum, veri tiplerini float yapıyor işe yaradı.\n",
    "def clean_dataset(df):\n",
    "    assert isinstance(df, pd.DataFrame), \"df needs to be a pd.DataFrame\"\n",
    "    df.dropna(inplace=True)\n",
    "    indices_to_keep = ~df.isin([np.nan, np.inf, -np.inf]).any(1)\n",
    "    return df[indices_to_keep].astype(np.float64)"
   ]
  },
  {
   "cell_type": "code",
   "execution_count": 51,
   "id": "2b9e3fbc",
   "metadata": {},
   "outputs": [],
   "source": [
    "rfm_deneme = clean_dataset(rfm)"
   ]
  },
  {
   "cell_type": "code",
   "execution_count": 52,
   "id": "d73655f5",
   "metadata": {},
   "outputs": [
    {
     "name": "stdout",
     "output_type": "stream",
     "text": [
      "<class 'pandas.core.frame.DataFrame'>\n",
      "Float64Index: 3969 entries, 12346.0 to 18287.0\n",
      "Data columns (total 7 columns):\n",
      " #   Column           Non-Null Count  Dtype   \n",
      "---  ------           --------------  -----   \n",
      " 0   recency          3969 non-null   int64   \n",
      " 1   frequency        3969 non-null   int64   \n",
      " 2   monetary         3969 non-null   int32   \n",
      " 3   Recency_score    3969 non-null   category\n",
      " 4   Frequency_score  3969 non-null   category\n",
      " 5   Monetary_score   3969 non-null   category\n",
      " 6   RFM_SCORE        3969 non-null   object  \n",
      "dtypes: category(3), int32(1), int64(2), object(1)\n",
      "memory usage: 151.8+ KB\n"
     ]
    }
   ],
   "source": [
    "rfm.info()"
   ]
  },
  {
   "cell_type": "code",
   "execution_count": 53,
   "id": "f300a26c",
   "metadata": {},
   "outputs": [
    {
     "name": "stdout",
     "output_type": "stream",
     "text": [
      "<class 'pandas.core.frame.DataFrame'>\n",
      "Float64Index: 3969 entries, 12346.0 to 18287.0\n",
      "Data columns (total 7 columns):\n",
      " #   Column           Non-Null Count  Dtype  \n",
      "---  ------           --------------  -----  \n",
      " 0   recency          3969 non-null   float64\n",
      " 1   frequency        3969 non-null   float64\n",
      " 2   monetary         3969 non-null   float64\n",
      " 3   Recency_score    3969 non-null   float64\n",
      " 4   Frequency_score  3969 non-null   float64\n",
      " 5   Monetary_score   3969 non-null   float64\n",
      " 6   RFM_SCORE        3969 non-null   float64\n",
      "dtypes: float64(7)\n",
      "memory usage: 248.1 KB\n"
     ]
    }
   ],
   "source": [
    "rfm_deneme.info()"
   ]
  },
  {
   "cell_type": "code",
   "execution_count": 54,
   "id": "58dac02f",
   "metadata": {},
   "outputs": [
    {
     "data": {
      "image/png": "[encoded data removed]",
      "text/plain": [
       "<Figure size 576x396 with 2 Axes>"
      ]
     },
     "metadata": {},
     "output_type": "display_data"
    },
    {
     "data": {
      "text/plain": [
       "<AxesSubplot:title={'center':'Distortion Score Elbow for KMeans Clustering'}, xlabel='k', ylabel='distortion score'>"
      ]
     },
     "execution_count": 54,
     "metadata": {},
     "output_type": "execute_result"
    }
   ],
   "source": [
    "elbow.fit(rfm_deneme)\n",
    "elbow.show()"
   ]
  },
  {
   "cell_type": "markdown",
   "id": "8ea3c4d0",
   "metadata": {},
   "source": [
    "Cluster sayımız = 5"
   ]
  },
  {
   "cell_type": "code",
   "execution_count": 55,
   "id": "679dc476",
   "metadata": {},
   "outputs": [
    {
     "data": {
      "text/plain": [
       "5"
      ]
     },
     "execution_count": 55,
     "metadata": {},
     "output_type": "execute_result"
    }
   ],
   "source": [
    "elbow.elbow_value_"
   ]
  },
  {
   "cell_type": "markdown",
   "id": "8fdfa8c2",
   "metadata": {},
   "source": [
    "# Final Model"
   ]
  },
  {
   "cell_type": "code",
   "execution_count": 56,
   "id": "929f7014-664d-4363-8abd-bbcb92a42240",
   "metadata": {},
   "outputs": [
    {
     "data": {
      "text/html": [
       "<div>\n",
       "<style scoped>\n",
       "    .dataframe tbody tr th:only-of-type {\n",
       "        vertical-align: middle;\n",
       "    }\n",
       "\n",
       "    .dataframe tbody tr th {\n",
       "        vertical-align: top;\n",
       "    }\n",
       "\n",
       "    .dataframe thead th {\n",
       "        text-align: right;\n",
       "    }\n",
       "</style>\n",
       "<table border=\"1\" class=\"dataframe\">\n",
       "  <thead>\n",
       "    <tr style=\"text-align: right;\">\n",
       "      <th></th>\n",
       "      <th>recency</th>\n",
       "      <th>frequency</th>\n",
       "      <th>monetary</th>\n",
       "      <th>Recency_score</th>\n",
       "      <th>Frequency_score</th>\n",
       "      <th>Monetary_score</th>\n",
       "      <th>RFM_SCORE</th>\n",
       "    </tr>\n",
       "    <tr>\n",
       "      <th>Customer ID</th>\n",
       "      <th></th>\n",
       "      <th></th>\n",
       "      <th></th>\n",
       "      <th></th>\n",
       "      <th></th>\n",
       "      <th></th>\n",
       "      <th></th>\n",
       "    </tr>\n",
       "  </thead>\n",
       "  <tbody>\n",
       "    <tr>\n",
       "      <th>12346.0</th>\n",
       "      <td>165</td>\n",
       "      <td>33</td>\n",
       "      <td>372</td>\n",
       "      <td>2</td>\n",
       "      <td>3</td>\n",
       "      <td>2</td>\n",
       "      <td>232</td>\n",
       "    </tr>\n",
       "    <tr>\n",
       "      <th>12608.0</th>\n",
       "      <td>40</td>\n",
       "      <td>16</td>\n",
       "      <td>415</td>\n",
       "      <td>3</td>\n",
       "      <td>2</td>\n",
       "      <td>2</td>\n",
       "      <td>322</td>\n",
       "    </tr>\n",
       "    <tr>\n",
       "      <th>12745.0</th>\n",
       "      <td>122</td>\n",
       "      <td>22</td>\n",
       "      <td>723</td>\n",
       "      <td>2</td>\n",
       "      <td>2</td>\n",
       "      <td>3</td>\n",
       "      <td>223</td>\n",
       "    </tr>\n",
       "    <tr>\n",
       "      <th>12746.0</th>\n",
       "      <td>176</td>\n",
       "      <td>17</td>\n",
       "      <td>254</td>\n",
       "      <td>2</td>\n",
       "      <td>2</td>\n",
       "      <td>2</td>\n",
       "      <td>222</td>\n",
       "    </tr>\n",
       "    <tr>\n",
       "      <th>12747.0</th>\n",
       "      <td>5</td>\n",
       "      <td>154</td>\n",
       "      <td>5080</td>\n",
       "      <td>5</td>\n",
       "      <td>5</td>\n",
       "      <td>5</td>\n",
       "      <td>555</td>\n",
       "    </tr>\n",
       "  </tbody>\n",
       "</table>\n",
       "</div>"
      ],
      "text/plain": [
       "             recency  frequency  monetary Recency_score Frequency_score  \\\n",
       "Customer ID                                                               \n",
       "12346.0          165         33       372             2               3   \n",
       "12608.0           40         16       415             3               2   \n",
       "12745.0          122         22       723             2               2   \n",
       "12746.0          176         17       254             2               2   \n",
       "12747.0            5        154      5080             5               5   \n",
       "\n",
       "            Monetary_score RFM_SCORE  \n",
       "Customer ID                           \n",
       "12346.0                  2       232  \n",
       "12608.0                  2       322  \n",
       "12745.0                  3       223  \n",
       "12746.0                  2       222  \n",
       "12747.0                  5       555  "
      ]
     },
     "execution_count": 56,
     "metadata": {},
     "output_type": "execute_result"
    }
   ],
   "source": [
    "rfm.head()"
   ]
  },
  {
   "cell_type": "code",
   "execution_count": 57,
   "id": "a5360dfd-48a3-4a90-9f5f-136f594379e1",
   "metadata": {},
   "outputs": [],
   "source": [
    "#rfm_try = rfm.drop([\"Recency_score\", \"Frequency_score\", \"Monetary_score\"], axis=1)"
   ]
  },
  {
   "cell_type": "code",
   "execution_count": 58,
   "id": "4984e88e-93c3-4d7e-89a3-189762d13103",
   "metadata": {},
   "outputs": [],
   "source": [
    "#rfm_try.head()"
   ]
  },
  {
   "cell_type": "code",
   "execution_count": 59,
   "id": "efaea348",
   "metadata": {},
   "outputs": [],
   "source": [
    "kmeans = KMeans(n_clusters=elbow.elbow_value_).fit(rfm)"
   ]
  },
  {
   "cell_type": "code",
   "execution_count": 60,
   "id": "ec059add",
   "metadata": {},
   "outputs": [
    {
     "data": {
      "text/plain": [
       "array([[9.79118388e+01, 6.37128463e+01, 8.79217184e+02, 2.89224741e+00,\n",
       "        2.81472152e+00, 2.77665827e+00, 3.20148615e+02],\n",
       "       [1.00000000e+00, 6.27000000e+02, 3.49164000e+05, 5.00000000e+00,\n",
       "        5.00000000e+00, 5.00000000e+00, 5.55000000e+02],\n",
       "       [7.16666667e+00, 8.64083333e+02, 6.83600833e+04, 4.91666667e+00,\n",
       "        4.83333333e+00, 5.00000000e+00, 5.45000000e+02],\n",
       "       [3.22616279e+01, 2.99813953e+02, 6.28003198e+03, 4.11046512e+00,\n",
       "        4.61337209e+00, 5.00000000e+00, 4.62180233e+02],\n",
       "       [1.37179487e+01, 7.47461538e+02, 2.41423333e+04, 4.64102564e+00,\n",
       "        4.69230769e+00, 5.00000000e+00, 5.16025641e+02]])"
      ]
     },
     "execution_count": 60,
     "metadata": {},
     "output_type": "execute_result"
    }
   ],
   "source": [
    "kmeans.cluster_centers_"
   ]
  },
  {
   "cell_type": "code",
   "execution_count": 61,
   "id": "cbce6c6a",
   "metadata": {},
   "outputs": [
    {
     "data": {
      "text/plain": [
       "array([0, 0, 0, ..., 0, 0, 0])"
      ]
     },
     "execution_count": 61,
     "metadata": {},
     "output_type": "execute_result"
    }
   ],
   "source": [
    "kmeans.labels_"
   ]
  },
  {
   "cell_type": "code",
   "execution_count": 62,
   "id": "c058c952",
   "metadata": {},
   "outputs": [],
   "source": [
    "clusters = kmeans.labels_"
   ]
  },
  {
   "cell_type": "code",
   "execution_count": 63,
   "id": "8219a49d",
   "metadata": {},
   "outputs": [],
   "source": [
    "rfm[\"cluster\"] = clusters"
   ]
  },
  {
   "cell_type": "code",
   "execution_count": 64,
   "id": "a408fdf8",
   "metadata": {},
   "outputs": [
    {
     "data": {
      "text/html": [
       "<div>\n",
       "<style scoped>\n",
       "    .dataframe tbody tr th:only-of-type {\n",
       "        vertical-align: middle;\n",
       "    }\n",
       "\n",
       "    .dataframe tbody tr th {\n",
       "        vertical-align: top;\n",
       "    }\n",
       "\n",
       "    .dataframe thead th {\n",
       "        text-align: right;\n",
       "    }\n",
       "</style>\n",
       "<table border=\"1\" class=\"dataframe\">\n",
       "  <thead>\n",
       "    <tr style=\"text-align: right;\">\n",
       "      <th></th>\n",
       "      <th>recency</th>\n",
       "      <th>frequency</th>\n",
       "      <th>monetary</th>\n",
       "      <th>Recency_score</th>\n",
       "      <th>Frequency_score</th>\n",
       "      <th>Monetary_score</th>\n",
       "      <th>RFM_SCORE</th>\n",
       "      <th>cluster</th>\n",
       "    </tr>\n",
       "    <tr>\n",
       "      <th>Customer ID</th>\n",
       "      <th></th>\n",
       "      <th></th>\n",
       "      <th></th>\n",
       "      <th></th>\n",
       "      <th></th>\n",
       "      <th></th>\n",
       "      <th></th>\n",
       "      <th></th>\n",
       "    </tr>\n",
       "  </thead>\n",
       "  <tbody>\n",
       "    <tr>\n",
       "      <th>12346.0</th>\n",
       "      <td>165</td>\n",
       "      <td>33</td>\n",
       "      <td>372</td>\n",
       "      <td>2</td>\n",
       "      <td>3</td>\n",
       "      <td>2</td>\n",
       "      <td>232</td>\n",
       "      <td>0</td>\n",
       "    </tr>\n",
       "    <tr>\n",
       "      <th>12608.0</th>\n",
       "      <td>40</td>\n",
       "      <td>16</td>\n",
       "      <td>415</td>\n",
       "      <td>3</td>\n",
       "      <td>2</td>\n",
       "      <td>2</td>\n",
       "      <td>322</td>\n",
       "      <td>0</td>\n",
       "    </tr>\n",
       "    <tr>\n",
       "      <th>12745.0</th>\n",
       "      <td>122</td>\n",
       "      <td>22</td>\n",
       "      <td>723</td>\n",
       "      <td>2</td>\n",
       "      <td>2</td>\n",
       "      <td>3</td>\n",
       "      <td>223</td>\n",
       "      <td>0</td>\n",
       "    </tr>\n",
       "    <tr>\n",
       "      <th>12746.0</th>\n",
       "      <td>176</td>\n",
       "      <td>17</td>\n",
       "      <td>254</td>\n",
       "      <td>2</td>\n",
       "      <td>2</td>\n",
       "      <td>2</td>\n",
       "      <td>222</td>\n",
       "      <td>0</td>\n",
       "    </tr>\n",
       "    <tr>\n",
       "      <th>12747.0</th>\n",
       "      <td>5</td>\n",
       "      <td>154</td>\n",
       "      <td>5080</td>\n",
       "      <td>5</td>\n",
       "      <td>5</td>\n",
       "      <td>5</td>\n",
       "      <td>555</td>\n",
       "      <td>3</td>\n",
       "    </tr>\n",
       "  </tbody>\n",
       "</table>\n",
       "</div>"
      ],
      "text/plain": [
       "             recency  frequency  monetary Recency_score Frequency_score  \\\n",
       "Customer ID                                                               \n",
       "12346.0          165         33       372             2               3   \n",
       "12608.0           40         16       415             3               2   \n",
       "12745.0          122         22       723             2               2   \n",
       "12746.0          176         17       254             2               2   \n",
       "12747.0            5        154      5080             5               5   \n",
       "\n",
       "            Monetary_score RFM_SCORE  cluster  \n",
       "Customer ID                                    \n",
       "12346.0                  2       232        0  \n",
       "12608.0                  2       322        0  \n",
       "12745.0                  3       223        0  \n",
       "12746.0                  2       222        0  \n",
       "12747.0                  5       555        3  "
      ]
     },
     "execution_count": 64,
     "metadata": {},
     "output_type": "execute_result"
    }
   ],
   "source": [
    "rfm.head()"
   ]
  },
  {
   "cell_type": "code",
   "execution_count": 65,
   "id": "a906af2a",
   "metadata": {},
   "outputs": [
    {
     "data": {
      "text/plain": [
       "0    3571\n",
       "3     346\n",
       "4      39\n",
       "2      12\n",
       "1       1\n",
       "Name: cluster, dtype: int64"
      ]
     },
     "execution_count": 65,
     "metadata": {},
     "output_type": "execute_result"
    }
   ],
   "source": [
    "rfm[\"cluster\"].value_counts()"
   ]
  },
  {
   "cell_type": "code",
   "execution_count": 96,
   "id": "faec0eff",
   "metadata": {},
   "outputs": [
    {
     "data": {
      "text/plain": [
       "array(['232', '322', '223', '222', '555', '455', '444', '111', '415',\n",
       "       '544', '211', '355', '143', '244', '313', '445', '433', '121',\n",
       "       '212', '221', '344', '154', '543', '245', '431', '354', '535',\n",
       "       '533', '132', '424', '214', '411', '422', '432', '213', '412',\n",
       "       '312', '333', '134', '423', '414', '343', '545', '435', '115',\n",
       "       '434', '454', '122', '522', '123', '112', '155', '531', '345',\n",
       "       '335', '233', '512', '511', '255', '534', '133', '513', '532',\n",
       "       '311', '323', '413', '224', '144', '321', '124', '443', '131',\n",
       "       '331', '215', '243', '235', '142', '554', '253', '334', '523',\n",
       "       '234', '341', '145', '242', '254', '135', '353', '241', '553',\n",
       "       '342', '231', '325', '441', '324', '332', '225', '442', '524',\n",
       "       '125', '421', '515', '315', '542', '425', '314', '114', '514',\n",
       "       '453', '153', '452', '521', '113', '525', '352', '152', '541',\n",
       "       '141'], dtype=object)"
      ]
     },
     "execution_count": 96,
     "metadata": {},
     "output_type": "execute_result"
    }
   ],
   "source": [
    "rfm[\"RFM_SCORE\"].unique()"
   ]
  },
  {
   "cell_type": "code",
   "execution_count": 67,
   "id": "0d69fd09",
   "metadata": {},
   "outputs": [],
   "source": [
    "#rfm.groupby(\"RFM_Score\").agg({\"cluster\": \"count\"})"
   ]
  },
  {
   "cell_type": "code",
   "execution_count": 68,
   "id": "a80c0b40",
   "metadata": {},
   "outputs": [],
   "source": [
    "final = uk_data_copy.groupby('Customer ID').agg({'InvoiceDate': lambda date: (PRESENT - date.max()).days,\n",
    "                                        'Invoice': lambda num: len(num),\n",
    "                                        'TotalPrice': lambda price: price.sum()})"
   ]
  },
  {
   "cell_type": "code",
   "execution_count": 69,
   "id": "c72a0a13",
   "metadata": {},
   "outputs": [
    {
     "data": {
      "text/html": [
       "<div>\n",
       "<style scoped>\n",
       "    .dataframe tbody tr th:only-of-type {\n",
       "        vertical-align: middle;\n",
       "    }\n",
       "\n",
       "    .dataframe tbody tr th {\n",
       "        vertical-align: top;\n",
       "    }\n",
       "\n",
       "    .dataframe thead th {\n",
       "        text-align: right;\n",
       "    }\n",
       "</style>\n",
       "<table border=\"1\" class=\"dataframe\">\n",
       "  <thead>\n",
       "    <tr style=\"text-align: right;\">\n",
       "      <th></th>\n",
       "      <th>InvoiceDate</th>\n",
       "      <th>Invoice</th>\n",
       "      <th>TotalPrice</th>\n",
       "    </tr>\n",
       "    <tr>\n",
       "      <th>Customer ID</th>\n",
       "      <th></th>\n",
       "      <th></th>\n",
       "      <th></th>\n",
       "    </tr>\n",
       "  </thead>\n",
       "  <tbody>\n",
       "    <tr>\n",
       "      <th>12346.0</th>\n",
       "      <td>165</td>\n",
       "      <td>33</td>\n",
       "      <td>372.86</td>\n",
       "    </tr>\n",
       "    <tr>\n",
       "      <th>12608.0</th>\n",
       "      <td>40</td>\n",
       "      <td>16</td>\n",
       "      <td>415.79</td>\n",
       "    </tr>\n",
       "    <tr>\n",
       "      <th>12745.0</th>\n",
       "      <td>122</td>\n",
       "      <td>22</td>\n",
       "      <td>723.85</td>\n",
       "    </tr>\n",
       "    <tr>\n",
       "      <th>12746.0</th>\n",
       "      <td>176</td>\n",
       "      <td>17</td>\n",
       "      <td>254.55</td>\n",
       "    </tr>\n",
       "    <tr>\n",
       "      <th>12747.0</th>\n",
       "      <td>5</td>\n",
       "      <td>154</td>\n",
       "      <td>5080.53</td>\n",
       "    </tr>\n",
       "  </tbody>\n",
       "</table>\n",
       "</div>"
      ],
      "text/plain": [
       "             InvoiceDate  Invoice  TotalPrice\n",
       "Customer ID                                  \n",
       "12346.0              165       33      372.86\n",
       "12608.0               40       16      415.79\n",
       "12745.0              122       22      723.85\n",
       "12746.0              176       17      254.55\n",
       "12747.0                5      154     5080.53"
      ]
     },
     "execution_count": 69,
     "metadata": {},
     "output_type": "execute_result"
    }
   ],
   "source": [
    "final.head()"
   ]
  },
  {
   "cell_type": "code",
   "execution_count": 70,
   "id": "11fee398",
   "metadata": {},
   "outputs": [],
   "source": [
    "final[\"cluster\"] = clusters"
   ]
  },
  {
   "cell_type": "code",
   "execution_count": 71,
   "id": "b15458b1",
   "metadata": {},
   "outputs": [
    {
     "data": {
      "text/html": [
       "<div>\n",
       "<style scoped>\n",
       "    .dataframe tbody tr th:only-of-type {\n",
       "        vertical-align: middle;\n",
       "    }\n",
       "\n",
       "    .dataframe tbody tr th {\n",
       "        vertical-align: top;\n",
       "    }\n",
       "\n",
       "    .dataframe thead th {\n",
       "        text-align: right;\n",
       "    }\n",
       "</style>\n",
       "<table border=\"1\" class=\"dataframe\">\n",
       "  <thead>\n",
       "    <tr style=\"text-align: right;\">\n",
       "      <th></th>\n",
       "      <th>InvoiceDate</th>\n",
       "      <th>Invoice</th>\n",
       "      <th>TotalPrice</th>\n",
       "      <th>cluster</th>\n",
       "    </tr>\n",
       "    <tr>\n",
       "      <th>Customer ID</th>\n",
       "      <th></th>\n",
       "      <th></th>\n",
       "      <th></th>\n",
       "      <th></th>\n",
       "    </tr>\n",
       "  </thead>\n",
       "  <tbody>\n",
       "    <tr>\n",
       "      <th>12346.0</th>\n",
       "      <td>165</td>\n",
       "      <td>33</td>\n",
       "      <td>372.86</td>\n",
       "      <td>0</td>\n",
       "    </tr>\n",
       "    <tr>\n",
       "      <th>12608.0</th>\n",
       "      <td>40</td>\n",
       "      <td>16</td>\n",
       "      <td>415.79</td>\n",
       "      <td>0</td>\n",
       "    </tr>\n",
       "    <tr>\n",
       "      <th>12745.0</th>\n",
       "      <td>122</td>\n",
       "      <td>22</td>\n",
       "      <td>723.85</td>\n",
       "      <td>0</td>\n",
       "    </tr>\n",
       "    <tr>\n",
       "      <th>12746.0</th>\n",
       "      <td>176</td>\n",
       "      <td>17</td>\n",
       "      <td>254.55</td>\n",
       "      <td>0</td>\n",
       "    </tr>\n",
       "    <tr>\n",
       "      <th>12747.0</th>\n",
       "      <td>5</td>\n",
       "      <td>154</td>\n",
       "      <td>5080.53</td>\n",
       "      <td>3</td>\n",
       "    </tr>\n",
       "  </tbody>\n",
       "</table>\n",
       "</div>"
      ],
      "text/plain": [
       "             InvoiceDate  Invoice  TotalPrice  cluster\n",
       "Customer ID                                           \n",
       "12346.0              165       33      372.86        0\n",
       "12608.0               40       16      415.79        0\n",
       "12745.0              122       22      723.85        0\n",
       "12746.0              176       17      254.55        0\n",
       "12747.0                5      154     5080.53        3"
      ]
     },
     "execution_count": 71,
     "metadata": {},
     "output_type": "execute_result"
    }
   ],
   "source": [
    "final.head()"
   ]
  },
  {
   "cell_type": "code",
   "execution_count": 72,
   "id": "11867e06",
   "metadata": {},
   "outputs": [],
   "source": [
    "final[\"cluster\"] = clusters + 1"
   ]
  },
  {
   "cell_type": "code",
   "execution_count": 73,
   "id": "397e1f17",
   "metadata": {},
   "outputs": [
    {
     "data": {
      "text/html": [
       "<div>\n",
       "<style scoped>\n",
       "    .dataframe tbody tr th:only-of-type {\n",
       "        vertical-align: middle;\n",
       "    }\n",
       "\n",
       "    .dataframe tbody tr th {\n",
       "        vertical-align: top;\n",
       "    }\n",
       "\n",
       "    .dataframe thead th {\n",
       "        text-align: right;\n",
       "    }\n",
       "</style>\n",
       "<table border=\"1\" class=\"dataframe\">\n",
       "  <thead>\n",
       "    <tr style=\"text-align: right;\">\n",
       "      <th></th>\n",
       "      <th>TotalPrice</th>\n",
       "    </tr>\n",
       "    <tr>\n",
       "      <th>cluster</th>\n",
       "      <th></th>\n",
       "    </tr>\n",
       "  </thead>\n",
       "  <tbody>\n",
       "    <tr>\n",
       "      <th>1</th>\n",
       "      <td>3136058.527</td>\n",
       "    </tr>\n",
       "    <tr>\n",
       "      <th>4</th>\n",
       "      <td>2167638.493</td>\n",
       "    </tr>\n",
       "    <tr>\n",
       "      <th>5</th>\n",
       "      <td>941569.953</td>\n",
       "    </tr>\n",
       "    <tr>\n",
       "      <th>3</th>\n",
       "      <td>820324.640</td>\n",
       "    </tr>\n",
       "    <tr>\n",
       "      <th>2</th>\n",
       "      <td>349164.350</td>\n",
       "    </tr>\n",
       "  </tbody>\n",
       "</table>\n",
       "</div>"
      ],
      "text/plain": [
       "          TotalPrice\n",
       "cluster             \n",
       "1        3136058.527\n",
       "4        2167638.493\n",
       "5         941569.953\n",
       "3         820324.640\n",
       "2         349164.350"
      ]
     },
     "execution_count": 73,
     "metadata": {},
     "output_type": "execute_result"
    }
   ],
   "source": [
    "final.groupby(\"cluster\").agg({\"TotalPrice\": \"sum\"}).sort_values(\"TotalPrice\", ascending=False)"
   ]
  },
  {
   "cell_type": "code",
   "execution_count": 74,
   "id": "ce5abb37",
   "metadata": {},
   "outputs": [
    {
     "data": {
      "text/html": [
       "<div>\n",
       "<style scoped>\n",
       "    .dataframe tbody tr th:only-of-type {\n",
       "        vertical-align: middle;\n",
       "    }\n",
       "\n",
       "    .dataframe tbody tr th {\n",
       "        vertical-align: top;\n",
       "    }\n",
       "\n",
       "    .dataframe thead th {\n",
       "        text-align: right;\n",
       "    }\n",
       "</style>\n",
       "<table border=\"1\" class=\"dataframe\">\n",
       "  <thead>\n",
       "    <tr style=\"text-align: right;\">\n",
       "      <th></th>\n",
       "      <th>Invoice</th>\n",
       "    </tr>\n",
       "    <tr>\n",
       "      <th>cluster</th>\n",
       "      <th></th>\n",
       "    </tr>\n",
       "  </thead>\n",
       "  <tbody>\n",
       "    <tr>\n",
       "      <th>1</th>\n",
       "      <td>226719</td>\n",
       "    </tr>\n",
       "    <tr>\n",
       "      <th>4</th>\n",
       "      <td>104063</td>\n",
       "    </tr>\n",
       "    <tr>\n",
       "      <th>5</th>\n",
       "      <td>29151</td>\n",
       "    </tr>\n",
       "    <tr>\n",
       "      <th>3</th>\n",
       "      <td>10369</td>\n",
       "    </tr>\n",
       "    <tr>\n",
       "      <th>2</th>\n",
       "      <td>627</td>\n",
       "    </tr>\n",
       "  </tbody>\n",
       "</table>\n",
       "</div>"
      ],
      "text/plain": [
       "         Invoice\n",
       "cluster         \n",
       "1         226719\n",
       "4         104063\n",
       "5          29151\n",
       "3          10369\n",
       "2            627"
      ]
     },
     "execution_count": 74,
     "metadata": {},
     "output_type": "execute_result"
    }
   ],
   "source": [
    "final.groupby(\"cluster\").agg({\"Invoice\": \"sum\"}).sort_values(\"Invoice\", ascending=False)"
   ]
  },
  {
   "cell_type": "code",
   "execution_count": 75,
   "id": "19a80af2",
   "metadata": {},
   "outputs": [
    {
     "data": {
      "text/html": [
       "<div>\n",
       "<style scoped>\n",
       "    .dataframe tbody tr th:only-of-type {\n",
       "        vertical-align: middle;\n",
       "    }\n",
       "\n",
       "    .dataframe tbody tr th {\n",
       "        vertical-align: top;\n",
       "    }\n",
       "\n",
       "    .dataframe thead th {\n",
       "        text-align: right;\n",
       "    }\n",
       "</style>\n",
       "<table border=\"1\" class=\"dataframe\">\n",
       "  <thead>\n",
       "    <tr style=\"text-align: right;\">\n",
       "      <th></th>\n",
       "      <th>InvoiceDate</th>\n",
       "    </tr>\n",
       "    <tr>\n",
       "      <th>cluster</th>\n",
       "      <th></th>\n",
       "    </tr>\n",
       "  </thead>\n",
       "  <tbody>\n",
       "    <tr>\n",
       "      <th>1</th>\n",
       "      <td>97.951554</td>\n",
       "    </tr>\n",
       "    <tr>\n",
       "      <th>4</th>\n",
       "      <td>32.231214</td>\n",
       "    </tr>\n",
       "    <tr>\n",
       "      <th>5</th>\n",
       "      <td>13.717949</td>\n",
       "    </tr>\n",
       "    <tr>\n",
       "      <th>3</th>\n",
       "      <td>7.166667</td>\n",
       "    </tr>\n",
       "    <tr>\n",
       "      <th>2</th>\n",
       "      <td>1.000000</td>\n",
       "    </tr>\n",
       "  </tbody>\n",
       "</table>\n",
       "</div>"
      ],
      "text/plain": [
       "         InvoiceDate\n",
       "cluster             \n",
       "1          97.951554\n",
       "4          32.231214\n",
       "5          13.717949\n",
       "3           7.166667\n",
       "2           1.000000"
      ]
     },
     "execution_count": 75,
     "metadata": {},
     "output_type": "execute_result"
    }
   ],
   "source": [
    "final.groupby(\"cluster\").agg({\"InvoiceDate\": \"mean\"}).sort_values(\"InvoiceDate\", ascending=False)"
   ]
  },
  {
   "cell_type": "code",
   "execution_count": 76,
   "id": "b39313dd",
   "metadata": {},
   "outputs": [
    {
     "data": {
      "text/html": [
       "<div>\n",
       "<style scoped>\n",
       "    .dataframe tbody tr th:only-of-type {\n",
       "        vertical-align: middle;\n",
       "    }\n",
       "\n",
       "    .dataframe tbody tr th {\n",
       "        vertical-align: top;\n",
       "    }\n",
       "\n",
       "    .dataframe thead th {\n",
       "        text-align: right;\n",
       "    }\n",
       "</style>\n",
       "<table border=\"1\" class=\"dataframe\">\n",
       "  <thead>\n",
       "    <tr style=\"text-align: right;\">\n",
       "      <th></th>\n",
       "      <th>Invoice</th>\n",
       "    </tr>\n",
       "    <tr>\n",
       "      <th>cluster</th>\n",
       "      <th></th>\n",
       "    </tr>\n",
       "  </thead>\n",
       "  <tbody>\n",
       "    <tr>\n",
       "      <th>1</th>\n",
       "      <td>3571</td>\n",
       "    </tr>\n",
       "    <tr>\n",
       "      <th>4</th>\n",
       "      <td>346</td>\n",
       "    </tr>\n",
       "    <tr>\n",
       "      <th>5</th>\n",
       "      <td>39</td>\n",
       "    </tr>\n",
       "    <tr>\n",
       "      <th>3</th>\n",
       "      <td>12</td>\n",
       "    </tr>\n",
       "    <tr>\n",
       "      <th>2</th>\n",
       "      <td>1</td>\n",
       "    </tr>\n",
       "  </tbody>\n",
       "</table>\n",
       "</div>"
      ],
      "text/plain": [
       "         Invoice\n",
       "cluster         \n",
       "1           3571\n",
       "4            346\n",
       "5             39\n",
       "3             12\n",
       "2              1"
      ]
     },
     "execution_count": 76,
     "metadata": {},
     "output_type": "execute_result"
    }
   ],
   "source": [
    "final.groupby(\"cluster\").agg({\"Invoice\": \"count\"}).sort_values(\"Invoice\", ascending=False)"
   ]
  },
  {
   "cell_type": "code",
   "execution_count": 77,
   "id": "e9026272",
   "metadata": {},
   "outputs": [
    {
     "data": {
      "text/plain": [
       "1    3571\n",
       "4     346\n",
       "5      39\n",
       "3      12\n",
       "2       1\n",
       "Name: cluster, dtype: int64"
      ]
     },
     "execution_count": 77,
     "metadata": {},
     "output_type": "execute_result"
    }
   ],
   "source": [
    "final[\"cluster\"].value_counts()"
   ]
  },
  {
   "cell_type": "code",
   "execution_count": 78,
   "id": "bfe5d993",
   "metadata": {},
   "outputs": [],
   "source": [
    "seg_map = {\n",
    "    r'[1-2][1-2]': 'hibernating',\n",
    "    r'[1-2][3-4]': 'at_Risk',\n",
    "    r'[1-2]5': 'cant_loose',\n",
    "    r'3[1-2]': 'about_to_sleep',\n",
    "    r'33': 'need_attention',\n",
    "    r'[3-4][4-5]': 'loyal_customers',\n",
    "    r'41': 'promising',\n",
    "    r'51': 'new_customers',\n",
    "    r'[4-5][2-3]': 'potential_loyalists',\n",
    "    r'5[4-5]': 'champions'\n",
    "}"
   ]
  },
  {
   "cell_type": "code",
   "execution_count": 79,
   "id": "65cd4c95",
   "metadata": {},
   "outputs": [
    {
     "data": {
      "text/html": [
       "<div>\n",
       "<style scoped>\n",
       "    .dataframe tbody tr th:only-of-type {\n",
       "        vertical-align: middle;\n",
       "    }\n",
       "\n",
       "    .dataframe tbody tr th {\n",
       "        vertical-align: top;\n",
       "    }\n",
       "\n",
       "    .dataframe thead th {\n",
       "        text-align: right;\n",
       "    }\n",
       "</style>\n",
       "<table border=\"1\" class=\"dataframe\">\n",
       "  <thead>\n",
       "    <tr style=\"text-align: right;\">\n",
       "      <th></th>\n",
       "      <th>recency</th>\n",
       "      <th>frequency</th>\n",
       "      <th>monetary</th>\n",
       "      <th>Recency_score</th>\n",
       "      <th>Frequency_score</th>\n",
       "      <th>Monetary_score</th>\n",
       "      <th>RFM_SCORE</th>\n",
       "      <th>cluster</th>\n",
       "    </tr>\n",
       "    <tr>\n",
       "      <th>Customer ID</th>\n",
       "      <th></th>\n",
       "      <th></th>\n",
       "      <th></th>\n",
       "      <th></th>\n",
       "      <th></th>\n",
       "      <th></th>\n",
       "      <th></th>\n",
       "      <th></th>\n",
       "    </tr>\n",
       "  </thead>\n",
       "  <tbody>\n",
       "    <tr>\n",
       "      <th>12346.0</th>\n",
       "      <td>165</td>\n",
       "      <td>33</td>\n",
       "      <td>372</td>\n",
       "      <td>2</td>\n",
       "      <td>3</td>\n",
       "      <td>2</td>\n",
       "      <td>232</td>\n",
       "      <td>0</td>\n",
       "    </tr>\n",
       "    <tr>\n",
       "      <th>12608.0</th>\n",
       "      <td>40</td>\n",
       "      <td>16</td>\n",
       "      <td>415</td>\n",
       "      <td>3</td>\n",
       "      <td>2</td>\n",
       "      <td>2</td>\n",
       "      <td>322</td>\n",
       "      <td>0</td>\n",
       "    </tr>\n",
       "    <tr>\n",
       "      <th>12745.0</th>\n",
       "      <td>122</td>\n",
       "      <td>22</td>\n",
       "      <td>723</td>\n",
       "      <td>2</td>\n",
       "      <td>2</td>\n",
       "      <td>3</td>\n",
       "      <td>223</td>\n",
       "      <td>0</td>\n",
       "    </tr>\n",
       "    <tr>\n",
       "      <th>12746.0</th>\n",
       "      <td>176</td>\n",
       "      <td>17</td>\n",
       "      <td>254</td>\n",
       "      <td>2</td>\n",
       "      <td>2</td>\n",
       "      <td>2</td>\n",
       "      <td>222</td>\n",
       "      <td>0</td>\n",
       "    </tr>\n",
       "    <tr>\n",
       "      <th>12747.0</th>\n",
       "      <td>5</td>\n",
       "      <td>154</td>\n",
       "      <td>5080</td>\n",
       "      <td>5</td>\n",
       "      <td>5</td>\n",
       "      <td>5</td>\n",
       "      <td>555</td>\n",
       "      <td>3</td>\n",
       "    </tr>\n",
       "  </tbody>\n",
       "</table>\n",
       "</div>"
      ],
      "text/plain": [
       "             recency  frequency  monetary Recency_score Frequency_score  \\\n",
       "Customer ID                                                               \n",
       "12346.0          165         33       372             2               3   \n",
       "12608.0           40         16       415             3               2   \n",
       "12745.0          122         22       723             2               2   \n",
       "12746.0          176         17       254             2               2   \n",
       "12747.0            5        154      5080             5               5   \n",
       "\n",
       "            Monetary_score RFM_SCORE  cluster  \n",
       "Customer ID                                    \n",
       "12346.0                  2       232        0  \n",
       "12608.0                  2       322        0  \n",
       "12745.0                  3       223        0  \n",
       "12746.0                  2       222        0  \n",
       "12747.0                  5       555        3  "
      ]
     },
     "execution_count": 79,
     "metadata": {},
     "output_type": "execute_result"
    }
   ],
   "source": [
    "rfm.head()"
   ]
  },
  {
   "cell_type": "code",
   "execution_count": 98,
   "id": "250fb755",
   "metadata": {},
   "outputs": [],
   "source": [
    "seg_map = {\n",
    "    r'[1-2][1-2]': 'hibernating',\n",
    "    r'[1-2][3-4]': 'at_Risk',\n",
    "    r'[1-2]5': 'cant_loose',\n",
    "    r'3[1-2]': 'about_to_sleep',\n",
    "    r'33': 'need_attention',\n",
    "    r'[3-4][4-5]': 'loyal_customers',\n",
    "    r'41': 'promising',\n",
    "    r'51': 'new_customers',\n",
    "    r'[4-5][2-3]': 'potential_loyalists',\n",
    "    r'5[4-5]': 'champions'\n",
    "}"
   ]
  },
  {
   "cell_type": "code",
   "execution_count": 99,
   "id": "88869de7-5f3d-478d-8d89-cb1bc53a7f69",
   "metadata": {},
   "outputs": [],
   "source": [
    "rfm[\"RF_SCORE\"] = (rfm['Recency_score'].astype(str) + rfm['Frequency_score'].astype(str))"
   ]
  },
  {
   "cell_type": "code",
   "execution_count": 100,
   "id": "208bc2fd",
   "metadata": {},
   "outputs": [
    {
     "data": {
      "text/html": [
       "<div>\n",
       "<style scoped>\n",
       "    .dataframe tbody tr th:only-of-type {\n",
       "        vertical-align: middle;\n",
       "    }\n",
       "\n",
       "    .dataframe tbody tr th {\n",
       "        vertical-align: top;\n",
       "    }\n",
       "\n",
       "    .dataframe thead th {\n",
       "        text-align: right;\n",
       "    }\n",
       "</style>\n",
       "<table border=\"1\" class=\"dataframe\">\n",
       "  <thead>\n",
       "    <tr style=\"text-align: right;\">\n",
       "      <th></th>\n",
       "      <th>recency</th>\n",
       "      <th>frequency</th>\n",
       "      <th>monetary</th>\n",
       "      <th>Recency_score</th>\n",
       "      <th>Frequency_score</th>\n",
       "      <th>Monetary_score</th>\n",
       "      <th>RFM_SCORE</th>\n",
       "      <th>cluster</th>\n",
       "      <th>RF_SCORE</th>\n",
       "    </tr>\n",
       "    <tr>\n",
       "      <th>Customer ID</th>\n",
       "      <th></th>\n",
       "      <th></th>\n",
       "      <th></th>\n",
       "      <th></th>\n",
       "      <th></th>\n",
       "      <th></th>\n",
       "      <th></th>\n",
       "      <th></th>\n",
       "      <th></th>\n",
       "    </tr>\n",
       "  </thead>\n",
       "  <tbody>\n",
       "    <tr>\n",
       "      <th>12346.0</th>\n",
       "      <td>165</td>\n",
       "      <td>33</td>\n",
       "      <td>372</td>\n",
       "      <td>2</td>\n",
       "      <td>3</td>\n",
       "      <td>2</td>\n",
       "      <td>232</td>\n",
       "      <td>0</td>\n",
       "      <td>23</td>\n",
       "    </tr>\n",
       "    <tr>\n",
       "      <th>12608.0</th>\n",
       "      <td>40</td>\n",
       "      <td>16</td>\n",
       "      <td>415</td>\n",
       "      <td>3</td>\n",
       "      <td>2</td>\n",
       "      <td>2</td>\n",
       "      <td>322</td>\n",
       "      <td>0</td>\n",
       "      <td>32</td>\n",
       "    </tr>\n",
       "    <tr>\n",
       "      <th>12745.0</th>\n",
       "      <td>122</td>\n",
       "      <td>22</td>\n",
       "      <td>723</td>\n",
       "      <td>2</td>\n",
       "      <td>2</td>\n",
       "      <td>3</td>\n",
       "      <td>223</td>\n",
       "      <td>0</td>\n",
       "      <td>22</td>\n",
       "    </tr>\n",
       "    <tr>\n",
       "      <th>12746.0</th>\n",
       "      <td>176</td>\n",
       "      <td>17</td>\n",
       "      <td>254</td>\n",
       "      <td>2</td>\n",
       "      <td>2</td>\n",
       "      <td>2</td>\n",
       "      <td>222</td>\n",
       "      <td>0</td>\n",
       "      <td>22</td>\n",
       "    </tr>\n",
       "    <tr>\n",
       "      <th>12747.0</th>\n",
       "      <td>5</td>\n",
       "      <td>154</td>\n",
       "      <td>5080</td>\n",
       "      <td>5</td>\n",
       "      <td>5</td>\n",
       "      <td>5</td>\n",
       "      <td>555</td>\n",
       "      <td>3</td>\n",
       "      <td>55</td>\n",
       "    </tr>\n",
       "  </tbody>\n",
       "</table>\n",
       "</div>"
      ],
      "text/plain": [
       "             recency  frequency  monetary Recency_score Frequency_score  \\\n",
       "Customer ID                                                               \n",
       "12346.0          165         33       372             2               3   \n",
       "12608.0           40         16       415             3               2   \n",
       "12745.0          122         22       723             2               2   \n",
       "12746.0          176         17       254             2               2   \n",
       "12747.0            5        154      5080             5               5   \n",
       "\n",
       "            Monetary_score RFM_SCORE  cluster RF_SCORE  \n",
       "Customer ID                                             \n",
       "12346.0                  2       232        0       23  \n",
       "12608.0                  2       322        0       32  \n",
       "12745.0                  3       223        0       22  \n",
       "12746.0                  2       222        0       22  \n",
       "12747.0                  5       555        3       55  "
      ]
     },
     "execution_count": 100,
     "metadata": {},
     "output_type": "execute_result"
    }
   ],
   "source": [
    "rfm.head()"
   ]
  },
  {
   "cell_type": "code",
   "execution_count": 101,
   "id": "d48594a6",
   "metadata": {},
   "outputs": [],
   "source": [
    "# RFM skorlarını isimlendirelim\n",
    "rfm['segment'] = rfm['RF_SCORE'].replace(seg_map, regex=True)"
   ]
  },
  {
   "cell_type": "code",
   "execution_count": 102,
   "id": "28c16817",
   "metadata": {},
   "outputs": [
    {
     "data": {
      "text/html": [
       "<div>\n",
       "<style scoped>\n",
       "    .dataframe tbody tr th:only-of-type {\n",
       "        vertical-align: middle;\n",
       "    }\n",
       "\n",
       "    .dataframe tbody tr th {\n",
       "        vertical-align: top;\n",
       "    }\n",
       "\n",
       "    .dataframe thead th {\n",
       "        text-align: right;\n",
       "    }\n",
       "</style>\n",
       "<table border=\"1\" class=\"dataframe\">\n",
       "  <thead>\n",
       "    <tr style=\"text-align: right;\">\n",
       "      <th></th>\n",
       "      <th>recency</th>\n",
       "      <th>frequency</th>\n",
       "      <th>monetary</th>\n",
       "      <th>Recency_score</th>\n",
       "      <th>Frequency_score</th>\n",
       "      <th>Monetary_score</th>\n",
       "      <th>RFM_SCORE</th>\n",
       "      <th>cluster</th>\n",
       "      <th>RF_SCORE</th>\n",
       "      <th>segment</th>\n",
       "    </tr>\n",
       "    <tr>\n",
       "      <th>Customer ID</th>\n",
       "      <th></th>\n",
       "      <th></th>\n",
       "      <th></th>\n",
       "      <th></th>\n",
       "      <th></th>\n",
       "      <th></th>\n",
       "      <th></th>\n",
       "      <th></th>\n",
       "      <th></th>\n",
       "      <th></th>\n",
       "    </tr>\n",
       "  </thead>\n",
       "  <tbody>\n",
       "    <tr>\n",
       "      <th>12346.0</th>\n",
       "      <td>165</td>\n",
       "      <td>33</td>\n",
       "      <td>372</td>\n",
       "      <td>2</td>\n",
       "      <td>3</td>\n",
       "      <td>2</td>\n",
       "      <td>232</td>\n",
       "      <td>0</td>\n",
       "      <td>23</td>\n",
       "      <td>at_Risk</td>\n",
       "    </tr>\n",
       "    <tr>\n",
       "      <th>12608.0</th>\n",
       "      <td>40</td>\n",
       "      <td>16</td>\n",
       "      <td>415</td>\n",
       "      <td>3</td>\n",
       "      <td>2</td>\n",
       "      <td>2</td>\n",
       "      <td>322</td>\n",
       "      <td>0</td>\n",
       "      <td>32</td>\n",
       "      <td>about_to_sleep</td>\n",
       "    </tr>\n",
       "    <tr>\n",
       "      <th>12745.0</th>\n",
       "      <td>122</td>\n",
       "      <td>22</td>\n",
       "      <td>723</td>\n",
       "      <td>2</td>\n",
       "      <td>2</td>\n",
       "      <td>3</td>\n",
       "      <td>223</td>\n",
       "      <td>0</td>\n",
       "      <td>22</td>\n",
       "      <td>hibernating</td>\n",
       "    </tr>\n",
       "    <tr>\n",
       "      <th>12746.0</th>\n",
       "      <td>176</td>\n",
       "      <td>17</td>\n",
       "      <td>254</td>\n",
       "      <td>2</td>\n",
       "      <td>2</td>\n",
       "      <td>2</td>\n",
       "      <td>222</td>\n",
       "      <td>0</td>\n",
       "      <td>22</td>\n",
       "      <td>hibernating</td>\n",
       "    </tr>\n",
       "    <tr>\n",
       "      <th>12747.0</th>\n",
       "      <td>5</td>\n",
       "      <td>154</td>\n",
       "      <td>5080</td>\n",
       "      <td>5</td>\n",
       "      <td>5</td>\n",
       "      <td>5</td>\n",
       "      <td>555</td>\n",
       "      <td>3</td>\n",
       "      <td>55</td>\n",
       "      <td>champions</td>\n",
       "    </tr>\n",
       "  </tbody>\n",
       "</table>\n",
       "</div>"
      ],
      "text/plain": [
       "             recency  frequency  monetary Recency_score Frequency_score  \\\n",
       "Customer ID                                                               \n",
       "12346.0          165         33       372             2               3   \n",
       "12608.0           40         16       415             3               2   \n",
       "12745.0          122         22       723             2               2   \n",
       "12746.0          176         17       254             2               2   \n",
       "12747.0            5        154      5080             5               5   \n",
       "\n",
       "            Monetary_score RFM_SCORE  cluster RF_SCORE         segment  \n",
       "Customer ID                                                             \n",
       "12346.0                  2       232        0       23         at_Risk  \n",
       "12608.0                  2       322        0       32  about_to_sleep  \n",
       "12745.0                  3       223        0       22     hibernating  \n",
       "12746.0                  2       222        0       22     hibernating  \n",
       "12747.0                  5       555        3       55       champions  "
      ]
     },
     "execution_count": 102,
     "metadata": {},
     "output_type": "execute_result"
    }
   ],
   "source": [
    "rfm.head()"
   ]
  },
  {
   "cell_type": "code",
   "execution_count": 109,
   "id": "80f50329",
   "metadata": {},
   "outputs": [
    {
     "data": {
      "text/html": [
       "<div>\n",
       "<style scoped>\n",
       "    .dataframe tbody tr th:only-of-type {\n",
       "        vertical-align: middle;\n",
       "    }\n",
       "\n",
       "    .dataframe tbody tr th {\n",
       "        vertical-align: top;\n",
       "    }\n",
       "\n",
       "    .dataframe thead th {\n",
       "        text-align: right;\n",
       "    }\n",
       "</style>\n",
       "<table border=\"1\" class=\"dataframe\">\n",
       "  <thead>\n",
       "    <tr style=\"text-align: right;\">\n",
       "      <th></th>\n",
       "      <th>cluster</th>\n",
       "    </tr>\n",
       "    <tr>\n",
       "      <th>segment</th>\n",
       "      <th></th>\n",
       "    </tr>\n",
       "  </thead>\n",
       "  <tbody>\n",
       "    <tr>\n",
       "      <th>hibernating</th>\n",
       "      <td>932</td>\n",
       "    </tr>\n",
       "    <tr>\n",
       "      <th>loyal_customers</th>\n",
       "      <td>715</td>\n",
       "    </tr>\n",
       "    <tr>\n",
       "      <th>champions</th>\n",
       "      <td>590</td>\n",
       "    </tr>\n",
       "    <tr>\n",
       "      <th>at_Risk</th>\n",
       "      <td>561</td>\n",
       "    </tr>\n",
       "    <tr>\n",
       "      <th>potential_loyalists</th>\n",
       "      <td>472</td>\n",
       "    </tr>\n",
       "    <tr>\n",
       "      <th>about_to_sleep</th>\n",
       "      <td>305</td>\n",
       "    </tr>\n",
       "    <tr>\n",
       "      <th>need_attention</th>\n",
       "      <td>147</td>\n",
       "    </tr>\n",
       "    <tr>\n",
       "      <th>promising</th>\n",
       "      <td>102</td>\n",
       "    </tr>\n",
       "    <tr>\n",
       "      <th>cant_loose</th>\n",
       "      <td>89</td>\n",
       "    </tr>\n",
       "    <tr>\n",
       "      <th>new_customers</th>\n",
       "      <td>56</td>\n",
       "    </tr>\n",
       "  </tbody>\n",
       "</table>\n",
       "</div>"
      ],
      "text/plain": [
       "                     cluster\n",
       "segment                     \n",
       "hibernating              932\n",
       "loyal_customers          715\n",
       "champions                590\n",
       "at_Risk                  561\n",
       "potential_loyalists      472\n",
       "about_to_sleep           305\n",
       "need_attention           147\n",
       "promising                102\n",
       "cant_loose                89\n",
       "new_customers             56"
      ]
     },
     "execution_count": 109,
     "metadata": {},
     "output_type": "execute_result"
    }
   ],
   "source": [
    "rfm.groupby(\"segment\").agg({\"cluster\": \"count\"}).sort_values(\"cluster\", ascending=False)"
   ]
  },
  {
   "cell_type": "code",
   "execution_count": null,
   "id": "e3e81381",
   "metadata": {},
   "outputs": [],
   "source": [
    "rfm[\"segment\"].value_counts()"
   ]
  },
  {
   "cell_type": "code",
   "execution_count": null,
   "id": "6c2eda4f",
   "metadata": {},
   "outputs": [],
   "source": [
    "rfm[\"segment\"].value_counts().plot(kind=\"bar\")"
   ]
  },
  {
   "cell_type": "code",
   "execution_count": null,
   "id": "fbc48790",
   "metadata": {},
   "outputs": [],
   "source": [
    "rfm[rfm[\"segment\"] == \"new_customers\"].head()"
   ]
  },
  {
   "cell_type": "code",
   "execution_count": null,
   "id": "c95ff4ce",
   "metadata": {},
   "outputs": [],
   "source": []
  }
 ],
 "metadata": {
  "kernelspec": {
   "display_name": "Python 3 (ipykernel)",
   "language": "python",
   "name": "python3"
  },
  "language_info": {
   "codemirror_mode": {
    "name": "ipython",
    "version": 3
   },
   "file_extension": ".py",
   "mimetype": "text/x-python",
   "name": "python",
   "nbconvert_exporter": "python",
   "pygments_lexer": "ipython3",
   "version": "3.10.4"
  }
 },
 "nbformat": 4,
 "nbformat_minor": 5
}
