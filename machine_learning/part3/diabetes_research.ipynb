{
 "cells": [
  {
   "cell_type": "markdown",
   "metadata": {
    "tags": []
   },
   "source": [
    "# End-to-End Machine Learning Pipeline I"
   ]
  },
  {
   "cell_type": "markdown",
   "metadata": {},
   "source": [
    "Bu kısımda yapacağımız işlemler:"
   ]
  },
  {
   "cell_type": "markdown",
   "metadata": {},
   "source": [
    "1. Exploratory Data Analysis\n",
    "2. Data Preprocessing & Feature Engineering\n",
    "3. Base Models\n",
    "4. Automated Hyperparameter Optimization\n",
    "5. Stacking & Ensemble Learning\n",
    "6. Prediction for a New Observation\n",
    "7. Pipeline Main Function"
   ]
  },
  {
   "cell_type": "markdown",
   "metadata": {},
   "source": [
    "Bu kapsamda veri ön işleme, değişken mühendisliği gibi işlemlerin otomasyonunu, temel modelleri gösterme işleminin otomasyonunu, hiperparametre optimizasyonu işleminin otomasyonunu, stacking & ensemble learning kavramını, daha sonra burada yaptığımız tüm çalışmaları bir pipline'da bir araya getiyor olacağız."
   ]
  },
  {
   "cell_type": "markdown",
   "metadata": {
    "tags": []
   },
   "source": [
    "### Import İşlemleri"
   ]
  },
  {
   "cell_type": "code",
   "execution_count": 1,
   "metadata": {},
   "outputs": [
    {
     "name": "stderr",
     "output_type": "stream",
     "text": [
      "C:\\Users\\btskd\\anaconda3\\envs\\pipeline_project\\lib\\site-packages\\scipy\\__init__.py:146: UserWarning: A NumPy version >=1.16.5 and <1.23.0 is required for this version of SciPy (detected version 1.23.1\n",
      "  warnings.warn(f\"A NumPy version >={np_minversion} and <{np_maxversion}\"\n",
      "C:\\Users\\btskd\\anaconda3\\envs\\pipeline_project\\lib\\site-packages\\xgboost\\compat.py:36: FutureWarning: pandas.Int64Index is deprecated and will be removed from pandas in a future version. Use pandas.Index with the appropriate dtype instead.\n",
      "  from pandas import MultiIndex, Int64Index\n"
     ]
    }
   ],
   "source": [
    "import warnings\n",
    "import joblib\n",
    "import pandas as pd\n",
    "import seaborn as sns\n",
    "import matplotlib.pyplot as plt\n",
    "from sklearn.ensemble import RandomForestClassifier, GradientBoostingClassifier, VotingClassifier, AdaBoostClassifier\n",
    "from sklearn.linear_model import LogisticRegression\n",
    "from sklearn.model_selection import cross_validate, GridSearchCV\n",
    "from sklearn.neighbors import KNeighborsClassifier\n",
    "from sklearn.svm import SVC\n",
    "from sklearn.tree import DecisionTreeClassifier\n",
    "from sklearn.preprocessing import StandardScaler\n",
    "\n",
    "# !pip install catboost\n",
    "# !pip install lightgbm\n",
    "# !pip install xgboost\n",
    "\n",
    "from xgboost import XGBClassifier\n",
    "from lightgbm import LGBMClassifier\n",
    "# from catboost import CatBoostClassifier\n",
    "\n",
    "pd.set_option('display.max_columns', None)\n",
    "# pd.set_option('display.width', 500)\n",
    "\n",
    "warnings.simplefilter(action='ignore', category=Warning)"
   ]
  },
  {
   "cell_type": "markdown",
   "metadata": {},
   "source": [
    "## 1. Exploratory Data Analysis"
   ]
  },
  {
   "cell_type": "markdown",
   "metadata": {},
   "source": [
    "Buraya bir çok fonksiyon tanımlayacağız fakat hepsini kullanmayacağız. Burası deneysel bir alan. Hangi fonksiyonları kullanacağımıza burada karar verip daha sonrasında sadece kullandığımız fonksiyonları bir pipeline dosyasına geçireceğiz."
   ]
  },
  {
   "cell_type": "code",
   "execution_count": 2,
   "metadata": {},
   "outputs": [],
   "source": [
    "def check_df(dataframe, head=5):\n",
    "    print(\"##################### Shape #####################\")\n",
    "    print(dataframe.shape)\n",
    "    print(\"##################### Types #####################\")\n",
    "    print(dataframe.dtypes)\n",
    "    print(\"##################### Info #####################\")\n",
    "    print(dataframe.info())\n",
    "    print(\"##################### Head #####################\")\n",
    "    print(dataframe.head(head))\n",
    "    print(\"##################### Tail #####################\")\n",
    "    print(dataframe.tail(head))\n",
    "    print(\"##################### Null Values #####################\")\n",
    "    print(dataframe.isnull().sum())\n",
    "    print(\"##################### Quantiles #####################\")\n",
    "    print(dataframe.quantile([0, 0.05, 0.50, 0.95, 0.99, 1]).T)\n",
    "\n",
    "\n",
    "def grab_col_names(dataframe, cat_th=10, car_th=20):\n",
    "    \"\"\"\n",
    "    Veri setindeki kategorik, numerik ve kategorik fakat kardinal değişkenlerin isimlerini verir.\n",
    "\n",
    "    Parameters\n",
    "    ----------\n",
    "    dataframe: dataframe\n",
    "        Değişken isimleri alınmak istenen dataframe'dir.\n",
    "    cat_th: int, float\n",
    "        Numerik fakat kategorik olan değişkenler için sınıf eşik değeri.\n",
    "    car_th: int, float\n",
    "        Kategorik fakat kardinal değişkenler için sınıf eşik değeri.\n",
    "\n",
    "    Returns\n",
    "    -------\n",
    "    cat_cols: list\n",
    "        Kategorik değişken listesi.\n",
    "    num_cols: list\n",
    "        Numerik değişken listesi.\n",
    "    cat_but_car: list\n",
    "        Kategorik görünümlü kardinal değişken listesi.\n",
    "\n",
    "    Notes\n",
    "    ------\n",
    "    cat_cols + num_cols + cat_but_car = toplam değişken sayısı\n",
    "    num_but_cat, cat_cols'un içerisinde.\n",
    "\n",
    "    \"\"\"\n",
    "    # cat_cols, cat_but_car\n",
    "    cat_cols = [col for col in dataframe.columns if str(dataframe[col].dtypes) in [\"object\", \"category\", \"bool\", \"uint8\"]]\n",
    "\n",
    "    num_but_cats = [col for col in dataframe.columns if dataframe[col].dtypes in [\"int64\", \"float64\"] and dataframe[col].nunique() < cat_th]\n",
    "\n",
    "    cat_but_cars = [col for col in dataframe.columns if str(dataframe[col].dtypes) in [\"object\", \"category\"] and dataframe[col].nunique() > car_th]\n",
    "\n",
    "    cat_cols = cat_cols + num_but_cats\n",
    "    cat_cols = [col for col in cat_cols if col not in cat_but_cars]\n",
    "\n",
    "    # num_cols\n",
    "    num_cols = [col for col in dataframe.columns if dataframe[col].dtypes in [\"int64\", \"float64\"]]\n",
    "    num_cols = [col for col in num_cols if col not in cat_cols]\n",
    "\n",
    "    print(f\"Observations: {dataframe.shape[0]}\")\n",
    "    print(f\"Variables: {dataframe.shape[1]}\")\n",
    "    print(f\"cat_cols: {len(cat_cols)}\")\n",
    "    print(f\"num_cols: {len(num_cols)}\")\n",
    "    print(f\"cat_but_car: {len(cat_but_cars)}\")\n",
    "    print(f\"num_but_cat: {len(num_but_cats)}\")\n",
    "\n",
    "    return cat_cols, num_cols, cat_but_cars\n",
    "\n",
    "\n",
    "def cat_summary(dataframe, col_name, plot=False):\n",
    "    import pandas as pd\n",
    "    \n",
    "    print(pd.DataFrame({col_name: dataframe[col_name].value_counts(),\n",
    "                        \"Ratio\": 100 * dataframe[col_name].value_counts() / len(dataframe)}))\n",
    "    print(\"#######################\")\n",
    "\n",
    "    if plot:\n",
    "        sns.countplot(x=dataframe[col_name], data=dataframe)\n",
    "        plt.show(block=True)\n",
    "\n",
    "\n",
    "def num_summary(dataframe, col_name, plot=False):\n",
    "    quantiles = [0.05, 0.10, 0.20, 0.30, 0.40, 0.50, 0.60, 0.70, 0.80, 0.90, 0.95, 0.99]\n",
    "    print(dataframe[col_name].describe(quantiles).T)\n",
    "\n",
    "    if plot:\n",
    "        dataframe[col_name].hist()\n",
    "        plt.xlabel(col_name)\n",
    "        plt.title(col_name)\n",
    "        plt.show(block=True)\n",
    "\n",
    "\n",
    "def target_summary_wCat(dataframe, target, categorical_col):\n",
    "    print(pd.DataFrame({\"TARGET_MEAN\": dataframe.groupby(categorical_col)[target].mean()}))\n",
    "\n",
    "\n",
    "def target_summary_wNum(dataframe, target, numerical_col):\n",
    "    print(dataframe.groupby(target).agg({numerical_col: \"mean\"}))\n",
    "\n",
    "    \n",
    "def correlation_matrix(df, cols):\n",
    "    fig = plt.gcf()\n",
    "    fig.set_size_inches(10, 8)\n",
    "    plt.xticks(fontsize=10)\n",
    "    plt.yticks(fontsize=10)\n",
    "    fig = sns.heatmap(df[cols].corr(), annot=True, linewidths=0.5, annot_kws={'size': 12},linecolor='w', cmap='RdBu')\n",
    "    plt.show(block=True)"
   ]
  },
  {
   "cell_type": "code",
   "execution_count": 3,
   "metadata": {},
   "outputs": [],
   "source": [
    "df = pd.read_csv(\"../datasets/diabetes.csv\")"
   ]
  },
  {
   "cell_type": "code",
   "execution_count": 4,
   "metadata": {},
   "outputs": [
    {
     "name": "stdout",
     "output_type": "stream",
     "text": [
      "##################### Shape #####################\n",
      "(768, 9)\n",
      "##################### Types #####################\n",
      "Pregnancies                   int64\n",
      "Glucose                       int64\n",
      "BloodPressure                 int64\n",
      "SkinThickness                 int64\n",
      "Insulin                       int64\n",
      "BMI                         float64\n",
      "DiabetesPedigreeFunction    float64\n",
      "Age                           int64\n",
      "Outcome                       int64\n",
      "dtype: object\n",
      "##################### Info #####################\n",
      "<class 'pandas.core.frame.DataFrame'>\n",
      "RangeIndex: 768 entries, 0 to 767\n",
      "Data columns (total 9 columns):\n",
      " #   Column                    Non-Null Count  Dtype  \n",
      "---  ------                    --------------  -----  \n",
      " 0   Pregnancies               768 non-null    int64  \n",
      " 1   Glucose                   768 non-null    int64  \n",
      " 2   BloodPressure             768 non-null    int64  \n",
      " 3   SkinThickness             768 non-null    int64  \n",
      " 4   Insulin                   768 non-null    int64  \n",
      " 5   BMI                       768 non-null    float64\n",
      " 6   DiabetesPedigreeFunction  768 non-null    float64\n",
      " 7   Age                       768 non-null    int64  \n",
      " 8   Outcome                   768 non-null    int64  \n",
      "dtypes: float64(2), int64(7)\n",
      "memory usage: 54.1 KB\n",
      "None\n",
      "##################### Head #####################\n",
      "   Pregnancies  Glucose  BloodPressure  SkinThickness  Insulin   BMI  \\\n",
      "0            6      148             72             35        0  33.6   \n",
      "1            1       85             66             29        0  26.6   \n",
      "2            8      183             64              0        0  23.3   \n",
      "3            1       89             66             23       94  28.1   \n",
      "4            0      137             40             35      168  43.1   \n",
      "\n",
      "   DiabetesPedigreeFunction  Age  Outcome  \n",
      "0                     0.627   50        1  \n",
      "1                     0.351   31        0  \n",
      "2                     0.672   32        1  \n",
      "3                     0.167   21        0  \n",
      "4                     2.288   33        1  \n",
      "##################### Tail #####################\n",
      "     Pregnancies  Glucose  BloodPressure  SkinThickness  Insulin   BMI  \\\n",
      "763           10      101             76             48      180  32.9   \n",
      "764            2      122             70             27        0  36.8   \n",
      "765            5      121             72             23      112  26.2   \n",
      "766            1      126             60              0        0  30.1   \n",
      "767            1       93             70             31        0  30.4   \n",
      "\n",
      "     DiabetesPedigreeFunction  Age  Outcome  \n",
      "763                     0.171   63        0  \n",
      "764                     0.340   27        0  \n",
      "765                     0.245   30        0  \n",
      "766                     0.349   47        1  \n",
      "767                     0.315   23        0  \n",
      "##################### Null Values #####################\n",
      "Pregnancies                 0\n",
      "Glucose                     0\n",
      "BloodPressure               0\n",
      "SkinThickness               0\n",
      "Insulin                     0\n",
      "BMI                         0\n",
      "DiabetesPedigreeFunction    0\n",
      "Age                         0\n",
      "Outcome                     0\n",
      "dtype: int64\n",
      "##################### Quantiles #####################\n",
      "                            0.00      0.05      0.50       0.95       0.99  \\\n",
      "Pregnancies                0.000   0.00000    3.0000   10.00000   13.00000   \n",
      "Glucose                    0.000  79.00000  117.0000  181.00000  196.00000   \n",
      "BloodPressure              0.000  38.70000   72.0000   90.00000  106.00000   \n",
      "SkinThickness              0.000   0.00000   23.0000   44.00000   51.33000   \n",
      "Insulin                    0.000   0.00000   30.5000  293.00000  519.90000   \n",
      "BMI                        0.000  21.80000   32.0000   44.39500   50.75900   \n",
      "DiabetesPedigreeFunction   0.078   0.14035    0.3725    1.13285    1.69833   \n",
      "Age                       21.000  21.00000   29.0000   58.00000   67.00000   \n",
      "Outcome                    0.000   0.00000    0.0000    1.00000    1.00000   \n",
      "\n",
      "                            1.00  \n",
      "Pregnancies                17.00  \n",
      "Glucose                   199.00  \n",
      "BloodPressure             122.00  \n",
      "SkinThickness              99.00  \n",
      "Insulin                   846.00  \n",
      "BMI                        67.10  \n",
      "DiabetesPedigreeFunction    2.42  \n",
      "Age                        81.00  \n",
      "Outcome                     1.00  \n"
     ]
    }
   ],
   "source": [
    "check_df(df)"
   ]
  },
  {
   "cell_type": "markdown",
   "metadata": {},
   "source": [
    "### Değişken türlerinin ayrıştırılması"
   ]
  },
  {
   "cell_type": "code",
   "execution_count": 5,
   "metadata": {},
   "outputs": [
    {
     "name": "stdout",
     "output_type": "stream",
     "text": [
      "Observations: 768\n",
      "Variables: 9\n",
      "cat_cols: 1\n",
      "num_cols: 8\n",
      "cat_but_car: 0\n",
      "num_but_cat: 1\n"
     ]
    }
   ],
   "source": [
    "cat_cols, num_cols, cat_but_car = grab_col_names(df, cat_th=5, car_th=20)"
   ]
  },
  {
   "cell_type": "code",
   "execution_count": 6,
   "metadata": {},
   "outputs": [
    {
     "data": {
      "text/plain": [
       "['Outcome']"
      ]
     },
     "execution_count": 6,
     "metadata": {},
     "output_type": "execute_result"
    }
   ],
   "source": [
    "cat_cols"
   ]
  },
  {
   "cell_type": "code",
   "execution_count": 7,
   "metadata": {},
   "outputs": [
    {
     "data": {
      "text/plain": [
       "['Pregnancies',\n",
       " 'Glucose',\n",
       " 'BloodPressure',\n",
       " 'SkinThickness',\n",
       " 'Insulin',\n",
       " 'BMI',\n",
       " 'DiabetesPedigreeFunction',\n",
       " 'Age']"
      ]
     },
     "execution_count": 7,
     "metadata": {},
     "output_type": "execute_result"
    }
   ],
   "source": [
    "num_cols"
   ]
  },
  {
   "cell_type": "markdown",
   "metadata": {},
   "source": [
    "### Kategorik değişkenlerin incelenmesi"
   ]
  },
  {
   "cell_type": "code",
   "execution_count": 8,
   "metadata": {},
   "outputs": [
    {
     "name": "stdout",
     "output_type": "stream",
     "text": [
      "   Outcome      Ratio\n",
      "0      500  65.104167\n",
      "1      268  34.895833\n",
      "#######################\n"
     ]
    }
   ],
   "source": [
    "for col in cat_cols:\n",
    "    cat_summary(df, col)"
   ]
  },
  {
   "cell_type": "markdown",
   "metadata": {},
   "source": [
    "### Sayısal değişkenlerin incelenmesi "
   ]
  },
  {
   "cell_type": "code",
   "execution_count": 9,
   "metadata": {},
   "outputs": [
    {
     "data": {
      "text/html": [
       "<div>\n",
       "<style scoped>\n",
       "    .dataframe tbody tr th:only-of-type {\n",
       "        vertical-align: middle;\n",
       "    }\n",
       "\n",
       "    .dataframe tbody tr th {\n",
       "        vertical-align: top;\n",
       "    }\n",
       "\n",
       "    .dataframe thead th {\n",
       "        text-align: right;\n",
       "    }\n",
       "</style>\n",
       "<table border=\"1\" class=\"dataframe\">\n",
       "  <thead>\n",
       "    <tr style=\"text-align: right;\">\n",
       "      <th></th>\n",
       "      <th>count</th>\n",
       "      <th>mean</th>\n",
       "      <th>std</th>\n",
       "      <th>min</th>\n",
       "      <th>25%</th>\n",
       "      <th>50%</th>\n",
       "      <th>75%</th>\n",
       "      <th>max</th>\n",
       "    </tr>\n",
       "  </thead>\n",
       "  <tbody>\n",
       "    <tr>\n",
       "      <th>Pregnancies</th>\n",
       "      <td>768.0</td>\n",
       "      <td>3.845052</td>\n",
       "      <td>3.369578</td>\n",
       "      <td>0.000</td>\n",
       "      <td>1.00000</td>\n",
       "      <td>3.0000</td>\n",
       "      <td>6.00000</td>\n",
       "      <td>17.00</td>\n",
       "    </tr>\n",
       "    <tr>\n",
       "      <th>Glucose</th>\n",
       "      <td>768.0</td>\n",
       "      <td>120.894531</td>\n",
       "      <td>31.972618</td>\n",
       "      <td>0.000</td>\n",
       "      <td>99.00000</td>\n",
       "      <td>117.0000</td>\n",
       "      <td>140.25000</td>\n",
       "      <td>199.00</td>\n",
       "    </tr>\n",
       "    <tr>\n",
       "      <th>BloodPressure</th>\n",
       "      <td>768.0</td>\n",
       "      <td>69.105469</td>\n",
       "      <td>19.355807</td>\n",
       "      <td>0.000</td>\n",
       "      <td>62.00000</td>\n",
       "      <td>72.0000</td>\n",
       "      <td>80.00000</td>\n",
       "      <td>122.00</td>\n",
       "    </tr>\n",
       "    <tr>\n",
       "      <th>SkinThickness</th>\n",
       "      <td>768.0</td>\n",
       "      <td>20.536458</td>\n",
       "      <td>15.952218</td>\n",
       "      <td>0.000</td>\n",
       "      <td>0.00000</td>\n",
       "      <td>23.0000</td>\n",
       "      <td>32.00000</td>\n",
       "      <td>99.00</td>\n",
       "    </tr>\n",
       "    <tr>\n",
       "      <th>Insulin</th>\n",
       "      <td>768.0</td>\n",
       "      <td>79.799479</td>\n",
       "      <td>115.244002</td>\n",
       "      <td>0.000</td>\n",
       "      <td>0.00000</td>\n",
       "      <td>30.5000</td>\n",
       "      <td>127.25000</td>\n",
       "      <td>846.00</td>\n",
       "    </tr>\n",
       "    <tr>\n",
       "      <th>BMI</th>\n",
       "      <td>768.0</td>\n",
       "      <td>31.992578</td>\n",
       "      <td>7.884160</td>\n",
       "      <td>0.000</td>\n",
       "      <td>27.30000</td>\n",
       "      <td>32.0000</td>\n",
       "      <td>36.60000</td>\n",
       "      <td>67.10</td>\n",
       "    </tr>\n",
       "    <tr>\n",
       "      <th>DiabetesPedigreeFunction</th>\n",
       "      <td>768.0</td>\n",
       "      <td>0.471876</td>\n",
       "      <td>0.331329</td>\n",
       "      <td>0.078</td>\n",
       "      <td>0.24375</td>\n",
       "      <td>0.3725</td>\n",
       "      <td>0.62625</td>\n",
       "      <td>2.42</td>\n",
       "    </tr>\n",
       "    <tr>\n",
       "      <th>Age</th>\n",
       "      <td>768.0</td>\n",
       "      <td>33.240885</td>\n",
       "      <td>11.760232</td>\n",
       "      <td>21.000</td>\n",
       "      <td>24.00000</td>\n",
       "      <td>29.0000</td>\n",
       "      <td>41.00000</td>\n",
       "      <td>81.00</td>\n",
       "    </tr>\n",
       "  </tbody>\n",
       "</table>\n",
       "</div>"
      ],
      "text/plain": [
       "                          count        mean         std     min       25%  \\\n",
       "Pregnancies               768.0    3.845052    3.369578   0.000   1.00000   \n",
       "Glucose                   768.0  120.894531   31.972618   0.000  99.00000   \n",
       "BloodPressure             768.0   69.105469   19.355807   0.000  62.00000   \n",
       "SkinThickness             768.0   20.536458   15.952218   0.000   0.00000   \n",
       "Insulin                   768.0   79.799479  115.244002   0.000   0.00000   \n",
       "BMI                       768.0   31.992578    7.884160   0.000  27.30000   \n",
       "DiabetesPedigreeFunction  768.0    0.471876    0.331329   0.078   0.24375   \n",
       "Age                       768.0   33.240885   11.760232  21.000  24.00000   \n",
       "\n",
       "                               50%        75%     max  \n",
       "Pregnancies                 3.0000    6.00000   17.00  \n",
       "Glucose                   117.0000  140.25000  199.00  \n",
       "BloodPressure              72.0000   80.00000  122.00  \n",
       "SkinThickness              23.0000   32.00000   99.00  \n",
       "Insulin                    30.5000  127.25000  846.00  \n",
       "BMI                        32.0000   36.60000   67.10  \n",
       "DiabetesPedigreeFunction    0.3725    0.62625    2.42  \n",
       "Age                        29.0000   41.00000   81.00  "
      ]
     },
     "execution_count": 9,
     "metadata": {},
     "output_type": "execute_result"
    }
   ],
   "source": [
    "df[num_cols].describe().T"
   ]
  },
  {
   "cell_type": "markdown",
   "metadata": {},
   "source": [
    "Eğer bu sayısal değişkenlerin grafiğini çizdirmek istersek:"
   ]
  },
  {
   "cell_type": "code",
   "execution_count": 10,
   "metadata": {},
   "outputs": [
    {
     "name": "stdout",
     "output_type": "stream",
     "text": [
      "count    768.000000\n",
      "mean       3.845052\n",
      "std        3.369578\n",
      "min        0.000000\n",
      "5%         0.000000\n",
      "10%        0.000000\n",
      "20%        1.000000\n",
      "30%        1.000000\n",
      "40%        2.000000\n",
      "50%        3.000000\n",
      "60%        4.000000\n",
      "70%        5.000000\n",
      "80%        7.000000\n",
      "90%        9.000000\n",
      "95%       10.000000\n",
      "99%       13.000000\n",
      "max       17.000000\n",
      "Name: Pregnancies, dtype: float64\n"
     ]
    },
    {
     "data": {
      "image/png": "[encoded data removed]",
      "text/plain": [
       "<Figure size 432x288 with 1 Axes>"
      ]
     },
     "metadata": {
      "needs_background": "light"
     },
     "output_type": "display_data"
    },
    {
     "name": "stdout",
     "output_type": "stream",
     "text": [
      "count    768.000000\n",
      "mean     120.894531\n",
      "std       31.972618\n",
      "min        0.000000\n",
      "5%        79.000000\n",
      "10%       85.000000\n",
      "20%       95.000000\n",
      "30%      102.000000\n",
      "40%      109.000000\n",
      "50%      117.000000\n",
      "60%      125.000000\n",
      "70%      134.000000\n",
      "80%      147.000000\n",
      "90%      167.000000\n",
      "95%      181.000000\n",
      "99%      196.000000\n",
      "max      199.000000\n",
      "Name: Glucose, dtype: float64\n"
     ]
    },
    {
     "data": {
      "image/png": "[encoded data removed]",
      "text/plain": [
       "<Figure size 432x288 with 1 Axes>"
      ]
     },
     "metadata": {
      "needs_background": "light"
     },
     "output_type": "display_data"
    },
    {
     "name": "stdout",
     "output_type": "stream",
     "text": [
      "count    768.000000\n",
      "mean      69.105469\n",
      "std       19.355807\n",
      "min        0.000000\n",
      "5%        38.700000\n",
      "10%       54.000000\n",
      "20%       60.000000\n",
      "30%       64.000000\n",
      "40%       68.000000\n",
      "50%       72.000000\n",
      "60%       74.000000\n",
      "70%       78.000000\n",
      "80%       82.000000\n",
      "90%       88.000000\n",
      "95%       90.000000\n",
      "99%      106.000000\n",
      "max      122.000000\n",
      "Name: BloodPressure, dtype: float64\n"
     ]
    },
    {
     "data": {
      "image/png": "[encoded data removed]",
      "text/plain": [
       "<Figure size 432x288 with 1 Axes>"
      ]
     },
     "metadata": {
      "needs_background": "light"
     },
     "output_type": "display_data"
    },
    {
     "name": "stdout",
     "output_type": "stream",
     "text": [
      "count    768.000000\n",
      "mean      20.536458\n",
      "std       15.952218\n",
      "min        0.000000\n",
      "5%         0.000000\n",
      "10%        0.000000\n",
      "20%        0.000000\n",
      "30%        8.200000\n",
      "40%       18.000000\n",
      "50%       23.000000\n",
      "60%       27.000000\n",
      "70%       31.000000\n",
      "80%       35.000000\n",
      "90%       40.000000\n",
      "95%       44.000000\n",
      "99%       51.330000\n",
      "max       99.000000\n",
      "Name: SkinThickness, dtype: float64\n"
     ]
    },
    {
     "data": {
      "image/png": "[encoded data removed]",
      "text/plain": [
       "<Figure size 432x288 with 1 Axes>"
      ]
     },
     "metadata": {
      "needs_background": "light"
     },
     "output_type": "display_data"
    },
    {
     "name": "stdout",
     "output_type": "stream",
     "text": [
      "count    768.000000\n",
      "mean      79.799479\n",
      "std      115.244002\n",
      "min        0.000000\n",
      "5%         0.000000\n",
      "10%        0.000000\n",
      "20%        0.000000\n",
      "30%        0.000000\n",
      "40%        0.000000\n",
      "50%       30.500000\n",
      "60%       72.200000\n",
      "70%      106.000000\n",
      "80%      150.000000\n",
      "90%      210.000000\n",
      "95%      293.000000\n",
      "99%      519.900000\n",
      "max      846.000000\n",
      "Name: Insulin, dtype: float64\n"
     ]
    },
    {
     "data": {
      "image/png": "[encoded data removed]",
      "text/plain": [
       "<Figure size 432x288 with 1 Axes>"
      ]
     },
     "metadata": {
      "needs_background": "light"
     },
     "output_type": "display_data"
    },
    {
     "name": "stdout",
     "output_type": "stream",
     "text": [
      "count    768.000000\n",
      "mean      31.992578\n",
      "std        7.884160\n",
      "min        0.000000\n",
      "5%        21.800000\n",
      "10%       23.600000\n",
      "20%       25.900000\n",
      "30%       28.200000\n",
      "40%       30.100000\n",
      "50%       32.000000\n",
      "60%       33.700000\n",
      "70%       35.490000\n",
      "80%       37.800000\n",
      "90%       41.500000\n",
      "95%       44.395000\n",
      "99%       50.759000\n",
      "max       67.100000\n",
      "Name: BMI, dtype: float64\n"
     ]
    },
    {
     "data": {
      "image/png": "[encoded data removed]",
      "text/plain": [
       "<Figure size 432x288 with 1 Axes>"
      ]
     },
     "metadata": {
      "needs_background": "light"
     },
     "output_type": "display_data"
    },
    {
     "name": "stdout",
     "output_type": "stream",
     "text": [
      "count    768.000000\n",
      "mean       0.471876\n",
      "std        0.331329\n",
      "min        0.078000\n",
      "5%         0.140350\n",
      "10%        0.165000\n",
      "20%        0.219400\n",
      "30%        0.259000\n",
      "40%        0.302800\n",
      "50%        0.372500\n",
      "60%        0.454200\n",
      "70%        0.563700\n",
      "80%        0.687000\n",
      "90%        0.878600\n",
      "95%        1.132850\n",
      "99%        1.698330\n",
      "max        2.420000\n",
      "Name: DiabetesPedigreeFunction, dtype: float64\n"
     ]
    },
    {
     "data": {
      "image/png": "[encoded data removed]",
      "text/plain": [
       "<Figure size 432x288 with 1 Axes>"
      ]
     },
     "metadata": {
      "needs_background": "light"
     },
     "output_type": "display_data"
    },
    {
     "name": "stdout",
     "output_type": "stream",
     "text": [
      "count    768.000000\n",
      "mean      33.240885\n",
      "std       11.760232\n",
      "min       21.000000\n",
      "5%        21.000000\n",
      "10%       22.000000\n",
      "20%       23.000000\n",
      "30%       25.000000\n",
      "40%       27.000000\n",
      "50%       29.000000\n",
      "60%       33.000000\n",
      "70%       38.000000\n",
      "80%       42.600000\n",
      "90%       51.000000\n",
      "95%       58.000000\n",
      "99%       67.000000\n",
      "max       81.000000\n",
      "Name: Age, dtype: float64\n"
     ]
    },
    {
     "data": {
      "image/png": "[encoded data removed]",
      "text/plain": [
       "<Figure size 432x288 with 1 Axes>"
      ]
     },
     "metadata": {
      "needs_background": "light"
     },
     "output_type": "display_data"
    }
   ],
   "source": [
    "for col in num_cols:\n",
    "    num_summary(df, col, plot=True)"
   ]
  },
  {
   "cell_type": "markdown",
   "metadata": {},
   "source": [
    "Görsel çıktı veren kodları yorumladıktan ve alacaklarımızı aldıktan sonra o satırı comment şekilde bırakıyoruz ki tekrar tekrar çalıştırdığımızda sürekli grafik çizdirmesin."
   ]
  },
  {
   "cell_type": "markdown",
   "metadata": {},
   "source": [
    "### Sayısal değişlenlerin birbirleri ile korelasyonu"
   ]
  },
  {
   "cell_type": "code",
   "execution_count": 11,
   "metadata": {},
   "outputs": [
    {
     "data": {
      "image/png": "[encoded data removed]",
      "text/plain": [
       "<Figure size 720x576 with 2 Axes>"
      ]
     },
     "metadata": {
      "needs_background": "light"
     },
     "output_type": "display_data"
    }
   ],
   "source": [
    "correlation_matrix(df, num_cols)"
   ]
  },
  {
   "cell_type": "markdown",
   "metadata": {},
   "source": [
    "### Target ile sayısal değişkenlerin incelenmesi"
   ]
  },
  {
   "cell_type": "code",
   "execution_count": 12,
   "metadata": {},
   "outputs": [
    {
     "name": "stdout",
     "output_type": "stream",
     "text": [
      "         Pregnancies\n",
      "Outcome             \n",
      "0           3.298000\n",
      "1           4.865672\n",
      "            Glucose\n",
      "Outcome            \n",
      "0        109.980000\n",
      "1        141.257463\n",
      "         BloodPressure\n",
      "Outcome               \n",
      "0            68.184000\n",
      "1            70.824627\n",
      "         SkinThickness\n",
      "Outcome               \n",
      "0            19.664000\n",
      "1            22.164179\n",
      "            Insulin\n",
      "Outcome            \n",
      "0         68.792000\n",
      "1        100.335821\n",
      "               BMI\n",
      "Outcome           \n",
      "0        30.304200\n",
      "1        35.142537\n",
      "         DiabetesPedigreeFunction\n",
      "Outcome                          \n",
      "0                        0.429734\n",
      "1                        0.550500\n",
      "               Age\n",
      "Outcome           \n",
      "0        31.190000\n",
      "1        37.067164\n"
     ]
    }
   ],
   "source": [
    "for col in num_cols:\n",
    "    target_summary_wNum(df, \"Outcome\", col)"
   ]
  },
  {
   "cell_type": "markdown",
   "metadata": {},
   "source": [
    "## 2. Data Preprocessing & Feature Engineering"
   ]
  },
  {
   "cell_type": "markdown",
   "metadata": {},
   "source": [
    "Bu bölümde bu veri setindeki olası problemleri çözüp, yeni değişkenler türetip bu işlemleri bir fonksiyonca tanımlamaya çalışacağız. Kullanacak olduğumuz fonksiyonlar aşağıdaki gibidir:"
   ]
  },
  {
   "cell_type": "code",
   "execution_count": 13,
   "metadata": {},
   "outputs": [],
   "source": [
    "def outlier_thresholds(dataframe, num_col, q1=0.25, q3=0.75):\n",
    "    quartile1 = dataframe[num_col].quantile(q1)\n",
    "    quartile3 = dataframe[num_col].quantile(q3)\n",
    "    iqr = quartile3 - quartile1\n",
    "    up_limit = quartile3 + 1.5 * iqr\n",
    "    low_limit = quartile1 - 1.5 * iqr\n",
    "\n",
    "    # outliers = [dataframe[(dataframe[num_col] < low) | (dataframe[num_col] > up)]]\n",
    "    return low_limit, up_limit\n",
    "\n",
    "\n",
    "def check_outlier(dataframe, num_col, q1=0.25, q3=0.75):\n",
    "    low_limit, up_limit = outlier_thresholds(dataframe, num_col, q1, q3)\n",
    "\n",
    "    if dataframe[(dataframe[num_col] < low_limit) | (dataframe[num_col] > up_limit)].any(axis=None):\n",
    "        return True\n",
    "    else:\n",
    "        return False\n",
    "\n",
    "    \n",
    "def replace_with_thresholds(dataframe, num_col):\n",
    "    low_limit, up_limit = outlier_thresholds(dataframe, num_col)\n",
    "\n",
    "    dataframe.loc[(dataframe[num_col] < low_limit), num_col] = low_limit\n",
    "    dataframe.loc[(dataframe[num_col] > up_limit), num_col] = up_limit\n",
    "    \n",
    "\n",
    "def one_hot_encoder(dataframe, categorical_cols, drop_first=True):\n",
    "    # fonksiyona girilen dataframe içerisinden kategorik değişkenleri one hot encoding işlemine sokuyoruz\n",
    "    # sonrasında ana dataframe'e bunu kaydederek fonksiyon sonunda bu df'i döndürüyoruz.\n",
    "    dataframe = pd.get_dummies(dataframe, columns=categorical_cols, drop_first=drop_first)\n",
    "    return dataframe"
   ]
  },
  {
   "cell_type": "code",
   "execution_count": 14,
   "metadata": {},
   "outputs": [
    {
     "data": {
      "text/html": [
       "<div>\n",
       "<style scoped>\n",
       "    .dataframe tbody tr th:only-of-type {\n",
       "        vertical-align: middle;\n",
       "    }\n",
       "\n",
       "    .dataframe tbody tr th {\n",
       "        vertical-align: top;\n",
       "    }\n",
       "\n",
       "    .dataframe thead th {\n",
       "        text-align: right;\n",
       "    }\n",
       "</style>\n",
       "<table border=\"1\" class=\"dataframe\">\n",
       "  <thead>\n",
       "    <tr style=\"text-align: right;\">\n",
       "      <th></th>\n",
       "      <th>Pregnancies</th>\n",
       "      <th>Glucose</th>\n",
       "      <th>BloodPressure</th>\n",
       "      <th>SkinThickness</th>\n",
       "      <th>Insulin</th>\n",
       "      <th>BMI</th>\n",
       "      <th>DiabetesPedigreeFunction</th>\n",
       "      <th>Age</th>\n",
       "      <th>Outcome</th>\n",
       "    </tr>\n",
       "  </thead>\n",
       "  <tbody>\n",
       "    <tr>\n",
       "      <th>0</th>\n",
       "      <td>6</td>\n",
       "      <td>148</td>\n",
       "      <td>72</td>\n",
       "      <td>35</td>\n",
       "      <td>0</td>\n",
       "      <td>33.6</td>\n",
       "      <td>0.627</td>\n",
       "      <td>50</td>\n",
       "      <td>1</td>\n",
       "    </tr>\n",
       "    <tr>\n",
       "      <th>1</th>\n",
       "      <td>1</td>\n",
       "      <td>85</td>\n",
       "      <td>66</td>\n",
       "      <td>29</td>\n",
       "      <td>0</td>\n",
       "      <td>26.6</td>\n",
       "      <td>0.351</td>\n",
       "      <td>31</td>\n",
       "      <td>0</td>\n",
       "    </tr>\n",
       "    <tr>\n",
       "      <th>2</th>\n",
       "      <td>8</td>\n",
       "      <td>183</td>\n",
       "      <td>64</td>\n",
       "      <td>0</td>\n",
       "      <td>0</td>\n",
       "      <td>23.3</td>\n",
       "      <td>0.672</td>\n",
       "      <td>32</td>\n",
       "      <td>1</td>\n",
       "    </tr>\n",
       "    <tr>\n",
       "      <th>3</th>\n",
       "      <td>1</td>\n",
       "      <td>89</td>\n",
       "      <td>66</td>\n",
       "      <td>23</td>\n",
       "      <td>94</td>\n",
       "      <td>28.1</td>\n",
       "      <td>0.167</td>\n",
       "      <td>21</td>\n",
       "      <td>0</td>\n",
       "    </tr>\n",
       "    <tr>\n",
       "      <th>4</th>\n",
       "      <td>0</td>\n",
       "      <td>137</td>\n",
       "      <td>40</td>\n",
       "      <td>35</td>\n",
       "      <td>168</td>\n",
       "      <td>43.1</td>\n",
       "      <td>2.288</td>\n",
       "      <td>33</td>\n",
       "      <td>1</td>\n",
       "    </tr>\n",
       "  </tbody>\n",
       "</table>\n",
       "</div>"
      ],
      "text/plain": [
       "   Pregnancies  Glucose  BloodPressure  SkinThickness  Insulin   BMI  \\\n",
       "0            6      148             72             35        0  33.6   \n",
       "1            1       85             66             29        0  26.6   \n",
       "2            8      183             64              0        0  23.3   \n",
       "3            1       89             66             23       94  28.1   \n",
       "4            0      137             40             35      168  43.1   \n",
       "\n",
       "   DiabetesPedigreeFunction  Age  Outcome  \n",
       "0                     0.627   50        1  \n",
       "1                     0.351   31        0  \n",
       "2                     0.672   32        1  \n",
       "3                     0.167   21        0  \n",
       "4                     2.288   33        1  "
      ]
     },
     "execution_count": 14,
     "metadata": {},
     "output_type": "execute_result"
    }
   ],
   "source": [
    "df.head()"
   ]
  },
  {
   "cell_type": "markdown",
   "metadata": {},
   "source": [
    "Veri setindeki değişkenlerimizin isimleri büyük ve küçük harflerden oluşuyor. Bunun bir karışıklığa sebep olmaması için bütün değişken isimlerini büyük harfler ile yazdırıyoruz."
   ]
  },
  {
   "cell_type": "markdown",
   "metadata": {},
   "source": [
    "### Değişken isimlerini büyütmek"
   ]
  },
  {
   "cell_type": "code",
   "execution_count": 15,
   "metadata": {},
   "outputs": [],
   "source": [
    "df.columns = [col.upper() for col in df.columns]"
   ]
  },
  {
   "cell_type": "code",
   "execution_count": 16,
   "metadata": {},
   "outputs": [
    {
     "data": {
      "text/html": [
       "<div>\n",
       "<style scoped>\n",
       "    .dataframe tbody tr th:only-of-type {\n",
       "        vertical-align: middle;\n",
       "    }\n",
       "\n",
       "    .dataframe tbody tr th {\n",
       "        vertical-align: top;\n",
       "    }\n",
       "\n",
       "    .dataframe thead th {\n",
       "        text-align: right;\n",
       "    }\n",
       "</style>\n",
       "<table border=\"1\" class=\"dataframe\">\n",
       "  <thead>\n",
       "    <tr style=\"text-align: right;\">\n",
       "      <th></th>\n",
       "      <th>PREGNANCIES</th>\n",
       "      <th>GLUCOSE</th>\n",
       "      <th>BLOODPRESSURE</th>\n",
       "      <th>SKINTHICKNESS</th>\n",
       "      <th>INSULIN</th>\n",
       "      <th>BMI</th>\n",
       "      <th>DIABETESPEDIGREEFUNCTION</th>\n",
       "      <th>AGE</th>\n",
       "      <th>OUTCOME</th>\n",
       "    </tr>\n",
       "  </thead>\n",
       "  <tbody>\n",
       "    <tr>\n",
       "      <th>0</th>\n",
       "      <td>6</td>\n",
       "      <td>148</td>\n",
       "      <td>72</td>\n",
       "      <td>35</td>\n",
       "      <td>0</td>\n",
       "      <td>33.6</td>\n",
       "      <td>0.627</td>\n",
       "      <td>50</td>\n",
       "      <td>1</td>\n",
       "    </tr>\n",
       "    <tr>\n",
       "      <th>1</th>\n",
       "      <td>1</td>\n",
       "      <td>85</td>\n",
       "      <td>66</td>\n",
       "      <td>29</td>\n",
       "      <td>0</td>\n",
       "      <td>26.6</td>\n",
       "      <td>0.351</td>\n",
       "      <td>31</td>\n",
       "      <td>0</td>\n",
       "    </tr>\n",
       "    <tr>\n",
       "      <th>2</th>\n",
       "      <td>8</td>\n",
       "      <td>183</td>\n",
       "      <td>64</td>\n",
       "      <td>0</td>\n",
       "      <td>0</td>\n",
       "      <td>23.3</td>\n",
       "      <td>0.672</td>\n",
       "      <td>32</td>\n",
       "      <td>1</td>\n",
       "    </tr>\n",
       "    <tr>\n",
       "      <th>3</th>\n",
       "      <td>1</td>\n",
       "      <td>89</td>\n",
       "      <td>66</td>\n",
       "      <td>23</td>\n",
       "      <td>94</td>\n",
       "      <td>28.1</td>\n",
       "      <td>0.167</td>\n",
       "      <td>21</td>\n",
       "      <td>0</td>\n",
       "    </tr>\n",
       "    <tr>\n",
       "      <th>4</th>\n",
       "      <td>0</td>\n",
       "      <td>137</td>\n",
       "      <td>40</td>\n",
       "      <td>35</td>\n",
       "      <td>168</td>\n",
       "      <td>43.1</td>\n",
       "      <td>2.288</td>\n",
       "      <td>33</td>\n",
       "      <td>1</td>\n",
       "    </tr>\n",
       "  </tbody>\n",
       "</table>\n",
       "</div>"
      ],
      "text/plain": [
       "   PREGNANCIES  GLUCOSE  BLOODPRESSURE  SKINTHICKNESS  INSULIN   BMI  \\\n",
       "0            6      148             72             35        0  33.6   \n",
       "1            1       85             66             29        0  26.6   \n",
       "2            8      183             64              0        0  23.3   \n",
       "3            1       89             66             23       94  28.1   \n",
       "4            0      137             40             35      168  43.1   \n",
       "\n",
       "   DIABETESPEDIGREEFUNCTION  AGE  OUTCOME  \n",
       "0                     0.627   50        1  \n",
       "1                     0.351   31        0  \n",
       "2                     0.672   32        1  \n",
       "3                     0.167   21        0  \n",
       "4                     2.288   33        1  "
      ]
     },
     "execution_count": 16,
     "metadata": {},
     "output_type": "execute_result"
    }
   ],
   "source": [
    "df.head()"
   ]
  },
  {
   "cell_type": "markdown",
   "metadata": {},
   "source": [
    "### Yeni Değişkenler Üretme"
   ]
  },
  {
   "cell_type": "markdown",
   "metadata": {},
   "source": [
    "**Glucose**\n",
    "\n",
    "Glükoz değeri, şeker hastalığı ile direkt olarak ilişkili bir değer olduğundan dolayı glükoz değeri 0-139 arasında olanlara *normal*, 139-200 arasında olanlara *prediabetes* olarak isimlendiriyoruz."
   ]
  },
  {
   "cell_type": "code",
   "execution_count": 17,
   "metadata": {},
   "outputs": [],
   "source": [
    "df[\"NEW_GLUCOSE_CAT\"] = pd.cut(x=df['GLUCOSE'], bins=[-1, 139, 200], labels=[\"normal\", \"prediabetes\"])"
   ]
  },
  {
   "cell_type": "code",
   "execution_count": 18,
   "metadata": {},
   "outputs": [
    {
     "data": {
      "text/html": [
       "<div>\n",
       "<style scoped>\n",
       "    .dataframe tbody tr th:only-of-type {\n",
       "        vertical-align: middle;\n",
       "    }\n",
       "\n",
       "    .dataframe tbody tr th {\n",
       "        vertical-align: top;\n",
       "    }\n",
       "\n",
       "    .dataframe thead th {\n",
       "        text-align: right;\n",
       "    }\n",
       "</style>\n",
       "<table border=\"1\" class=\"dataframe\">\n",
       "  <thead>\n",
       "    <tr style=\"text-align: right;\">\n",
       "      <th></th>\n",
       "      <th>PREGNANCIES</th>\n",
       "      <th>GLUCOSE</th>\n",
       "      <th>BLOODPRESSURE</th>\n",
       "      <th>SKINTHICKNESS</th>\n",
       "      <th>INSULIN</th>\n",
       "      <th>BMI</th>\n",
       "      <th>DIABETESPEDIGREEFUNCTION</th>\n",
       "      <th>AGE</th>\n",
       "      <th>OUTCOME</th>\n",
       "      <th>NEW_GLUCOSE_CAT</th>\n",
       "    </tr>\n",
       "  </thead>\n",
       "  <tbody>\n",
       "    <tr>\n",
       "      <th>0</th>\n",
       "      <td>6</td>\n",
       "      <td>148</td>\n",
       "      <td>72</td>\n",
       "      <td>35</td>\n",
       "      <td>0</td>\n",
       "      <td>33.6</td>\n",
       "      <td>0.627</td>\n",
       "      <td>50</td>\n",
       "      <td>1</td>\n",
       "      <td>prediabetes</td>\n",
       "    </tr>\n",
       "    <tr>\n",
       "      <th>1</th>\n",
       "      <td>1</td>\n",
       "      <td>85</td>\n",
       "      <td>66</td>\n",
       "      <td>29</td>\n",
       "      <td>0</td>\n",
       "      <td>26.6</td>\n",
       "      <td>0.351</td>\n",
       "      <td>31</td>\n",
       "      <td>0</td>\n",
       "      <td>normal</td>\n",
       "    </tr>\n",
       "    <tr>\n",
       "      <th>2</th>\n",
       "      <td>8</td>\n",
       "      <td>183</td>\n",
       "      <td>64</td>\n",
       "      <td>0</td>\n",
       "      <td>0</td>\n",
       "      <td>23.3</td>\n",
       "      <td>0.672</td>\n",
       "      <td>32</td>\n",
       "      <td>1</td>\n",
       "      <td>prediabetes</td>\n",
       "    </tr>\n",
       "    <tr>\n",
       "      <th>3</th>\n",
       "      <td>1</td>\n",
       "      <td>89</td>\n",
       "      <td>66</td>\n",
       "      <td>23</td>\n",
       "      <td>94</td>\n",
       "      <td>28.1</td>\n",
       "      <td>0.167</td>\n",
       "      <td>21</td>\n",
       "      <td>0</td>\n",
       "      <td>normal</td>\n",
       "    </tr>\n",
       "    <tr>\n",
       "      <th>4</th>\n",
       "      <td>0</td>\n",
       "      <td>137</td>\n",
       "      <td>40</td>\n",
       "      <td>35</td>\n",
       "      <td>168</td>\n",
       "      <td>43.1</td>\n",
       "      <td>2.288</td>\n",
       "      <td>33</td>\n",
       "      <td>1</td>\n",
       "      <td>normal</td>\n",
       "    </tr>\n",
       "  </tbody>\n",
       "</table>\n",
       "</div>"
      ],
      "text/plain": [
       "   PREGNANCIES  GLUCOSE  BLOODPRESSURE  SKINTHICKNESS  INSULIN   BMI  \\\n",
       "0            6      148             72             35        0  33.6   \n",
       "1            1       85             66             29        0  26.6   \n",
       "2            8      183             64              0        0  23.3   \n",
       "3            1       89             66             23       94  28.1   \n",
       "4            0      137             40             35      168  43.1   \n",
       "\n",
       "   DIABETESPEDIGREEFUNCTION  AGE  OUTCOME NEW_GLUCOSE_CAT  \n",
       "0                     0.627   50        1     prediabetes  \n",
       "1                     0.351   31        0          normal  \n",
       "2                     0.672   32        1     prediabetes  \n",
       "3                     0.167   21        0          normal  \n",
       "4                     2.288   33        1          normal  "
      ]
     },
     "execution_count": 18,
     "metadata": {},
     "output_type": "execute_result"
    }
   ],
   "source": [
    "df.head()"
   ]
  },
  {
   "cell_type": "markdown",
   "metadata": {},
   "source": [
    "Yeni bir değişken oluşturduğumuz zaman o değişkeni oluşturmak için kullandığımız orijinal değişkeni hemen veri setinden silmiyoruz. Onun yerine modelleme aşamasına gelene kadar tutuyoruz. Eğer yüksek kolerasyon oluşursa o halde silme işlemini yapabiliriz. Şimdilik bir şey yapmıyoruz."
   ]
  },
  {
   "cell_type": "markdown",
   "metadata": {},
   "source": [
    "**Age**\n",
    "\n",
    "Yaşı 35'ten küçük olanları *young*, 35-55 arasında olanları *middleage*, 55'ten büyük olanları *old* sınıflarına ayıralım."
   ]
  },
  {
   "cell_type": "code",
   "execution_count": 19,
   "metadata": {},
   "outputs": [],
   "source": [
    "df.loc[(df[\"AGE\"] < 35), \"NEW_AGE_CAT\"] = 'young'\n",
    "df.loc[(df[\"AGE\"] >= 35) & (df[\"AGE\"] <= 55), \"NEW_AGE_CAT\"] = 'middleage'\n",
    "df.loc[(df[\"AGE\"] > 55), \"NEW_AGE_CAT\"] = 'old'"
   ]
  },
  {
   "cell_type": "markdown",
   "metadata": {},
   "source": [
    "**BMI**\n",
    "\n",
    "BMI değeri 0-18.5 olanları *underweight*, 18.5-24.9 olanları *healty*, 24.9-29.9 olanları *overweight*, 29.9-100 olanları *obese* sınıfına ayıralım."
   ]
  },
  {
   "cell_type": "code",
   "execution_count": 20,
   "metadata": {},
   "outputs": [],
   "source": [
    "df[\"NEW_BMI_RANGE\"] = pd.cut(x=df[\"BMI\"], bins=[-1, 18.5, 24.9, 29.9, 100], labels=[\"underweight\", \"healty\", \"overweight\", \"obese\"])"
   ]
  },
  {
   "cell_type": "markdown",
   "metadata": {},
   "source": [
    "**Blood Pressure**\n",
    "\n",
    "Kan basıncı değeri 0-79 olanları *normal*, 79-89 olanları *hs1*, 89-123 olanları *hs2* sınıflarına ayıralım."
   ]
  },
  {
   "cell_type": "code",
   "execution_count": 21,
   "metadata": {},
   "outputs": [],
   "source": [
    "df[\"NEW_BLOODPRESSURE\"] = pd.cut(x=df[\"BLOODPRESSURE\"], bins=[-1, 79, 89, 123], labels=[\"normal\", \"hs1\", \"hs2\"])"
   ]
  },
  {
   "cell_type": "markdown",
   "metadata": {},
   "source": [
    "### Yeni Değişkenlerin Analizi"
   ]
  },
  {
   "cell_type": "code",
   "execution_count": 22,
   "metadata": {},
   "outputs": [
    {
     "name": "stdout",
     "output_type": "stream",
     "text": [
      "##################### Shape #####################\n",
      "(768, 13)\n",
      "##################### Types #####################\n",
      "PREGNANCIES                    int64\n",
      "GLUCOSE                        int64\n",
      "BLOODPRESSURE                  int64\n",
      "SKINTHICKNESS                  int64\n",
      "INSULIN                        int64\n",
      "BMI                          float64\n",
      "DIABETESPEDIGREEFUNCTION     float64\n",
      "AGE                            int64\n",
      "OUTCOME                        int64\n",
      "NEW_GLUCOSE_CAT             category\n",
      "NEW_AGE_CAT                   object\n",
      "NEW_BMI_RANGE               category\n",
      "NEW_BLOODPRESSURE           category\n",
      "dtype: object\n",
      "##################### Info #####################\n",
      "<class 'pandas.core.frame.DataFrame'>\n",
      "RangeIndex: 768 entries, 0 to 767\n",
      "Data columns (total 13 columns):\n",
      " #   Column                    Non-Null Count  Dtype   \n",
      "---  ------                    --------------  -----   \n",
      " 0   PREGNANCIES               768 non-null    int64   \n",
      " 1   GLUCOSE                   768 non-null    int64   \n",
      " 2   BLOODPRESSURE             768 non-null    int64   \n",
      " 3   SKINTHICKNESS             768 non-null    int64   \n",
      " 4   INSULIN                   768 non-null    int64   \n",
      " 5   BMI                       768 non-null    float64 \n",
      " 6   DIABETESPEDIGREEFUNCTION  768 non-null    float64 \n",
      " 7   AGE                       768 non-null    int64   \n",
      " 8   OUTCOME                   768 non-null    int64   \n",
      " 9   NEW_GLUCOSE_CAT           768 non-null    category\n",
      " 10  NEW_AGE_CAT               768 non-null    object  \n",
      " 11  NEW_BMI_RANGE             768 non-null    category\n",
      " 12  NEW_BLOODPRESSURE         768 non-null    category\n",
      "dtypes: category(3), float64(2), int64(7), object(1)\n",
      "memory usage: 62.8+ KB\n",
      "None\n",
      "##################### Head #####################\n",
      "   PREGNANCIES  GLUCOSE  BLOODPRESSURE  SKINTHICKNESS  INSULIN   BMI  \\\n",
      "0            6      148             72             35        0  33.6   \n",
      "1            1       85             66             29        0  26.6   \n",
      "2            8      183             64              0        0  23.3   \n",
      "3            1       89             66             23       94  28.1   \n",
      "4            0      137             40             35      168  43.1   \n",
      "\n",
      "   DIABETESPEDIGREEFUNCTION  AGE  OUTCOME NEW_GLUCOSE_CAT NEW_AGE_CAT  \\\n",
      "0                     0.627   50        1     prediabetes   middleage   \n",
      "1                     0.351   31        0          normal       young   \n",
      "2                     0.672   32        1     prediabetes       young   \n",
      "3                     0.167   21        0          normal       young   \n",
      "4                     2.288   33        1          normal       young   \n",
      "\n",
      "  NEW_BMI_RANGE NEW_BLOODPRESSURE  \n",
      "0         obese            normal  \n",
      "1    overweight            normal  \n",
      "2        healty            normal  \n",
      "3    overweight            normal  \n",
      "4         obese            normal  \n",
      "##################### Tail #####################\n",
      "     PREGNANCIES  GLUCOSE  BLOODPRESSURE  SKINTHICKNESS  INSULIN   BMI  \\\n",
      "763           10      101             76             48      180  32.9   \n",
      "764            2      122             70             27        0  36.8   \n",
      "765            5      121             72             23      112  26.2   \n",
      "766            1      126             60              0        0  30.1   \n",
      "767            1       93             70             31        0  30.4   \n",
      "\n",
      "     DIABETESPEDIGREEFUNCTION  AGE  OUTCOME NEW_GLUCOSE_CAT NEW_AGE_CAT  \\\n",
      "763                     0.171   63        0          normal         old   \n",
      "764                     0.340   27        0          normal       young   \n",
      "765                     0.245   30        0          normal       young   \n",
      "766                     0.349   47        1          normal   middleage   \n",
      "767                     0.315   23        0          normal       young   \n",
      "\n",
      "    NEW_BMI_RANGE NEW_BLOODPRESSURE  \n",
      "763         obese            normal  \n",
      "764         obese            normal  \n",
      "765    overweight            normal  \n",
      "766         obese            normal  \n",
      "767         obese            normal  \n",
      "##################### Null Values #####################\n",
      "PREGNANCIES                 0\n",
      "GLUCOSE                     0\n",
      "BLOODPRESSURE               0\n",
      "SKINTHICKNESS               0\n",
      "INSULIN                     0\n",
      "BMI                         0\n",
      "DIABETESPEDIGREEFUNCTION    0\n",
      "AGE                         0\n",
      "OUTCOME                     0\n",
      "NEW_GLUCOSE_CAT             0\n",
      "NEW_AGE_CAT                 0\n",
      "NEW_BMI_RANGE               0\n",
      "NEW_BLOODPRESSURE           0\n",
      "dtype: int64\n",
      "##################### Quantiles #####################\n",
      "                            0.00      0.05      0.50       0.95       0.99  \\\n",
      "PREGNANCIES                0.000   0.00000    3.0000   10.00000   13.00000   \n",
      "GLUCOSE                    0.000  79.00000  117.0000  181.00000  196.00000   \n",
      "BLOODPRESSURE              0.000  38.70000   72.0000   90.00000  106.00000   \n",
      "SKINTHICKNESS              0.000   0.00000   23.0000   44.00000   51.33000   \n",
      "INSULIN                    0.000   0.00000   30.5000  293.00000  519.90000   \n",
      "BMI                        0.000  21.80000   32.0000   44.39500   50.75900   \n",
      "DIABETESPEDIGREEFUNCTION   0.078   0.14035    0.3725    1.13285    1.69833   \n",
      "AGE                       21.000  21.00000   29.0000   58.00000   67.00000   \n",
      "OUTCOME                    0.000   0.00000    0.0000    1.00000    1.00000   \n",
      "\n",
      "                            1.00  \n",
      "PREGNANCIES                17.00  \n",
      "GLUCOSE                   199.00  \n",
      "BLOODPRESSURE             122.00  \n",
      "SKINTHICKNESS              99.00  \n",
      "INSULIN                   846.00  \n",
      "BMI                        67.10  \n",
      "DIABETESPEDIGREEFUNCTION    2.42  \n",
      "AGE                        81.00  \n",
      "OUTCOME                     1.00  \n"
     ]
    }
   ],
   "source": [
    "check_df(df)"
   ]
  },
  {
   "cell_type": "markdown",
   "metadata": {},
   "source": [
    "Ara ara kod akışı ortasında df'imizde herhangi bir problemin olup olmadığını gözlemlemek amacıyla *check_df* fonksiyonumuzu kullanabiliriz."
   ]
  },
  {
   "cell_type": "markdown",
   "metadata": {},
   "source": [
    "Artık yeni değişkenlerimiz olduğundan dolayı değişkenlerimizi türlerine göre ayırma işlemini tekrar yapmamız gerekiyor."
   ]
  },
  {
   "cell_type": "code",
   "execution_count": 23,
   "metadata": {},
   "outputs": [
    {
     "name": "stdout",
     "output_type": "stream",
     "text": [
      "Observations: 768\n",
      "Variables: 13\n",
      "cat_cols: 5\n",
      "num_cols: 8\n",
      "cat_but_car: 0\n",
      "num_but_cat: 1\n"
     ]
    }
   ],
   "source": [
    "cat_cols, num_cols, cat_but_car = grab_col_names(df, cat_th=5, car_th=20)"
   ]
  },
  {
   "cell_type": "code",
   "execution_count": 24,
   "metadata": {},
   "outputs": [
    {
     "data": {
      "text/plain": [
       "['NEW_GLUCOSE_CAT',\n",
       " 'NEW_AGE_CAT',\n",
       " 'NEW_BMI_RANGE',\n",
       " 'NEW_BLOODPRESSURE',\n",
       " 'OUTCOME']"
      ]
     },
     "execution_count": 24,
     "metadata": {},
     "output_type": "execute_result"
    }
   ],
   "source": [
    "cat_cols"
   ]
  },
  {
   "cell_type": "code",
   "execution_count": 25,
   "metadata": {},
   "outputs": [
    {
     "name": "stdout",
     "output_type": "stream",
     "text": [
      "             NEW_GLUCOSE_CAT      Ratio\n",
      "normal                   571  74.348958\n",
      "prediabetes              197  25.651042\n",
      "#######################\n",
      "           NEW_AGE_CAT      Ratio\n",
      "young              488  63.541667\n",
      "middleage          230  29.947917\n",
      "old                 50   6.510417\n",
      "#######################\n",
      "             NEW_BMI_RANGE      Ratio\n",
      "obese                  472  61.458333\n",
      "overweight             179  23.307292\n",
      "healty                 102  13.281250\n",
      "underweight             15   1.953125\n",
      "#######################\n",
      "        NEW_BLOODPRESSURE      Ratio\n",
      "normal                563  73.307292\n",
      "hs1                   145  18.880208\n",
      "hs2                    60   7.812500\n",
      "#######################\n",
      "   OUTCOME      Ratio\n",
      "0      500  65.104167\n",
      "1      268  34.895833\n",
      "#######################\n"
     ]
    }
   ],
   "source": [
    "for col in cat_cols:\n",
    "    cat_summary(df, col)"
   ]
  },
  {
   "cell_type": "markdown",
   "metadata": {},
   "source": [
    "Acaba bağımlı değişken ile yeni oluşturduğumuz kategorik değişlenlerin ilişkisi ne şekilde?"
   ]
  },
  {
   "cell_type": "code",
   "execution_count": 26,
   "metadata": {},
   "outputs": [
    {
     "name": "stdout",
     "output_type": "stream",
     "text": [
      "                 TARGET_MEAN\n",
      "NEW_GLUCOSE_CAT             \n",
      "normal              0.232925\n",
      "prediabetes         0.685279\n",
      "             TARGET_MEAN\n",
      "NEW_AGE_CAT             \n",
      "middleage       0.543478\n",
      "old             0.340000\n",
      "young           0.258197\n",
      "               TARGET_MEAN\n",
      "NEW_BMI_RANGE             \n",
      "underweight       0.133333\n",
      "healty            0.068627\n",
      "overweight        0.223464\n",
      "obese             0.463983\n",
      "                   TARGET_MEAN\n",
      "NEW_BLOODPRESSURE             \n",
      "normal                0.316163\n",
      "hs1                   0.420690\n",
      "hs2                   0.483333\n",
      "         TARGET_MEAN\n",
      "OUTCOME             \n",
      "0                0.0\n",
      "1                1.0\n"
     ]
    }
   ],
   "source": [
    "for col in cat_cols:\n",
    "    target_summary_wCat(df, \"OUTCOME\", col)"
   ]
  },
  {
   "cell_type": "markdown",
   "metadata": {},
   "source": [
    "cat_cols listesi içerisinde bağımlı değişkenimizde bulunmakta. Bağımlı değişkenimizi bu listeden çıkarabiliriz."
   ]
  },
  {
   "cell_type": "code",
   "execution_count": 27,
   "metadata": {},
   "outputs": [],
   "source": [
    "cat_cols = [col for col in cat_cols if col != \"OUTCOME\"]"
   ]
  },
  {
   "cell_type": "code",
   "execution_count": 28,
   "metadata": {},
   "outputs": [
    {
     "data": {
      "text/plain": [
       "['NEW_GLUCOSE_CAT', 'NEW_AGE_CAT', 'NEW_BMI_RANGE', 'NEW_BLOODPRESSURE']"
      ]
     },
     "execution_count": 28,
     "metadata": {},
     "output_type": "execute_result"
    }
   ],
   "source": [
    "cat_cols"
   ]
  },
  {
   "cell_type": "markdown",
   "metadata": {},
   "source": [
    "### Encode İşlemi"
   ]
  },
  {
   "cell_type": "code",
   "execution_count": 29,
   "metadata": {},
   "outputs": [],
   "source": [
    "df = one_hot_encoder(df, cat_cols)"
   ]
  },
  {
   "cell_type": "code",
   "execution_count": 30,
   "metadata": {},
   "outputs": [
    {
     "name": "stdout",
     "output_type": "stream",
     "text": [
      "##################### Shape #####################\n",
      "(768, 17)\n",
      "##################### Types #####################\n",
      "PREGNANCIES                      int64\n",
      "GLUCOSE                          int64\n",
      "BLOODPRESSURE                    int64\n",
      "SKINTHICKNESS                    int64\n",
      "INSULIN                          int64\n",
      "BMI                            float64\n",
      "DIABETESPEDIGREEFUNCTION       float64\n",
      "AGE                              int64\n",
      "OUTCOME                          int64\n",
      "NEW_GLUCOSE_CAT_prediabetes      uint8\n",
      "NEW_AGE_CAT_old                  uint8\n",
      "NEW_AGE_CAT_young                uint8\n",
      "NEW_BMI_RANGE_healty             uint8\n",
      "NEW_BMI_RANGE_overweight         uint8\n",
      "NEW_BMI_RANGE_obese              uint8\n",
      "NEW_BLOODPRESSURE_hs1            uint8\n",
      "NEW_BLOODPRESSURE_hs2            uint8\n",
      "dtype: object\n",
      "##################### Info #####################\n",
      "<class 'pandas.core.frame.DataFrame'>\n",
      "RangeIndex: 768 entries, 0 to 767\n",
      "Data columns (total 17 columns):\n",
      " #   Column                       Non-Null Count  Dtype  \n",
      "---  ------                       --------------  -----  \n",
      " 0   PREGNANCIES                  768 non-null    int64  \n",
      " 1   GLUCOSE                      768 non-null    int64  \n",
      " 2   BLOODPRESSURE                768 non-null    int64  \n",
      " 3   SKINTHICKNESS                768 non-null    int64  \n",
      " 4   INSULIN                      768 non-null    int64  \n",
      " 5   BMI                          768 non-null    float64\n",
      " 6   DIABETESPEDIGREEFUNCTION     768 non-null    float64\n",
      " 7   AGE                          768 non-null    int64  \n",
      " 8   OUTCOME                      768 non-null    int64  \n",
      " 9   NEW_GLUCOSE_CAT_prediabetes  768 non-null    uint8  \n",
      " 10  NEW_AGE_CAT_old              768 non-null    uint8  \n",
      " 11  NEW_AGE_CAT_young            768 non-null    uint8  \n",
      " 12  NEW_BMI_RANGE_healty         768 non-null    uint8  \n",
      " 13  NEW_BMI_RANGE_overweight     768 non-null    uint8  \n",
      " 14  NEW_BMI_RANGE_obese          768 non-null    uint8  \n",
      " 15  NEW_BLOODPRESSURE_hs1        768 non-null    uint8  \n",
      " 16  NEW_BLOODPRESSURE_hs2        768 non-null    uint8  \n",
      "dtypes: float64(2), int64(7), uint8(8)\n",
      "memory usage: 60.1 KB\n",
      "None\n",
      "##################### Head #####################\n",
      "   PREGNANCIES  GLUCOSE  BLOODPRESSURE  SKINTHICKNESS  INSULIN   BMI  \\\n",
      "0            6      148             72             35        0  33.6   \n",
      "1            1       85             66             29        0  26.6   \n",
      "2            8      183             64              0        0  23.3   \n",
      "3            1       89             66             23       94  28.1   \n",
      "4            0      137             40             35      168  43.1   \n",
      "\n",
      "   DIABETESPEDIGREEFUNCTION  AGE  OUTCOME  NEW_GLUCOSE_CAT_prediabetes  \\\n",
      "0                     0.627   50        1                            1   \n",
      "1                     0.351   31        0                            0   \n",
      "2                     0.672   32        1                            1   \n",
      "3                     0.167   21        0                            0   \n",
      "4                     2.288   33        1                            0   \n",
      "\n",
      "   NEW_AGE_CAT_old  NEW_AGE_CAT_young  NEW_BMI_RANGE_healty  \\\n",
      "0                0                  0                     0   \n",
      "1                0                  1                     0   \n",
      "2                0                  1                     1   \n",
      "3                0                  1                     0   \n",
      "4                0                  1                     0   \n",
      "\n",
      "   NEW_BMI_RANGE_overweight  NEW_BMI_RANGE_obese  NEW_BLOODPRESSURE_hs1  \\\n",
      "0                         0                    1                      0   \n",
      "1                         1                    0                      0   \n",
      "2                         0                    0                      0   \n",
      "3                         1                    0                      0   \n",
      "4                         0                    1                      0   \n",
      "\n",
      "   NEW_BLOODPRESSURE_hs2  \n",
      "0                      0  \n",
      "1                      0  \n",
      "2                      0  \n",
      "3                      0  \n",
      "4                      0  \n",
      "##################### Tail #####################\n",
      "     PREGNANCIES  GLUCOSE  BLOODPRESSURE  SKINTHICKNESS  INSULIN   BMI  \\\n",
      "763           10      101             76             48      180  32.9   \n",
      "764            2      122             70             27        0  36.8   \n",
      "765            5      121             72             23      112  26.2   \n",
      "766            1      126             60              0        0  30.1   \n",
      "767            1       93             70             31        0  30.4   \n",
      "\n",
      "     DIABETESPEDIGREEFUNCTION  AGE  OUTCOME  NEW_GLUCOSE_CAT_prediabetes  \\\n",
      "763                     0.171   63        0                            0   \n",
      "764                     0.340   27        0                            0   \n",
      "765                     0.245   30        0                            0   \n",
      "766                     0.349   47        1                            0   \n",
      "767                     0.315   23        0                            0   \n",
      "\n",
      "     NEW_AGE_CAT_old  NEW_AGE_CAT_young  NEW_BMI_RANGE_healty  \\\n",
      "763                1                  0                     0   \n",
      "764                0                  1                     0   \n",
      "765                0                  1                     0   \n",
      "766                0                  0                     0   \n",
      "767                0                  1                     0   \n",
      "\n",
      "     NEW_BMI_RANGE_overweight  NEW_BMI_RANGE_obese  NEW_BLOODPRESSURE_hs1  \\\n",
      "763                         0                    1                      0   \n",
      "764                         0                    1                      0   \n",
      "765                         1                    0                      0   \n",
      "766                         0                    1                      0   \n",
      "767                         0                    1                      0   \n",
      "\n",
      "     NEW_BLOODPRESSURE_hs2  \n",
      "763                      0  \n",
      "764                      0  \n",
      "765                      0  \n",
      "766                      0  \n",
      "767                      0  \n",
      "##################### Null Values #####################\n",
      "PREGNANCIES                    0\n",
      "GLUCOSE                        0\n",
      "BLOODPRESSURE                  0\n",
      "SKINTHICKNESS                  0\n",
      "INSULIN                        0\n",
      "BMI                            0\n",
      "DIABETESPEDIGREEFUNCTION       0\n",
      "AGE                            0\n",
      "OUTCOME                        0\n",
      "NEW_GLUCOSE_CAT_prediabetes    0\n",
      "NEW_AGE_CAT_old                0\n",
      "NEW_AGE_CAT_young              0\n",
      "NEW_BMI_RANGE_healty           0\n",
      "NEW_BMI_RANGE_overweight       0\n",
      "NEW_BMI_RANGE_obese            0\n",
      "NEW_BLOODPRESSURE_hs1          0\n",
      "NEW_BLOODPRESSURE_hs2          0\n",
      "dtype: int64\n",
      "##################### Quantiles #####################\n",
      "                               0.00      0.05      0.50       0.95       0.99  \\\n",
      "PREGNANCIES                   0.000   0.00000    3.0000   10.00000   13.00000   \n",
      "GLUCOSE                       0.000  79.00000  117.0000  181.00000  196.00000   \n",
      "BLOODPRESSURE                 0.000  38.70000   72.0000   90.00000  106.00000   \n",
      "SKINTHICKNESS                 0.000   0.00000   23.0000   44.00000   51.33000   \n",
      "INSULIN                       0.000   0.00000   30.5000  293.00000  519.90000   \n",
      "BMI                           0.000  21.80000   32.0000   44.39500   50.75900   \n",
      "DIABETESPEDIGREEFUNCTION      0.078   0.14035    0.3725    1.13285    1.69833   \n",
      "AGE                          21.000  21.00000   29.0000   58.00000   67.00000   \n",
      "OUTCOME                       0.000   0.00000    0.0000    1.00000    1.00000   \n",
      "NEW_GLUCOSE_CAT_prediabetes   0.000   0.00000    0.0000    1.00000    1.00000   \n",
      "NEW_AGE_CAT_old               0.000   0.00000    0.0000    1.00000    1.00000   \n",
      "NEW_AGE_CAT_young             0.000   0.00000    1.0000    1.00000    1.00000   \n",
      "NEW_BMI_RANGE_healty          0.000   0.00000    0.0000    1.00000    1.00000   \n",
      "NEW_BMI_RANGE_overweight      0.000   0.00000    0.0000    1.00000    1.00000   \n",
      "NEW_BMI_RANGE_obese           0.000   0.00000    1.0000    1.00000    1.00000   \n",
      "NEW_BLOODPRESSURE_hs1         0.000   0.00000    0.0000    1.00000    1.00000   \n",
      "NEW_BLOODPRESSURE_hs2         0.000   0.00000    0.0000    1.00000    1.00000   \n",
      "\n",
      "                               1.00  \n",
      "PREGNANCIES                   17.00  \n",
      "GLUCOSE                      199.00  \n",
      "BLOODPRESSURE                122.00  \n",
      "SKINTHICKNESS                 99.00  \n",
      "INSULIN                      846.00  \n",
      "BMI                           67.10  \n",
      "DIABETESPEDIGREEFUNCTION       2.42  \n",
      "AGE                           81.00  \n",
      "OUTCOME                        1.00  \n",
      "NEW_GLUCOSE_CAT_prediabetes    1.00  \n",
      "NEW_AGE_CAT_old                1.00  \n",
      "NEW_AGE_CAT_young              1.00  \n",
      "NEW_BMI_RANGE_healty           1.00  \n",
      "NEW_BMI_RANGE_overweight       1.00  \n",
      "NEW_BMI_RANGE_obese            1.00  \n",
      "NEW_BLOODPRESSURE_hs1          1.00  \n",
      "NEW_BLOODPRESSURE_hs2          1.00  \n"
     ]
    }
   ],
   "source": [
    "check_df(df)"
   ]
  },
  {
   "cell_type": "markdown",
   "metadata": {},
   "source": [
    "Kategorik değişkenleri encode ettik. Burada tekrar değişken isimlerini büyütmeyi tercih edebiliriz."
   ]
  },
  {
   "cell_type": "code",
   "execution_count": 31,
   "metadata": {},
   "outputs": [],
   "source": [
    "df.columns = [col.upper() for col in df.columns]"
   ]
  },
  {
   "cell_type": "code",
   "execution_count": 32,
   "metadata": {},
   "outputs": [
    {
     "data": {
      "text/html": [
       "<div>\n",
       "<style scoped>\n",
       "    .dataframe tbody tr th:only-of-type {\n",
       "        vertical-align: middle;\n",
       "    }\n",
       "\n",
       "    .dataframe tbody tr th {\n",
       "        vertical-align: top;\n",
       "    }\n",
       "\n",
       "    .dataframe thead th {\n",
       "        text-align: right;\n",
       "    }\n",
       "</style>\n",
       "<table border=\"1\" class=\"dataframe\">\n",
       "  <thead>\n",
       "    <tr style=\"text-align: right;\">\n",
       "      <th></th>\n",
       "      <th>PREGNANCIES</th>\n",
       "      <th>GLUCOSE</th>\n",
       "      <th>BLOODPRESSURE</th>\n",
       "      <th>SKINTHICKNESS</th>\n",
       "      <th>INSULIN</th>\n",
       "      <th>BMI</th>\n",
       "      <th>DIABETESPEDIGREEFUNCTION</th>\n",
       "      <th>AGE</th>\n",
       "      <th>OUTCOME</th>\n",
       "      <th>NEW_GLUCOSE_CAT_PREDIABETES</th>\n",
       "      <th>NEW_AGE_CAT_OLD</th>\n",
       "      <th>NEW_AGE_CAT_YOUNG</th>\n",
       "      <th>NEW_BMI_RANGE_HEALTY</th>\n",
       "      <th>NEW_BMI_RANGE_OVERWEIGHT</th>\n",
       "      <th>NEW_BMI_RANGE_OBESE</th>\n",
       "      <th>NEW_BLOODPRESSURE_HS1</th>\n",
       "      <th>NEW_BLOODPRESSURE_HS2</th>\n",
       "    </tr>\n",
       "  </thead>\n",
       "  <tbody>\n",
       "    <tr>\n",
       "      <th>0</th>\n",
       "      <td>6</td>\n",
       "      <td>148</td>\n",
       "      <td>72</td>\n",
       "      <td>35</td>\n",
       "      <td>0</td>\n",
       "      <td>33.6</td>\n",
       "      <td>0.627</td>\n",
       "      <td>50</td>\n",
       "      <td>1</td>\n",
       "      <td>1</td>\n",
       "      <td>0</td>\n",
       "      <td>0</td>\n",
       "      <td>0</td>\n",
       "      <td>0</td>\n",
       "      <td>1</td>\n",
       "      <td>0</td>\n",
       "      <td>0</td>\n",
       "    </tr>\n",
       "    <tr>\n",
       "      <th>1</th>\n",
       "      <td>1</td>\n",
       "      <td>85</td>\n",
       "      <td>66</td>\n",
       "      <td>29</td>\n",
       "      <td>0</td>\n",
       "      <td>26.6</td>\n",
       "      <td>0.351</td>\n",
       "      <td>31</td>\n",
       "      <td>0</td>\n",
       "      <td>0</td>\n",
       "      <td>0</td>\n",
       "      <td>1</td>\n",
       "      <td>0</td>\n",
       "      <td>1</td>\n",
       "      <td>0</td>\n",
       "      <td>0</td>\n",
       "      <td>0</td>\n",
       "    </tr>\n",
       "    <tr>\n",
       "      <th>2</th>\n",
       "      <td>8</td>\n",
       "      <td>183</td>\n",
       "      <td>64</td>\n",
       "      <td>0</td>\n",
       "      <td>0</td>\n",
       "      <td>23.3</td>\n",
       "      <td>0.672</td>\n",
       "      <td>32</td>\n",
       "      <td>1</td>\n",
       "      <td>1</td>\n",
       "      <td>0</td>\n",
       "      <td>1</td>\n",
       "      <td>1</td>\n",
       "      <td>0</td>\n",
       "      <td>0</td>\n",
       "      <td>0</td>\n",
       "      <td>0</td>\n",
       "    </tr>\n",
       "    <tr>\n",
       "      <th>3</th>\n",
       "      <td>1</td>\n",
       "      <td>89</td>\n",
       "      <td>66</td>\n",
       "      <td>23</td>\n",
       "      <td>94</td>\n",
       "      <td>28.1</td>\n",
       "      <td>0.167</td>\n",
       "      <td>21</td>\n",
       "      <td>0</td>\n",
       "      <td>0</td>\n",
       "      <td>0</td>\n",
       "      <td>1</td>\n",
       "      <td>0</td>\n",
       "      <td>1</td>\n",
       "      <td>0</td>\n",
       "      <td>0</td>\n",
       "      <td>0</td>\n",
       "    </tr>\n",
       "    <tr>\n",
       "      <th>4</th>\n",
       "      <td>0</td>\n",
       "      <td>137</td>\n",
       "      <td>40</td>\n",
       "      <td>35</td>\n",
       "      <td>168</td>\n",
       "      <td>43.1</td>\n",
       "      <td>2.288</td>\n",
       "      <td>33</td>\n",
       "      <td>1</td>\n",
       "      <td>0</td>\n",
       "      <td>0</td>\n",
       "      <td>1</td>\n",
       "      <td>0</td>\n",
       "      <td>0</td>\n",
       "      <td>1</td>\n",
       "      <td>0</td>\n",
       "      <td>0</td>\n",
       "    </tr>\n",
       "  </tbody>\n",
       "</table>\n",
       "</div>"
      ],
      "text/plain": [
       "   PREGNANCIES  GLUCOSE  BLOODPRESSURE  SKINTHICKNESS  INSULIN   BMI  \\\n",
       "0            6      148             72             35        0  33.6   \n",
       "1            1       85             66             29        0  26.6   \n",
       "2            8      183             64              0        0  23.3   \n",
       "3            1       89             66             23       94  28.1   \n",
       "4            0      137             40             35      168  43.1   \n",
       "\n",
       "   DIABETESPEDIGREEFUNCTION  AGE  OUTCOME  NEW_GLUCOSE_CAT_PREDIABETES  \\\n",
       "0                     0.627   50        1                            1   \n",
       "1                     0.351   31        0                            0   \n",
       "2                     0.672   32        1                            1   \n",
       "3                     0.167   21        0                            0   \n",
       "4                     2.288   33        1                            0   \n",
       "\n",
       "   NEW_AGE_CAT_OLD  NEW_AGE_CAT_YOUNG  NEW_BMI_RANGE_HEALTY  \\\n",
       "0                0                  0                     0   \n",
       "1                0                  1                     0   \n",
       "2                0                  1                     1   \n",
       "3                0                  1                     0   \n",
       "4                0                  1                     0   \n",
       "\n",
       "   NEW_BMI_RANGE_OVERWEIGHT  NEW_BMI_RANGE_OBESE  NEW_BLOODPRESSURE_HS1  \\\n",
       "0                         0                    1                      0   \n",
       "1                         1                    0                      0   \n",
       "2                         0                    0                      0   \n",
       "3                         1                    0                      0   \n",
       "4                         0                    1                      0   \n",
       "\n",
       "   NEW_BLOODPRESSURE_HS2  \n",
       "0                      0  \n",
       "1                      0  \n",
       "2                      0  \n",
       "3                      0  \n",
       "4                      0  "
      ]
     },
     "execution_count": 32,
     "metadata": {},
     "output_type": "execute_result"
    }
   ],
   "source": [
    "df.head()"
   ]
  },
  {
   "cell_type": "markdown",
   "metadata": {},
   "source": [
    "### Son Güncel Değişken Türlerinin Ayrıştırılması"
   ]
  },
  {
   "cell_type": "code",
   "execution_count": 33,
   "metadata": {},
   "outputs": [
    {
     "name": "stdout",
     "output_type": "stream",
     "text": [
      "Observations: 768\n",
      "Variables: 17\n",
      "cat_cols: 9\n",
      "num_cols: 8\n",
      "cat_but_car: 0\n",
      "num_but_cat: 1\n"
     ]
    }
   ],
   "source": [
    "cat_cols, num_cols, cat_but_car = grab_col_names(df, cat_th=5, car_th=20)"
   ]
  },
  {
   "cell_type": "code",
   "execution_count": 34,
   "metadata": {},
   "outputs": [
    {
     "data": {
      "text/plain": [
       "['NEW_GLUCOSE_CAT_PREDIABETES',\n",
       " 'NEW_AGE_CAT_OLD',\n",
       " 'NEW_AGE_CAT_YOUNG',\n",
       " 'NEW_BMI_RANGE_HEALTY',\n",
       " 'NEW_BMI_RANGE_OVERWEIGHT',\n",
       " 'NEW_BMI_RANGE_OBESE',\n",
       " 'NEW_BLOODPRESSURE_HS1',\n",
       " 'NEW_BLOODPRESSURE_HS2',\n",
       " 'OUTCOME']"
      ]
     },
     "execution_count": 34,
     "metadata": {},
     "output_type": "execute_result"
    }
   ],
   "source": [
    "cat_cols"
   ]
  },
  {
   "cell_type": "markdown",
   "metadata": {},
   "source": [
    "Bağımlı değişkenimizi tekrar cat_cols içerisinden çıkaralım."
   ]
  },
  {
   "cell_type": "code",
   "execution_count": 35,
   "metadata": {},
   "outputs": [],
   "source": [
    "cat_cols = [col for col in cat_cols if col != \"OUTCOME\"]"
   ]
  },
  {
   "cell_type": "code",
   "execution_count": 36,
   "metadata": {},
   "outputs": [
    {
     "data": {
      "text/plain": [
       "['NEW_GLUCOSE_CAT_PREDIABETES',\n",
       " 'NEW_AGE_CAT_OLD',\n",
       " 'NEW_AGE_CAT_YOUNG',\n",
       " 'NEW_BMI_RANGE_HEALTY',\n",
       " 'NEW_BMI_RANGE_OVERWEIGHT',\n",
       " 'NEW_BMI_RANGE_OBESE',\n",
       " 'NEW_BLOODPRESSURE_HS1',\n",
       " 'NEW_BLOODPRESSURE_HS2']"
      ]
     },
     "execution_count": 36,
     "metadata": {},
     "output_type": "execute_result"
    }
   ],
   "source": [
    "cat_cols"
   ]
  },
  {
   "cell_type": "markdown",
   "metadata": {},
   "source": [
    "### Aykırı Değerler"
   ]
  },
  {
   "cell_type": "code",
   "execution_count": 37,
   "metadata": {},
   "outputs": [
    {
     "name": "stdout",
     "output_type": "stream",
     "text": [
      "PREGNANCIES False\n",
      "GLUCOSE False\n",
      "BLOODPRESSURE False\n",
      "SKINTHICKNESS False\n",
      "INSULIN True\n",
      "BMI False\n",
      "DIABETESPEDIGREEFUNCTION False\n",
      "AGE False\n"
     ]
    }
   ],
   "source": [
    "for col in num_cols:\n",
    "    print(col, check_outlier(df, col, 0.05, 0.95))"
   ]
  },
  {
   "cell_type": "markdown",
   "metadata": {},
   "source": [
    "Sadece insulin değişkeninde outlier değerler var. Bunun için insulin değişkenindeki outlier'ları threshold değerleri ile değiştiren metodu kullanacağız."
   ]
  },
  {
   "cell_type": "code",
   "execution_count": 38,
   "metadata": {},
   "outputs": [],
   "source": [
    "replace_with_thresholds(df, \"INSULIN\")"
   ]
  },
  {
   "cell_type": "markdown",
   "metadata": {},
   "source": [
    "Şimdi tekrar check_outlier yapalım."
   ]
  },
  {
   "cell_type": "code",
   "execution_count": 39,
   "metadata": {},
   "outputs": [
    {
     "name": "stdout",
     "output_type": "stream",
     "text": [
      "PREGNANCIES False\n",
      "GLUCOSE False\n",
      "BLOODPRESSURE False\n",
      "SKINTHICKNESS False\n",
      "INSULIN False\n",
      "BMI False\n",
      "DIABETESPEDIGREEFUNCTION False\n",
      "AGE False\n"
     ]
    }
   ],
   "source": [
    "for col in num_cols:\n",
    "    print(col, check_outlier(df, col, 0.05, 0.95))"
   ]
  },
  {
   "cell_type": "markdown",
   "metadata": {},
   "source": [
    "### Standartlaştırma"
   ]
  },
  {
   "cell_type": "code",
   "execution_count": 40,
   "metadata": {},
   "outputs": [],
   "source": [
    "X_scaled = StandardScaler().fit_transform(df[num_cols])"
   ]
  },
  {
   "cell_type": "markdown",
   "metadata": {},
   "source": [
    "X_scaled bizim nümerik değişkenlerimiz standartlaştırılmış halleri. Dolayısıyla şimdi standartlaşmış verileri tekrar df haline çevirmemiz gerekli."
   ]
  },
  {
   "cell_type": "code",
   "execution_count": 41,
   "metadata": {},
   "outputs": [],
   "source": [
    "df[num_cols] = pd.DataFrame(X_scaled, columns=df[num_cols].columns)"
   ]
  },
  {
   "cell_type": "markdown",
   "metadata": {},
   "source": [
    "Şimdi bağımlı ve bağımsız değişkenleri ayırmamız gerekiyor."
   ]
  },
  {
   "cell_type": "code",
   "execution_count": 42,
   "metadata": {},
   "outputs": [],
   "source": [
    "y = df[\"OUTCOME\"]\n",
    "X = df.drop([\"OUTCOME\"], axis=1)"
   ]
  },
  {
   "cell_type": "code",
   "execution_count": 43,
   "metadata": {},
   "outputs": [
    {
     "name": "stdout",
     "output_type": "stream",
     "text": [
      "##################### Shape #####################\n",
      "(768, 16)\n",
      "##################### Types #####################\n",
      "PREGNANCIES                    float64\n",
      "GLUCOSE                        float64\n",
      "BLOODPRESSURE                  float64\n",
      "SKINTHICKNESS                  float64\n",
      "INSULIN                        float64\n",
      "BMI                            float64\n",
      "DIABETESPEDIGREEFUNCTION       float64\n",
      "AGE                            float64\n",
      "NEW_GLUCOSE_CAT_PREDIABETES      uint8\n",
      "NEW_AGE_CAT_OLD                  uint8\n",
      "NEW_AGE_CAT_YOUNG                uint8\n",
      "NEW_BMI_RANGE_HEALTY             uint8\n",
      "NEW_BMI_RANGE_OVERWEIGHT         uint8\n",
      "NEW_BMI_RANGE_OBESE              uint8\n",
      "NEW_BLOODPRESSURE_HS1            uint8\n",
      "NEW_BLOODPRESSURE_HS2            uint8\n",
      "dtype: object\n",
      "##################### Info #####################\n",
      "<class 'pandas.core.frame.DataFrame'>\n",
      "RangeIndex: 768 entries, 0 to 767\n",
      "Data columns (total 16 columns):\n",
      " #   Column                       Non-Null Count  Dtype  \n",
      "---  ------                       --------------  -----  \n",
      " 0   PREGNANCIES                  768 non-null    float64\n",
      " 1   GLUCOSE                      768 non-null    float64\n",
      " 2   BLOODPRESSURE                768 non-null    float64\n",
      " 3   SKINTHICKNESS                768 non-null    float64\n",
      " 4   INSULIN                      768 non-null    float64\n",
      " 5   BMI                          768 non-null    float64\n",
      " 6   DIABETESPEDIGREEFUNCTION     768 non-null    float64\n",
      " 7   AGE                          768 non-null    float64\n",
      " 8   NEW_GLUCOSE_CAT_PREDIABETES  768 non-null    uint8  \n",
      " 9   NEW_AGE_CAT_OLD              768 non-null    uint8  \n",
      " 10  NEW_AGE_CAT_YOUNG            768 non-null    uint8  \n",
      " 11  NEW_BMI_RANGE_HEALTY         768 non-null    uint8  \n",
      " 12  NEW_BMI_RANGE_OVERWEIGHT     768 non-null    uint8  \n",
      " 13  NEW_BMI_RANGE_OBESE          768 non-null    uint8  \n",
      " 14  NEW_BLOODPRESSURE_HS1        768 non-null    uint8  \n",
      " 15  NEW_BLOODPRESSURE_HS2        768 non-null    uint8  \n",
      "dtypes: float64(8), uint8(8)\n",
      "memory usage: 54.1 KB\n",
      "None\n",
      "##################### Head #####################\n",
      "   PREGNANCIES   GLUCOSE  BLOODPRESSURE  SKINTHICKNESS   INSULIN       BMI  \\\n",
      "0     0.639947  0.848324       0.149641       0.907270 -0.787602  0.204013   \n",
      "1    -0.844885 -1.123396      -0.160546       0.530902 -0.787602 -0.684422   \n",
      "2     1.233880  1.943724      -0.263941      -1.288212 -0.787602 -1.103255   \n",
      "3    -0.844885 -0.998208      -0.160546       0.154533  0.217583 -0.494043   \n",
      "4    -1.141852  0.504055      -1.504687       0.907270  1.008900  1.409746   \n",
      "\n",
      "   DIABETESPEDIGREEFUNCTION       AGE  NEW_GLUCOSE_CAT_PREDIABETES  \\\n",
      "0                  0.468492  1.425995                            1   \n",
      "1                 -0.365061 -0.190672                            0   \n",
      "2                  0.604397 -0.105584                            1   \n",
      "3                 -0.920763 -1.041549                            0   \n",
      "4                  5.484909 -0.020496                            0   \n",
      "\n",
      "   NEW_AGE_CAT_OLD  NEW_AGE_CAT_YOUNG  NEW_BMI_RANGE_HEALTY  \\\n",
      "0                0                  0                     0   \n",
      "1                0                  1                     0   \n",
      "2                0                  1                     1   \n",
      "3                0                  1                     0   \n",
      "4                0                  1                     0   \n",
      "\n",
      "   NEW_BMI_RANGE_OVERWEIGHT  NEW_BMI_RANGE_OBESE  NEW_BLOODPRESSURE_HS1  \\\n",
      "0                         0                    1                      0   \n",
      "1                         1                    0                      0   \n",
      "2                         0                    0                      0   \n",
      "3                         1                    0                      0   \n",
      "4                         0                    1                      0   \n",
      "\n",
      "   NEW_BLOODPRESSURE_HS2  \n",
      "0                      0  \n",
      "1                      0  \n",
      "2                      0  \n",
      "3                      0  \n",
      "4                      0  \n",
      "##################### Tail #####################\n",
      "     PREGNANCIES   GLUCOSE  BLOODPRESSURE  SKINTHICKNESS   INSULIN       BMI  \\\n",
      "763     1.827813 -0.622642       0.356432       1.722735  1.137221  0.115169   \n",
      "764    -0.547919  0.034598       0.046245       0.405445 -0.787602  0.610154   \n",
      "765     0.342981  0.003301       0.149641       0.154533  0.410066 -0.735190   \n",
      "766    -0.844885  0.159787      -0.470732      -1.288212 -0.787602 -0.240205   \n",
      "767    -0.844885 -0.873019       0.046245       0.656358 -0.787602 -0.202129   \n",
      "\n",
      "     DIABETESPEDIGREEFUNCTION       AGE  NEW_GLUCOSE_CAT_PREDIABETES  \\\n",
      "763                 -0.908682  2.532136                            0   \n",
      "764                 -0.398282 -0.531023                            0   \n",
      "765                 -0.685193 -0.275760                            0   \n",
      "766                 -0.371101  1.170732                            0   \n",
      "767                 -0.473785 -0.871374                            0   \n",
      "\n",
      "     NEW_AGE_CAT_OLD  NEW_AGE_CAT_YOUNG  NEW_BMI_RANGE_HEALTY  \\\n",
      "763                1                  0                     0   \n",
      "764                0                  1                     0   \n",
      "765                0                  1                     0   \n",
      "766                0                  0                     0   \n",
      "767                0                  1                     0   \n",
      "\n",
      "     NEW_BMI_RANGE_OVERWEIGHT  NEW_BMI_RANGE_OBESE  NEW_BLOODPRESSURE_HS1  \\\n",
      "763                         0                    1                      0   \n",
      "764                         0                    1                      0   \n",
      "765                         1                    0                      0   \n",
      "766                         0                    1                      0   \n",
      "767                         0                    1                      0   \n",
      "\n",
      "     NEW_BLOODPRESSURE_HS2  \n",
      "763                      0  \n",
      "764                      0  \n",
      "765                      0  \n",
      "766                      0  \n",
      "767                      0  \n",
      "##################### Null Values #####################\n",
      "PREGNANCIES                    0\n",
      "GLUCOSE                        0\n",
      "BLOODPRESSURE                  0\n",
      "SKINTHICKNESS                  0\n",
      "INSULIN                        0\n",
      "BMI                            0\n",
      "DIABETESPEDIGREEFUNCTION       0\n",
      "AGE                            0\n",
      "NEW_GLUCOSE_CAT_PREDIABETES    0\n",
      "NEW_AGE_CAT_OLD                0\n",
      "NEW_AGE_CAT_YOUNG              0\n",
      "NEW_BMI_RANGE_HEALTY           0\n",
      "NEW_BMI_RANGE_OVERWEIGHT       0\n",
      "NEW_BMI_RANGE_OBESE            0\n",
      "NEW_BLOODPRESSURE_HS1          0\n",
      "NEW_BLOODPRESSURE_HS2          0\n",
      "dtype: int64\n",
      "##################### Quantiles #####################\n",
      "                                 0.00      0.05      0.50      0.95      0.99  \\\n",
      "PREGNANCIES                 -1.141852 -1.141852 -0.250952  1.827813  2.718712   \n",
      "GLUCOSE                     -3.783654 -1.311179 -0.121888  1.881130  2.350587   \n",
      "BLOODPRESSURE               -3.572597 -1.571894  0.149641  1.080200  1.907364   \n",
      "SKINTHICKNESS               -1.288212 -1.288212  0.154533  1.471822  1.931619   \n",
      "INSULIN                     -0.787602 -0.787602 -0.461451  2.345582  2.614256   \n",
      "BMI                         -4.060474 -1.293634  0.000942  1.574106  2.381820   \n",
      "DIABETESPEDIGREEFUNCTION    -1.189553 -1.001249 -0.300128  1.996219  3.704036   \n",
      "AGE                         -1.041549 -1.041549 -0.360847  2.106697  2.872487   \n",
      "NEW_GLUCOSE_CAT_PREDIABETES  0.000000  0.000000  0.000000  1.000000  1.000000   \n",
      "NEW_AGE_CAT_OLD              0.000000  0.000000  0.000000  1.000000  1.000000   \n",
      "NEW_AGE_CAT_YOUNG            0.000000  0.000000  1.000000  1.000000  1.000000   \n",
      "NEW_BMI_RANGE_HEALTY         0.000000  0.000000  0.000000  1.000000  1.000000   \n",
      "NEW_BMI_RANGE_OVERWEIGHT     0.000000  0.000000  0.000000  1.000000  1.000000   \n",
      "NEW_BMI_RANGE_OBESE          0.000000  0.000000  1.000000  1.000000  1.000000   \n",
      "NEW_BLOODPRESSURE_HS1        0.000000  0.000000  0.000000  1.000000  1.000000   \n",
      "NEW_BLOODPRESSURE_HS2        0.000000  0.000000  0.000000  1.000000  1.000000   \n",
      "\n",
      "                                 1.00  \n",
      "PREGNANCIES                  3.906578  \n",
      "GLUCOSE                      2.444478  \n",
      "BLOODPRESSURE                2.734528  \n",
      "SKINTHICKNESS                4.921866  \n",
      "INSULIN                      2.614256  \n",
      "BMI                          4.455807  \n",
      "DIABETESPEDIGREEFUNCTION     5.883565  \n",
      "AGE                          4.063716  \n",
      "NEW_GLUCOSE_CAT_PREDIABETES  1.000000  \n",
      "NEW_AGE_CAT_OLD              1.000000  \n",
      "NEW_AGE_CAT_YOUNG            1.000000  \n",
      "NEW_BMI_RANGE_HEALTY         1.000000  \n",
      "NEW_BMI_RANGE_OVERWEIGHT     1.000000  \n",
      "NEW_BMI_RANGE_OBESE          1.000000  \n",
      "NEW_BLOODPRESSURE_HS1        1.000000  \n",
      "NEW_BLOODPRESSURE_HS2        1.000000  \n"
     ]
    }
   ],
   "source": [
    "check_df(X)"
   ]
  },
  {
   "cell_type": "markdown",
   "metadata": {},
   "source": [
    "### Fonksiyonlaştırma"
   ]
  },
  {
   "cell_type": "markdown",
   "metadata": {},
   "source": [
    "Şimdi burada bir dizi işlem yaptık. Bu işlemlerim hepsini bir fonksiyon içerisinde de tanımlayabiliriz. Dolayısıyla buradaki bütün işlemleri alıp bir fonksiyonun içerisine yazabiliriz. "
   ]
  },
  {
   "cell_type": "code",
   "execution_count": 44,
   "metadata": {},
   "outputs": [],
   "source": [
    "def diabetes_data_prep(df):\n",
    "    df.columns = [col.upper() for col in df.columns]\n",
    "    \n",
    "    # Glucose\n",
    "    df[\"NEW_GLUCOSE_CAT\"] = pd.cut(x=df['GLUCOSE'], bins=[-1, 139, 200], labels=[\"normal\", \"prediabetes\"])\n",
    "    \n",
    "    # Age\n",
    "    df.loc[(df[\"AGE\"] < 35), \"NEW_AGE_CAT\"] = 'young'\n",
    "    df.loc[(df[\"AGE\"] >= 35) & (df[\"AGE\"] <= 55), \"NEW_AGE_CAT\"] = 'middleage'\n",
    "    df.loc[(df[\"AGE\"] > 55), \"NEW_AGE_CAT\"] = 'old'\n",
    "    \n",
    "    # BMI\n",
    "    df[\"NEW_BMI_RANGE\"] = pd.cut(x=df[\"BMI\"], bins=[-1, 18.5, 24.9, 29.9, 100], labels=[\"underweight\", \"healty\", \"overweight\", \"obese\"])\n",
    "    \n",
    "    # BloodPressure\n",
    "    df[\"NEW_BLOODPRESSURE\"] = pd.cut(x=df[\"BLOODPRESSURE\"], bins=[-1, 79, 89, 123], labels=[\"normal\", \"hs1\", \"hs2\"])\n",
    "    \n",
    "    cat_cols, num_cols, cat_but_car = grab_col_names(df, cat_th=5, car_th=20)\n",
    "    \n",
    "    cat_cols = [col for col in cat_cols if col != \"OUTCOME\"]\n",
    "    \n",
    "    df = one_hot_encoder(df, cat_cols)\n",
    "    \n",
    "    df.columns = [col.upper() for col in df.columns]\n",
    "\n",
    "    cat_cols, num_cols, cat_but_car = grab_col_names(df, cat_th=5, car_th=20)\n",
    "\n",
    "    cat_cols = [col for col in cat_cols if col != \"OUTCOME\"]\n",
    "\n",
    "    replace_with_thresholds(df, \"INSULIN\")\n",
    "    \n",
    "    X_scaled = StandardScaler().fit_transform(df[num_cols])\n",
    "    df[num_cols] = pd.DataFrame(X_scaled, columns=df[num_cols].columns)\n",
    "    \n",
    "    y = df[\"OUTCOME\"]\n",
    "    X = df.drop([\"OUTCOME\"], axis=1)\n",
    "    \n",
    "    return X, y"
   ]
  },
  {
   "cell_type": "code",
   "execution_count": 45,
   "metadata": {},
   "outputs": [],
   "source": [
    "df = pd.read_csv(\"../datasets/diabetes.csv\")"
   ]
  },
  {
   "cell_type": "code",
   "execution_count": 46,
   "metadata": {},
   "outputs": [
    {
     "name": "stdout",
     "output_type": "stream",
     "text": [
      "##################### Shape #####################\n",
      "(768, 9)\n",
      "##################### Types #####################\n",
      "Pregnancies                   int64\n",
      "Glucose                       int64\n",
      "BloodPressure                 int64\n",
      "SkinThickness                 int64\n",
      "Insulin                       int64\n",
      "BMI                         float64\n",
      "DiabetesPedigreeFunction    float64\n",
      "Age                           int64\n",
      "Outcome                       int64\n",
      "dtype: object\n",
      "##################### Info #####################\n",
      "<class 'pandas.core.frame.DataFrame'>\n",
      "RangeIndex: 768 entries, 0 to 767\n",
      "Data columns (total 9 columns):\n",
      " #   Column                    Non-Null Count  Dtype  \n",
      "---  ------                    --------------  -----  \n",
      " 0   Pregnancies               768 non-null    int64  \n",
      " 1   Glucose                   768 non-null    int64  \n",
      " 2   BloodPressure             768 non-null    int64  \n",
      " 3   SkinThickness             768 non-null    int64  \n",
      " 4   Insulin                   768 non-null    int64  \n",
      " 5   BMI                       768 non-null    float64\n",
      " 6   DiabetesPedigreeFunction  768 non-null    float64\n",
      " 7   Age                       768 non-null    int64  \n",
      " 8   Outcome                   768 non-null    int64  \n",
      "dtypes: float64(2), int64(7)\n",
      "memory usage: 54.1 KB\n",
      "None\n",
      "##################### Head #####################\n",
      "   Pregnancies  Glucose  BloodPressure  SkinThickness  Insulin   BMI  \\\n",
      "0            6      148             72             35        0  33.6   \n",
      "1            1       85             66             29        0  26.6   \n",
      "2            8      183             64              0        0  23.3   \n",
      "3            1       89             66             23       94  28.1   \n",
      "4            0      137             40             35      168  43.1   \n",
      "\n",
      "   DiabetesPedigreeFunction  Age  Outcome  \n",
      "0                     0.627   50        1  \n",
      "1                     0.351   31        0  \n",
      "2                     0.672   32        1  \n",
      "3                     0.167   21        0  \n",
      "4                     2.288   33        1  \n",
      "##################### Tail #####################\n",
      "     Pregnancies  Glucose  BloodPressure  SkinThickness  Insulin   BMI  \\\n",
      "763           10      101             76             48      180  32.9   \n",
      "764            2      122             70             27        0  36.8   \n",
      "765            5      121             72             23      112  26.2   \n",
      "766            1      126             60              0        0  30.1   \n",
      "767            1       93             70             31        0  30.4   \n",
      "\n",
      "     DiabetesPedigreeFunction  Age  Outcome  \n",
      "763                     0.171   63        0  \n",
      "764                     0.340   27        0  \n",
      "765                     0.245   30        0  \n",
      "766                     0.349   47        1  \n",
      "767                     0.315   23        0  \n",
      "##################### Null Values #####################\n",
      "Pregnancies                 0\n",
      "Glucose                     0\n",
      "BloodPressure               0\n",
      "SkinThickness               0\n",
      "Insulin                     0\n",
      "BMI                         0\n",
      "DiabetesPedigreeFunction    0\n",
      "Age                         0\n",
      "Outcome                     0\n",
      "dtype: int64\n",
      "##################### Quantiles #####################\n",
      "                            0.00      0.05      0.50       0.95       0.99  \\\n",
      "Pregnancies                0.000   0.00000    3.0000   10.00000   13.00000   \n",
      "Glucose                    0.000  79.00000  117.0000  181.00000  196.00000   \n",
      "BloodPressure              0.000  38.70000   72.0000   90.00000  106.00000   \n",
      "SkinThickness              0.000   0.00000   23.0000   44.00000   51.33000   \n",
      "Insulin                    0.000   0.00000   30.5000  293.00000  519.90000   \n",
      "BMI                        0.000  21.80000   32.0000   44.39500   50.75900   \n",
      "DiabetesPedigreeFunction   0.078   0.14035    0.3725    1.13285    1.69833   \n",
      "Age                       21.000  21.00000   29.0000   58.00000   67.00000   \n",
      "Outcome                    0.000   0.00000    0.0000    1.00000    1.00000   \n",
      "\n",
      "                            1.00  \n",
      "Pregnancies                17.00  \n",
      "Glucose                   199.00  \n",
      "BloodPressure             122.00  \n",
      "SkinThickness              99.00  \n",
      "Insulin                   846.00  \n",
      "BMI                        67.10  \n",
      "DiabetesPedigreeFunction    2.42  \n",
      "Age                        81.00  \n",
      "Outcome                     1.00  \n"
     ]
    }
   ],
   "source": [
    "check_df(df)"
   ]
  },
  {
   "cell_type": "code",
   "execution_count": 47,
   "metadata": {},
   "outputs": [
    {
     "name": "stdout",
     "output_type": "stream",
     "text": [
      "Observations: 768\n",
      "Variables: 13\n",
      "cat_cols: 5\n",
      "num_cols: 8\n",
      "cat_but_car: 0\n",
      "num_but_cat: 1\n",
      "Observations: 768\n",
      "Variables: 17\n",
      "cat_cols: 9\n",
      "num_cols: 8\n",
      "cat_but_car: 0\n",
      "num_but_cat: 1\n"
     ]
    }
   ],
   "source": [
    "X, y = diabetes_data_prep(df)"
   ]
  },
  {
   "cell_type": "code",
   "execution_count": 48,
   "metadata": {},
   "outputs": [
    {
     "name": "stdout",
     "output_type": "stream",
     "text": [
      "##################### Shape #####################\n",
      "(768, 16)\n",
      "##################### Types #####################\n",
      "PREGNANCIES                    float64\n",
      "GLUCOSE                        float64\n",
      "BLOODPRESSURE                  float64\n",
      "SKINTHICKNESS                  float64\n",
      "INSULIN                        float64\n",
      "BMI                            float64\n",
      "DIABETESPEDIGREEFUNCTION       float64\n",
      "AGE                            float64\n",
      "NEW_GLUCOSE_CAT_PREDIABETES      uint8\n",
      "NEW_AGE_CAT_OLD                  uint8\n",
      "NEW_AGE_CAT_YOUNG                uint8\n",
      "NEW_BMI_RANGE_HEALTY             uint8\n",
      "NEW_BMI_RANGE_OVERWEIGHT         uint8\n",
      "NEW_BMI_RANGE_OBESE              uint8\n",
      "NEW_BLOODPRESSURE_HS1            uint8\n",
      "NEW_BLOODPRESSURE_HS2            uint8\n",
      "dtype: object\n",
      "##################### Info #####################\n",
      "<class 'pandas.core.frame.DataFrame'>\n",
      "RangeIndex: 768 entries, 0 to 767\n",
      "Data columns (total 16 columns):\n",
      " #   Column                       Non-Null Count  Dtype  \n",
      "---  ------                       --------------  -----  \n",
      " 0   PREGNANCIES                  768 non-null    float64\n",
      " 1   GLUCOSE                      768 non-null    float64\n",
      " 2   BLOODPRESSURE                768 non-null    float64\n",
      " 3   SKINTHICKNESS                768 non-null    float64\n",
      " 4   INSULIN                      768 non-null    float64\n",
      " 5   BMI                          768 non-null    float64\n",
      " 6   DIABETESPEDIGREEFUNCTION     768 non-null    float64\n",
      " 7   AGE                          768 non-null    float64\n",
      " 8   NEW_GLUCOSE_CAT_PREDIABETES  768 non-null    uint8  \n",
      " 9   NEW_AGE_CAT_OLD              768 non-null    uint8  \n",
      " 10  NEW_AGE_CAT_YOUNG            768 non-null    uint8  \n",
      " 11  NEW_BMI_RANGE_HEALTY         768 non-null    uint8  \n",
      " 12  NEW_BMI_RANGE_OVERWEIGHT     768 non-null    uint8  \n",
      " 13  NEW_BMI_RANGE_OBESE          768 non-null    uint8  \n",
      " 14  NEW_BLOODPRESSURE_HS1        768 non-null    uint8  \n",
      " 15  NEW_BLOODPRESSURE_HS2        768 non-null    uint8  \n",
      "dtypes: float64(8), uint8(8)\n",
      "memory usage: 54.1 KB\n",
      "None\n",
      "##################### Head #####################\n",
      "   PREGNANCIES   GLUCOSE  BLOODPRESSURE  SKINTHICKNESS   INSULIN       BMI  \\\n",
      "0     0.639947  0.848324       0.149641       0.907270 -0.787602  0.204013   \n",
      "1    -0.844885 -1.123396      -0.160546       0.530902 -0.787602 -0.684422   \n",
      "2     1.233880  1.943724      -0.263941      -1.288212 -0.787602 -1.103255   \n",
      "3    -0.844885 -0.998208      -0.160546       0.154533  0.217583 -0.494043   \n",
      "4    -1.141852  0.504055      -1.504687       0.907270  1.008900  1.409746   \n",
      "\n",
      "   DIABETESPEDIGREEFUNCTION       AGE  NEW_GLUCOSE_CAT_PREDIABETES  \\\n",
      "0                  0.468492  1.425995                            1   \n",
      "1                 -0.365061 -0.190672                            0   \n",
      "2                  0.604397 -0.105584                            1   \n",
      "3                 -0.920763 -1.041549                            0   \n",
      "4                  5.484909 -0.020496                            0   \n",
      "\n",
      "   NEW_AGE_CAT_OLD  NEW_AGE_CAT_YOUNG  NEW_BMI_RANGE_HEALTY  \\\n",
      "0                0                  0                     0   \n",
      "1                0                  1                     0   \n",
      "2                0                  1                     1   \n",
      "3                0                  1                     0   \n",
      "4                0                  1                     0   \n",
      "\n",
      "   NEW_BMI_RANGE_OVERWEIGHT  NEW_BMI_RANGE_OBESE  NEW_BLOODPRESSURE_HS1  \\\n",
      "0                         0                    1                      0   \n",
      "1                         1                    0                      0   \n",
      "2                         0                    0                      0   \n",
      "3                         1                    0                      0   \n",
      "4                         0                    1                      0   \n",
      "\n",
      "   NEW_BLOODPRESSURE_HS2  \n",
      "0                      0  \n",
      "1                      0  \n",
      "2                      0  \n",
      "3                      0  \n",
      "4                      0  \n",
      "##################### Tail #####################\n",
      "     PREGNANCIES   GLUCOSE  BLOODPRESSURE  SKINTHICKNESS   INSULIN       BMI  \\\n",
      "763     1.827813 -0.622642       0.356432       1.722735  1.137221  0.115169   \n",
      "764    -0.547919  0.034598       0.046245       0.405445 -0.787602  0.610154   \n",
      "765     0.342981  0.003301       0.149641       0.154533  0.410066 -0.735190   \n",
      "766    -0.844885  0.159787      -0.470732      -1.288212 -0.787602 -0.240205   \n",
      "767    -0.844885 -0.873019       0.046245       0.656358 -0.787602 -0.202129   \n",
      "\n",
      "     DIABETESPEDIGREEFUNCTION       AGE  NEW_GLUCOSE_CAT_PREDIABETES  \\\n",
      "763                 -0.908682  2.532136                            0   \n",
      "764                 -0.398282 -0.531023                            0   \n",
      "765                 -0.685193 -0.275760                            0   \n",
      "766                 -0.371101  1.170732                            0   \n",
      "767                 -0.473785 -0.871374                            0   \n",
      "\n",
      "     NEW_AGE_CAT_OLD  NEW_AGE_CAT_YOUNG  NEW_BMI_RANGE_HEALTY  \\\n",
      "763                1                  0                     0   \n",
      "764                0                  1                     0   \n",
      "765                0                  1                     0   \n",
      "766                0                  0                     0   \n",
      "767                0                  1                     0   \n",
      "\n",
      "     NEW_BMI_RANGE_OVERWEIGHT  NEW_BMI_RANGE_OBESE  NEW_BLOODPRESSURE_HS1  \\\n",
      "763                         0                    1                      0   \n",
      "764                         0                    1                      0   \n",
      "765                         1                    0                      0   \n",
      "766                         0                    1                      0   \n",
      "767                         0                    1                      0   \n",
      "\n",
      "     NEW_BLOODPRESSURE_HS2  \n",
      "763                      0  \n",
      "764                      0  \n",
      "765                      0  \n",
      "766                      0  \n",
      "767                      0  \n",
      "##################### Null Values #####################\n",
      "PREGNANCIES                    0\n",
      "GLUCOSE                        0\n",
      "BLOODPRESSURE                  0\n",
      "SKINTHICKNESS                  0\n",
      "INSULIN                        0\n",
      "BMI                            0\n",
      "DIABETESPEDIGREEFUNCTION       0\n",
      "AGE                            0\n",
      "NEW_GLUCOSE_CAT_PREDIABETES    0\n",
      "NEW_AGE_CAT_OLD                0\n",
      "NEW_AGE_CAT_YOUNG              0\n",
      "NEW_BMI_RANGE_HEALTY           0\n",
      "NEW_BMI_RANGE_OVERWEIGHT       0\n",
      "NEW_BMI_RANGE_OBESE            0\n",
      "NEW_BLOODPRESSURE_HS1          0\n",
      "NEW_BLOODPRESSURE_HS2          0\n",
      "dtype: int64\n",
      "##################### Quantiles #####################\n",
      "                                 0.00      0.05      0.50      0.95      0.99  \\\n",
      "PREGNANCIES                 -1.141852 -1.141852 -0.250952  1.827813  2.718712   \n",
      "GLUCOSE                     -3.783654 -1.311179 -0.121888  1.881130  2.350587   \n",
      "BLOODPRESSURE               -3.572597 -1.571894  0.149641  1.080200  1.907364   \n",
      "SKINTHICKNESS               -1.288212 -1.288212  0.154533  1.471822  1.931619   \n",
      "INSULIN                     -0.787602 -0.787602 -0.461451  2.345582  2.614256   \n",
      "BMI                         -4.060474 -1.293634  0.000942  1.574106  2.381820   \n",
      "DIABETESPEDIGREEFUNCTION    -1.189553 -1.001249 -0.300128  1.996219  3.704036   \n",
      "AGE                         -1.041549 -1.041549 -0.360847  2.106697  2.872487   \n",
      "NEW_GLUCOSE_CAT_PREDIABETES  0.000000  0.000000  0.000000  1.000000  1.000000   \n",
      "NEW_AGE_CAT_OLD              0.000000  0.000000  0.000000  1.000000  1.000000   \n",
      "NEW_AGE_CAT_YOUNG            0.000000  0.000000  1.000000  1.000000  1.000000   \n",
      "NEW_BMI_RANGE_HEALTY         0.000000  0.000000  0.000000  1.000000  1.000000   \n",
      "NEW_BMI_RANGE_OVERWEIGHT     0.000000  0.000000  0.000000  1.000000  1.000000   \n",
      "NEW_BMI_RANGE_OBESE          0.000000  0.000000  1.000000  1.000000  1.000000   \n",
      "NEW_BLOODPRESSURE_HS1        0.000000  0.000000  0.000000  1.000000  1.000000   \n",
      "NEW_BLOODPRESSURE_HS2        0.000000  0.000000  0.000000  1.000000  1.000000   \n",
      "\n",
      "                                 1.00  \n",
      "PREGNANCIES                  3.906578  \n",
      "GLUCOSE                      2.444478  \n",
      "BLOODPRESSURE                2.734528  \n",
      "SKINTHICKNESS                4.921866  \n",
      "INSULIN                      2.614256  \n",
      "BMI                          4.455807  \n",
      "DIABETESPEDIGREEFUNCTION     5.883565  \n",
      "AGE                          4.063716  \n",
      "NEW_GLUCOSE_CAT_PREDIABETES  1.000000  \n",
      "NEW_AGE_CAT_OLD              1.000000  \n",
      "NEW_AGE_CAT_YOUNG            1.000000  \n",
      "NEW_BMI_RANGE_HEALTY         1.000000  \n",
      "NEW_BMI_RANGE_OVERWEIGHT     1.000000  \n",
      "NEW_BMI_RANGE_OBESE          1.000000  \n",
      "NEW_BLOODPRESSURE_HS1        1.000000  \n",
      "NEW_BLOODPRESSURE_HS2        1.000000  \n"
     ]
    }
   ],
   "source": [
    "check_df(X)"
   ]
  },
  {
   "cell_type": "markdown",
   "metadata": {},
   "source": [
    "**Dikkat!** *Pipeline Nedir?*\n",
    "\n",
    "Pipeline bir boru hattı demektir. Uc uca boruları ekleyerek belirli bir aktarma işlemini temsil etmektedir. Şu anda pipeline'ımızın ilk borusunu döşemiş olduk. Şimdi diğer boruları da oluşturup, en sonda bütün boruları uç uca ekleyeceğiz."
   ]
  },
  {
   "cell_type": "markdown",
   "metadata": {},
   "source": [
    "## 3. Base Models"
   ]
  },
  {
   "cell_type": "markdown",
   "metadata": {},
   "source": [
    "Burada birçok sınıflandırma modelini hiçbir işlem yapmadan kullanıp base modeller oluşturacağız. Elde ettiğimiz sonuçlara göre 3 tane model belirleyip onlar üzerinden stacking & ensemble learning işlemi yaparak devam edeceğiz."
   ]
  },
  {
   "cell_type": "code",
   "execution_count": 49,
   "metadata": {},
   "outputs": [],
   "source": [
    "def base_models(X, y, scoring=\"roc_auc\"):\n",
    "    print(\"Base Models....\")\n",
    "    classifiers = [('LR', LogisticRegression()),\n",
    "                  ('KNN', KNeighborsClassifier()),\n",
    "                  ('SVC', SVC()),\n",
    "                  ('CART', DecisionTreeClassifier()),\n",
    "                  ('RF', RandomForestClassifier()),\n",
    "                  ('Adaboost', AdaBoostClassifier()),\n",
    "                  ('GBM', GradientBoostingClassifier()),\n",
    "                  ('XGBoost', XGBClassifier(use_label_encoder=False, eval_metric='logloss')),\n",
    "                  ('LightGBM', LGBMClassifier()),\n",
    "                  # ('CatBoost', CatBoostClassifier(verbose=True))\n",
    "                  ]\n",
    "                   \n",
    "    for name, classifier in classifiers:\n",
    "        cv_results = cross_validate(classifier, X, y, cv=3, scoring=scoring)\n",
    "        print(f\"{scoring}: {round(cv_results['test_score'].mean(), 4)} ({name})\")"
   ]
  },
  {
   "cell_type": "code",
   "execution_count": 50,
   "metadata": {},
   "outputs": [
    {
     "name": "stdout",
     "output_type": "stream",
     "text": [
      "Base Models....\n",
      "roc_auc: 0.8409 (LR)\n",
      "roc_auc: 0.791 (KNN)\n",
      "roc_auc: 0.8355 (SVC)\n",
      "roc_auc: 0.6539 (CART)\n",
      "roc_auc: 0.8267 (RF)\n",
      "roc_auc: 0.8196 (Adaboost)\n",
      "roc_auc: 0.8243 (GBM)\n",
      "roc_auc: 0.8015 (XGBoost)\n",
      "roc_auc: 0.807 (LightGBM)\n"
     ]
    }
   ],
   "source": [
    "base_models(X, y)"
   ]
  },
  {
   "cell_type": "markdown",
   "metadata": {},
   "source": [
    "İstersek diğer metrikler için de skorları görebiliriz."
   ]
  },
  {
   "cell_type": "code",
   "execution_count": 51,
   "metadata": {},
   "outputs": [
    {
     "name": "stdout",
     "output_type": "stream",
     "text": [
      "Base Models....\n",
      "accuracy: 0.7604 (LR)\n",
      "accuracy: 0.7617 (KNN)\n",
      "accuracy: 0.7656 (SVC)\n",
      "accuracy: 0.6862 (CART)\n",
      "accuracy: 0.7695 (RF)\n",
      "accuracy: 0.7578 (Adaboost)\n",
      "accuracy: 0.7474 (GBM)\n",
      "accuracy: 0.7448 (XGBoost)\n",
      "accuracy: 0.7383 (LightGBM)\n"
     ]
    }
   ],
   "source": [
    "base_models(X, y, scoring=\"accuracy\")"
   ]
  },
  {
   "cell_type": "code",
   "execution_count": 52,
   "metadata": {},
   "outputs": [
    {
     "name": "stdout",
     "output_type": "stream",
     "text": [
      "Base Models....\n",
      "f1: 0.6233 (LR)\n",
      "f1: 0.6269 (KNN)\n",
      "f1: 0.6269 (SVC)\n",
      "f1: 0.5339 (CART)\n",
      "f1: 0.642 (RF)\n",
      "f1: 0.637 (Adaboost)\n",
      "f1: 0.6139 (GBM)\n",
      "f1: 0.6289 (XGBoost)\n",
      "f1: 0.605 (LightGBM)\n"
     ]
    }
   ],
   "source": [
    "base_models(X, y, scoring=\"f1\")"
   ]
  },
  {
   "cell_type": "markdown",
   "metadata": {},
   "source": [
    "## 4. Automated Hyperparameter Optimization"
   ]
  },
  {
   "cell_type": "markdown",
   "metadata": {},
   "source": [
    "Bu kısımda birden fazla modelin, birden fazla arama görevini yine bir fonksiyon tanımlayarak otomatik bir şekilde gerçekleştirmeye çalışacağız.\n",
    "\n",
    "**Dikkat!** Biz bir pipeline oluşturacağız. Bu pipeline'nın amacı, bir makine öğrenmesi sürecini fonksiyonel bir formda belirli noktalardan müdahale edilebilir bir şekilde tanımlamak. Burada parçaları ayrı ayrı, ufak ufak tanımlamanın altyapısını hazırlıyoruz. Veri önişlemeyi tanımladık, hazırladık. Şimdi diğer bölümlere geçiyoruz. Burada birkaç farklı yol geliştiricinin tercih edebileceği şekilde biçimlenebilir. Örneğin bütün bir script'i tek bir dosyada tutabiliriz ya da biraz daha karmaşıklaştırmayı göze alarak eğer mümkün olduğu kadar genellenebilir fonksiyonlarsa karmaşıklaştırmayı göze almak anlamlı olabilir çünkü başka ihtiyaçlar için de kullanılabilir, ama genelde belirli bir makine öğrenmesi için oluşturulan pipeline o proje özelindedir, genellenebilirliği düşüktür. Bundan dolayı bütün o parça parça boruları ayrı ayrı scriptlerde tutup çağırmak ya da çağırmamak bir soru işaretidir. \n",
    "\n",
    "Yani bütün bu pipeline'ı tek bir python dosyası yani scriptinde oluşturabiliriz, ya da bunları da aslında ayrı ayrı python scriptlerinde oluşturabiliriz ve sonra bir scriptten bunları çağırabiliriz. Biz birarada kullanmayı tercih ediyoruz."
   ]
  },
  {
   "cell_type": "markdown",
   "metadata": {},
   "source": [
    "Şimdi base modelde kullandığımız yöntemler arasından bazı yöntemleri seçmek istediğimizi düşünelim. "
   ]
  },
  {
   "cell_type": "code",
   "execution_count": 53,
   "metadata": {},
   "outputs": [],
   "source": [
    "knn_params = {\"n_neighbors\": range(2,20)}\n",
    "\n",
    "cart_params = {\"max_depth\": range(1, 20),\n",
    "              \"min_samples_split\": range(2, 30)}\n",
    "\n",
    "rf_params = {\"max_depth\": [8, 15, None],\n",
    "            \"max_features\": [5, 7, \"auto\"],\n",
    "            \"min_samples_split\": [15, 20],\n",
    "            \"n_estimators\": [200, 300]}\n",
    "\n",
    "xgboost_params = {\"learning_rate\": [0.1, 0.01],\n",
    "                 \"max_depth\": [5, 8],\n",
    "                 \"n_estimators\": [100, 200],\n",
    "                 \"colsample_bytree\": [0.5, 1]}\n",
    "\n",
    "lightgbm_params = {\"learning_rate\": [0.01, 0.1],\n",
    "                  \"n_estimators\": [300, 500],\n",
    "                  \"colsample_bytree\": [0.7, 1]}"
   ]
  },
  {
   "cell_type": "code",
   "execution_count": 54,
   "metadata": {},
   "outputs": [],
   "source": [
    "classifiers = [('KNN', KNeighborsClassifier(), knn_params),\n",
    "              ('CART', DecisionTreeClassifier(), cart_params),\n",
    "              ('RF', RandomForestClassifier(), rf_params),\n",
    "              ('XGBoost', XGBClassifier(use_label_encoder=False, eval_metric='logloss'), xgboost_params),\n",
    "              ('LightGBM', LGBMClassifier(), lightgbm_params)]"
   ]
  },
  {
   "cell_type": "markdown",
   "metadata": {},
   "source": [
    "Şimdi öyle bir fonksiyon hazırlamamız gerekiyor ki, yukarıdaki oluşturduğumuz listeleri kullanarak, her bir model için denenecek parametreleri otomatik olarak yapsın ve raporlasın."
   ]
  },
  {
   "cell_type": "code",
   "execution_count": 55,
   "metadata": {},
   "outputs": [],
   "source": [
    "def hyperparameter_optimization(X, y, cv=3, scoring=\"roc_auc\"):\n",
    "    print(\"Hyperparameter Optimization....\")\n",
    "    best_models = {}\n",
    "    \n",
    "    for name, classifier, params in classifiers:\n",
    "        print(f\"########## {name} ##########\")\n",
    "        cv_results = cross_validate(classifier, X, y, cv=cv, scoring=scoring)\n",
    "        print(f\"{scoring} (Before): {round(cv_results['test_score'].mean(), 4)}\")\n",
    "        \n",
    "        gs_best = GridSearchCV(classifier, params, cv=cv, n_jobs=-1, verbose=False).fit(X, y)\n",
    "        final_model = classifier.set_params(**gs_best.best_params_)\n",
    "        \n",
    "        cv_results = cross_validate(final_model, X, y, cv=cv, scoring=scoring)\n",
    "        print(f\"{scoring} (After): {round(cv_results['test_score'].mean(), 4)}\")\n",
    "        print(f\"{name} best params: {gs_best.best_params_}\", end=\"\\n\\n\")\n",
    "        best_models[name] = final_model\n",
    "    return best_models"
   ]
  },
  {
   "cell_type": "code",
   "execution_count": 56,
   "metadata": {},
   "outputs": [
    {
     "name": "stdout",
     "output_type": "stream",
     "text": [
      "Hyperparameter Optimization....\n",
      "########## KNN ##########\n",
      "roc_auc (Before): 0.791\n",
      "roc_auc (After): 0.8201\n",
      "KNN best params: {'n_neighbors': 18}\n",
      "\n",
      "########## CART ##########\n",
      "roc_auc (Before): 0.6647\n",
      "roc_auc (After): 0.7943\n",
      "CART best params: {'max_depth': 6, 'min_samples_split': 23}\n",
      "\n",
      "########## RF ##########\n",
      "roc_auc (Before): 0.8176\n",
      "roc_auc (After): 0.8355\n",
      "RF best params: {'max_depth': None, 'max_features': 5, 'min_samples_split': 15, 'n_estimators': 300}\n",
      "\n",
      "########## XGBoost ##########\n",
      "roc_auc (Before): 0.8015\n",
      "roc_auc (After): 0.8254\n",
      "XGBoost best params: {'colsample_bytree': 0.5, 'learning_rate': 0.1, 'max_depth': 5, 'n_estimators': 100}\n",
      "\n",
      "########## LightGBM ##########\n",
      "roc_auc (Before): 0.807\n",
      "roc_auc (After): 0.8221\n",
      "LightGBM best params: {'colsample_bytree': 0.7, 'learning_rate': 0.01, 'n_estimators': 300}\n",
      "\n"
     ]
    }
   ],
   "source": [
    "best_models = hyperparameter_optimization(X, y)"
   ]
  },
  {
   "cell_type": "code",
   "execution_count": 57,
   "metadata": {},
   "outputs": [
    {
     "data": {
      "text/plain": [
       "{'KNN': KNeighborsClassifier(n_neighbors=18),\n",
       " 'CART': DecisionTreeClassifier(max_depth=6, min_samples_split=23),\n",
       " 'RF': RandomForestClassifier(max_features=5, min_samples_split=15, n_estimators=300),\n",
       " 'XGBoost': XGBClassifier(base_score=None, booster=None, colsample_bylevel=None,\n",
       "               colsample_bynode=None, colsample_bytree=0.5,\n",
       "               enable_categorical=False, eval_metric='logloss', gamma=None,\n",
       "               gpu_id=None, importance_type=None, interaction_constraints=None,\n",
       "               learning_rate=0.1, max_delta_step=None, max_depth=5,\n",
       "               min_child_weight=None, missing=nan, monotone_constraints=None,\n",
       "               n_estimators=100, n_jobs=None, num_parallel_tree=None,\n",
       "               predictor=None, random_state=None, reg_alpha=None,\n",
       "               reg_lambda=None, scale_pos_weight=None, subsample=None,\n",
       "               tree_method=None, use_label_encoder=False,\n",
       "               validate_parameters=None, verbosity=None),\n",
       " 'LightGBM': LGBMClassifier(colsample_bytree=0.7, learning_rate=0.01, n_estimators=300)}"
      ]
     },
     "execution_count": 57,
     "metadata": {},
     "output_type": "execute_result"
    }
   ],
   "source": [
    "best_models"
   ]
  },
  {
   "cell_type": "markdown",
   "metadata": {},
   "source": [
    "## 5. Stacking & Ensemble Learning "
   ]
  },
  {
   "cell_type": "markdown",
   "metadata": {},
   "source": [
    "Stacking & ensemble temeli, birden fazla modeli birarada kullanmaya dayanmaktadır. Buradaki algoritmanın kendi içindeki çalışma prensibi yerine birden fazla algoritmanın biraraya gelerek bu işlemleri yapması işlemlerine stacking learning, ensemble learning, meta learning gibi isimlendirmeler yapılmaktadır. Bunun bir diğer isimlendirmesi de '*Voting*'dir."
   ]
  },
  {
   "cell_type": "markdown",
   "metadata": {},
   "source": [
    "Bu işlem için VotingClassifier metodunu kullanacağız. Bunun aynı zamanda regressor olan metodu da var. VotingClassifier'ın *voting* adında bir parametresi bulunuyor. İki değer alabilir *soft* ve *hard*. Ön tanımlı değeri hard'dır. hard, örnek olarak üç tane model kullanacaksak bu üç modelden ikisi 1 diğeri 0 tahminini yaparsa, en çok oy alınan sınıfı seçer yani 1'i. Soft ise, sınıf gerçekleşme olasılıkları üzerinden bir oylama yapılır. Biz default değeri olan hard'ı kullanacağız."
   ]
  },
  {
   "cell_type": "code",
   "execution_count": 58,
   "metadata": {},
   "outputs": [],
   "source": [
    "def voting_classifier(best_models, X, y):\n",
    "    print(\"Voting Classifier....\")\n",
    "    \n",
    "    voting_clf = VotingClassifier(estimators=[('KNN', best_models[\"KNN\"]),\n",
    "                                             ('RF', best_models[\"RF\"]),\n",
    "                                             ('LightGBM', best_models[\"LightGBM\"])],\n",
    "                                 voting='soft').fit(X, y)\n",
    "    \n",
    "    cv_results = cross_validate(voting_clf, X, y, cv=3, scoring=[\"accuracy\", \"f1\", \"roc_auc\"])\n",
    "    print(f\"Accuracy: {cv_results['test_accuracy'].mean()}\")\n",
    "    print(f\"F1 Score: {cv_results['test_f1'].mean()}\")\n",
    "    print(f\"ROC_AUC: {cv_results['test_roc_auc'].mean()}\")\n",
    "    return voting_clf"
   ]
  },
  {
   "cell_type": "code",
   "execution_count": 59,
   "metadata": {},
   "outputs": [
    {
     "name": "stdout",
     "output_type": "stream",
     "text": [
      "Voting Classifier....\n",
      "Accuracy: 0.76953125\n",
      "F1 Score: 0.6324610819643933\n",
      "ROC_AUC: 0.8378014784023398\n"
     ]
    }
   ],
   "source": [
    "voting_clf = voting_classifier(best_models, X, y)"
   ]
  },
  {
   "cell_type": "markdown",
   "metadata": {},
   "source": [
    "Bu örneğin, base modellerde ya da hiperparametre optimizasyonlarından sonra belirlemiş olduğumuz en iyi 3 modelin bir araya geldiği son versiyondur. "
   ]
  },
  {
   "cell_type": "markdown",
   "metadata": {},
   "source": [
    "## 6. Prediction for a New Observation"
   ]
  },
  {
   "cell_type": "markdown",
   "metadata": {},
   "source": [
    "VotingClassifier'ımızı oluşturduk. Bu classifier'ı kullanarak tahmin etme işlemini yapalım. Veri seti içerisinden rastgele bir gözlem birimi seçeceğiz ve bu gözlem birimi için bu modeli kullanarak tahmin işlemi gerçekleştireceğiz."
   ]
  },
  {
   "cell_type": "code",
   "execution_count": 60,
   "metadata": {},
   "outputs": [
    {
     "data": {
      "text/plain": [
       "Index(['PREGNANCIES', 'GLUCOSE', 'BLOODPRESSURE', 'SKINTHICKNESS', 'INSULIN',\n",
       "       'BMI', 'DIABETESPEDIGREEFUNCTION', 'AGE', 'NEW_GLUCOSE_CAT_PREDIABETES',\n",
       "       'NEW_AGE_CAT_OLD', 'NEW_AGE_CAT_YOUNG', 'NEW_BMI_RANGE_HEALTY',\n",
       "       'NEW_BMI_RANGE_OVERWEIGHT', 'NEW_BMI_RANGE_OBESE',\n",
       "       'NEW_BLOODPRESSURE_HS1', 'NEW_BLOODPRESSURE_HS2'],\n",
       "      dtype='object')"
      ]
     },
     "execution_count": 60,
     "metadata": {},
     "output_type": "execute_result"
    }
   ],
   "source": [
    "X.columns"
   ]
  },
  {
   "cell_type": "code",
   "execution_count": 61,
   "metadata": {},
   "outputs": [],
   "source": [
    "random_user = X.sample(1, random_state=45)"
   ]
  },
  {
   "cell_type": "code",
   "execution_count": 62,
   "metadata": {},
   "outputs": [
    {
     "data": {
      "text/html": [
       "<div>\n",
       "<style scoped>\n",
       "    .dataframe tbody tr th:only-of-type {\n",
       "        vertical-align: middle;\n",
       "    }\n",
       "\n",
       "    .dataframe tbody tr th {\n",
       "        vertical-align: top;\n",
       "    }\n",
       "\n",
       "    .dataframe thead th {\n",
       "        text-align: right;\n",
       "    }\n",
       "</style>\n",
       "<table border=\"1\" class=\"dataframe\">\n",
       "  <thead>\n",
       "    <tr style=\"text-align: right;\">\n",
       "      <th></th>\n",
       "      <th>PREGNANCIES</th>\n",
       "      <th>GLUCOSE</th>\n",
       "      <th>BLOODPRESSURE</th>\n",
       "      <th>SKINTHICKNESS</th>\n",
       "      <th>INSULIN</th>\n",
       "      <th>BMI</th>\n",
       "      <th>DIABETESPEDIGREEFUNCTION</th>\n",
       "      <th>AGE</th>\n",
       "      <th>NEW_GLUCOSE_CAT_PREDIABETES</th>\n",
       "      <th>NEW_AGE_CAT_OLD</th>\n",
       "      <th>NEW_AGE_CAT_YOUNG</th>\n",
       "      <th>NEW_BMI_RANGE_HEALTY</th>\n",
       "      <th>NEW_BMI_RANGE_OVERWEIGHT</th>\n",
       "      <th>NEW_BMI_RANGE_OBESE</th>\n",
       "      <th>NEW_BLOODPRESSURE_HS1</th>\n",
       "      <th>NEW_BLOODPRESSURE_HS2</th>\n",
       "    </tr>\n",
       "  </thead>\n",
       "  <tbody>\n",
       "    <tr>\n",
       "      <th>195</th>\n",
       "      <td>0.342981</td>\n",
       "      <td>1.161295</td>\n",
       "      <td>0.770014</td>\n",
       "      <td>1.283638</td>\n",
       "      <td>1.458025</td>\n",
       "      <td>0.940144</td>\n",
       "      <td>-0.232176</td>\n",
       "      <td>-0.360847</td>\n",
       "      <td>1</td>\n",
       "      <td>0</td>\n",
       "      <td>1</td>\n",
       "      <td>0</td>\n",
       "      <td>0</td>\n",
       "      <td>1</td>\n",
       "      <td>1</td>\n",
       "      <td>0</td>\n",
       "    </tr>\n",
       "  </tbody>\n",
       "</table>\n",
       "</div>"
      ],
      "text/plain": [
       "     PREGNANCIES   GLUCOSE  BLOODPRESSURE  SKINTHICKNESS   INSULIN       BMI  \\\n",
       "195     0.342981  1.161295       0.770014       1.283638  1.458025  0.940144   \n",
       "\n",
       "     DIABETESPEDIGREEFUNCTION       AGE  NEW_GLUCOSE_CAT_PREDIABETES  \\\n",
       "195                 -0.232176 -0.360847                            1   \n",
       "\n",
       "     NEW_AGE_CAT_OLD  NEW_AGE_CAT_YOUNG  NEW_BMI_RANGE_HEALTY  \\\n",
       "195                0                  1                     0   \n",
       "\n",
       "     NEW_BMI_RANGE_OVERWEIGHT  NEW_BMI_RANGE_OBESE  NEW_BLOODPRESSURE_HS1  \\\n",
       "195                         0                    1                      1   \n",
       "\n",
       "     NEW_BLOODPRESSURE_HS2  \n",
       "195                      0  "
      ]
     },
     "execution_count": 62,
     "metadata": {},
     "output_type": "execute_result"
    }
   ],
   "source": [
    "random_user"
   ]
  },
  {
   "cell_type": "code",
   "execution_count": 63,
   "metadata": {},
   "outputs": [
    {
     "data": {
      "text/plain": [
       "array([1], dtype=int64)"
      ]
     },
     "execution_count": 63,
     "metadata": {},
     "output_type": "execute_result"
    }
   ],
   "source": [
    "voting_clf.predict(random_user)"
   ]
  },
  {
   "cell_type": "markdown",
   "metadata": {},
   "source": [
    "### Modeli Kaydetme"
   ]
  },
  {
   "cell_type": "markdown",
   "metadata": {},
   "source": [
    "Bu çalışmayı kapattıktan sonra modelimizin kaybolmasını istemiyorsak bu modeli kaydetmemiz lazım. "
   ]
  },
  {
   "cell_type": "code",
   "execution_count": 64,
   "metadata": {},
   "outputs": [
    {
     "data": {
      "text/plain": [
       "['voting_clf.pkl']"
      ]
     },
     "execution_count": 64,
     "metadata": {},
     "output_type": "execute_result"
    }
   ],
   "source": [
    "joblib.dump(voting_clf, \"voting_clf.pkl\")"
   ]
  },
  {
   "cell_type": "markdown",
   "metadata": {},
   "source": [
    "Şu anda bu modeli kaydettik. Bu projenin bulunduğu klasör içerisinde kaydedilmiş durumda. Şimdi bunun çalışıp çalışmadığını test etmek amacıyla modeli buraya yükleyelim."
   ]
  },
  {
   "cell_type": "code",
   "execution_count": 65,
   "metadata": {},
   "outputs": [],
   "source": [
    "new_model = joblib.load(\"voting_clf.pkl\")"
   ]
  },
  {
   "cell_type": "markdown",
   "metadata": {},
   "source": [
    "Şu anda model yüklenmiş durumda. Bu modeli kullanarak tahmin etme işlemini gerçekleştirebiliriz."
   ]
  },
  {
   "cell_type": "code",
   "execution_count": 66,
   "metadata": {},
   "outputs": [
    {
     "data": {
      "text/plain": [
       "array([1], dtype=int64)"
      ]
     },
     "execution_count": 66,
     "metadata": {},
     "output_type": "execute_result"
    }
   ],
   "source": [
    "new_model.predict(random_user)"
   ]
  },
  {
   "cell_type": "markdown",
   "metadata": {},
   "source": [
    "Genel bir değerlendirme yaparsak; biz birbirinden farklı base modeller kullandık, işlemimizi tamamladık, yani hepsine genel bir bakış attık. Arasından en iyi birkaç tanesini seçip bunların hiperparametre optimizasyonunu gerçekleştirdik. Ondan sonra da yine seçecek olduğumuz birkaç tanesini bir araya getirerek hepsine fikrini soracağımız bir classifier oluşturduk ve bunu kaydettik. Artık bu çeşitli platformlara entegre edilebilir, çeşitli arayüzlerle web ya da mobil uygulamalarıyla konuşabilir bir forma getirildi.\n",
    "\n",
    "**Dikkat!** Bir machine learning pipeline, bir data science pipeline süreci şu anda bizim ele aldığımız açıdan sadece core yani temel motorunu ifade etmektedir. Yani, başka platformlarla konuşma, çeşitli farklı kaynaklar ile konuşma, bu farklı kaynaklarla konuşma ya da çıktıları farklı kaynaklara da gönderme gibi, bu işin pipeline'nın başka bileşenleri de vardır. Bunlar şu anda kapsamımız dahilinde olmadığından dolayı bunlar olsa dahi işin en core'u aslında en zoru en yorucu kısmı olan  bölümünü hazırlamış olduk. \n",
    "\n",
    "Şu anda bu kısımda projenin research bölümünü tamamlamış olduk. 1 adımımız kaldı Pipeline bölümü, yani bütün bu oluşturduğumuz fonksiyonları bir araya getirme ve bunu artık işletim sistemi seviyesinde çalıştırma işimiz, çalıştırma görevimiz kaldı. Bu işlemi *diabetes_pipeline* dosyasında işliyor olacağız."
   ]
  },
  {
   "cell_type": "code",
   "execution_count": null,
   "metadata": {},
   "outputs": [],
   "source": []
  }
 ],
 "metadata": {
  "kernelspec": {
   "display_name": "Python 3 (ipykernel)",
   "language": "python",
   "name": "python3"
  },
  "language_info": {
   "codemirror_mode": {
    "name": "ipython",
    "version": 3
   },
   "file_extension": ".py",
   "mimetype": "text/x-python",
   "name": "python",
   "nbconvert_exporter": "python",
   "pygments_lexer": "ipython3",
   "version": "3.10.4"
  }
 },
 "nbformat": 4,
 "nbformat_minor": 4
}
